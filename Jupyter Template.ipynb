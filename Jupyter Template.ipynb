{
 "cells": [
  {
   "attachments": {},
   "cell_type": "markdown",
   "metadata": {},
   "source": [
    "# <a id='toc1_'></a>[Statistics & Public Health 2: Data Analysis](#toc0_)\n",
    "\n",
    "Sam Celarek  \n",
    "Data Science   \n",
    "scelarek@gmail.com  \n",
    "\n",
    "June 4th, 2023\n"
   ]
  },
  {
   "attachments": {},
   "cell_type": "markdown",
   "metadata": {},
   "source": [
    "**Table of contents**<a id='toc0_'></a>    \n",
    "- [Statistics & Public Health 2: Data Analysis](#toc1_)    \n",
    "- [1. Introduction](#toc2_)    \n",
    "  - [Key Questions](#toc2_1_)    \n",
    "- [2. Setup and Data Collection](#toc3_)    \n",
    "- [3. Methods and Assumptions](#toc4_)    \n",
    "- [4. Part 1 - Basic Analysis](#toc5_)    \n",
    "  - [4.1. Data Preparation](#toc5_1_)    \n",
    "  - [4.2. Exploratory Data Analysis](#toc5_2_)    \n",
    "- [5. Part 2 - Statistical Analysis](#toc6_)    \n",
    "  - [5.1. Hypothesis Testing](#toc6_1_)    \n",
    "  - [5.2. Correlation Analysis](#toc6_2_)    \n",
    "- [6. Part 3 - Advanced Statistical Analysis](#toc7_)    \n",
    "  - [6.1. Linear Regression](#toc7_1_)    \n",
    "  - [6.2. Logistic Regression](#toc7_2_)    \n",
    "- [7. Conclusion](#toc8_)    \n",
    "- [8. Submission](#toc9_)    \n",
    "\n",
    "<!-- vscode-jupyter-toc-config\n",
    "\tnumbering=false\n",
    "\tanchor=true\n",
    "\tflat=false\n",
    "\tminLevel=1\n",
    "\tmaxLevel=6\n",
    "\t/vscode-jupyter-toc-config -->\n",
    "<!-- THIS CELL WILL BE REPLACED ON TOC UPDATE. DO NOT WRITE YOUR TEXT IN THIS CELL -->"
   ]
  },
  {
   "attachments": {},
   "cell_type": "markdown",
   "metadata": {},
   "source": [
    "# <a id='toc2_'></a>[1. Introduction](#toc0_)\n",
    "\n",
    "In this project, we will perform a set of analyses on the relationship between different variables and the mosquito number, as well as the probability of finding West Nile Virus (WNV) at any particular time and location. \n"
   ]
  },
  {
   "attachments": {},
   "cell_type": "markdown",
   "metadata": {},
   "source": [
    "## <a id='toc2_1_'></a>[1.1. Key Questions](#toc0_)"
   ]
  },
  {
   "attachments": {},
   "cell_type": "markdown",
   "metadata": {},
   "source": [
    "\n",
    "# <a id='toc3_'></a>[2. Setup and Data Collection](#toc0_)\n",
    "\n",
    "We will be utilizing the cleaned mosquito tracking data from the city of Chicago, Illinois, spanning from 2008 to 2019 provided [here](link_to_dataset). This section will include the necessary libraries and modules for the analysis, as well as the data preparation steps.\n"
   ]
  },
  {
   "cell_type": "code",
   "execution_count": 1,
   "metadata": {},
   "outputs": [],
   "source": [
    "# Import necessary libraries\n",
    "import pandas as pd\n",
    "import numpy as np\n",
    "import matplotlib.pyplot as plt\n",
    "import seaborn as sns\n",
    "import datetime as dt\n",
    "import re\n",
    "import pandas as pd\n",
    "import numpy as np\n",
    "import matplotlib.pyplot as plt\n",
    "import seaborn as sns\n",
    "import statsmodels.api as sm\n",
    "from scipy import stats\n",
    "from scipy.stats import norm\n",
    "\n",
    "# initialize styling params\n",
    "plt.rcParams['figure.figsize'] = (8.0, 6.0) #setting figure size\n",
    "\n",
    "# Load the data\n",
    "\n",
    "# Display the first few rows of the dataframe\n"
   ]
  },
  {
   "attachments": {},
   "cell_type": "markdown",
   "metadata": {},
   "source": [
    "\n",
    "# <a id='toc4_'></a>[3. Methods and Assumptions](#toc0_)\n",
    "\n",
    "This section will describe the methods and techniques used in the analysis.\n"
   ]
  },
  {
   "attachments": {},
   "cell_type": "markdown",
   "metadata": {},
   "source": [
    "\n",
    "# <a id='toc5_'></a>[4. Part 1 - Basic Analysis](#toc0_)\n",
    "\n",
    "In this section, we will perform some basic data analysis.\n"
   ]
  },
  {
   "attachments": {},
   "cell_type": "markdown",
   "metadata": {},
   "source": [
    "\n",
    "## <a id='toc5_1_'></a>[4.1. Data Preparation](#toc0_)\n",
    "\n",
    "- Convert the 'WNV Present' column into a binary column\n",
    "- Create dummy variables from the 'Trap type' column\n"
   ]
  },
  {
   "attachments": {},
   "cell_type": "markdown",
   "metadata": {},
   "source": [
    "\n",
    "## <a id='toc5_2_'></a>[4.2. Exploratory Data Analysis](#toc0_)\n",
    "\n",
    "- Calculate the average number of mosquitoes for each month\n",
    "- Identify any noticeable trends\n"
   ]
  },
  {
   "attachments": {},
   "cell_type": "markdown",
   "metadata": {},
   "source": [
    "\n",
    "# <a id='toc6_'></a>[5. Part 2 - Statistical Analysis](#toc0_)\n",
    "\n",
    "In this section, we will perform some statistical analysis on the data.\n"
   ]
  },
  {
   "attachments": {},
   "cell_type": "markdown",
   "metadata": {},
   "source": [
    "\n",
    "## <a id='toc6_1_'></a>[5.1. Hypothesis Testing](#toc0_)\n",
    "\n",
    "- Test for a statistically significant difference between the different mosquito species when looking at the occurrence of West Nile Virus\n"
   ]
  },
  {
   "attachments": {},
   "cell_type": "markdown",
   "metadata": {},
   "source": [
    "\n",
    "## <a id='toc6_2_'></a>[5.2. Correlation Analysis](#toc0_)\n",
    "\n",
    "- Identify columns that are positively correlated with the number of mosquitoes caught\n",
    "- Identify columns that are negatively correlated\n",
    "- Test if these correlations are statistically significant\n"
   ]
  },
  {
   "attachments": {},
   "cell_type": "markdown",
   "metadata": {},
   "source": [
    "\n",
    "# <a id='toc7_'></a>[6. Part 3 - Advanced Statistical Analysis](#toc0_)\n",
    "\n",
    "In this section, we will perform some advanced statistical analysis on the data.\n"
   ]
  },
  {
   "attachments": {},
   "cell_type": "markdown",
   "metadata": {},
   "source": [
    "\n",
    "## <a id='toc7_1_'></a>[6.1. Linear Regression](#toc0_)\n",
    "\n",
    "- Run a linear regression to determine how the independent variables affect the number of mosquitoes caught\n",
    "- Explain the model construction process\n",
    "- Analyze the model and the results\n",
    "- Discuss the model’s limitations\n",
    "\n",
    "Note: You will likely see a low R^2 value, that is to be expected. This dataset does not respond well to performing VIF analysis, so this is not required. 'WNV Present' must not be one of your independent variables.\n"
   ]
  },
  {
   "attachments": {},
   "cell_type": "markdown",
   "metadata": {},
   "source": [
    "\n",
    "## <a id='toc7_2_'></a>[6.2. Logistic Regression](#toc0_)\n",
    "\n",
    "- Run a logistic regression to determine how the independent variables affect West Nile Virus presence\n",
    "- Explain the model construction process\n",
    "- Analyze the model and the results\n",
    "- Discuss the model’s limitations\n",
    "\n",
    "Note: 'Mosquito number' should be one of your independent variables.\n"
   ]
  },
  {
   "attachments": {},
   "cell_type": "markdown",
   "metadata": {},
   "source": [
    "# <a id='toc8_1_'></a>[7. Key Findings](#toc0_)\n",
    "\n",
    "Summarize the findings from the analyses.\n"
   ]
  },
  {
   "attachments": {},
   "cell_type": "markdown",
   "metadata": {},
   "source": [
    "\n",
    "# <a id='toc8_2_'></a>[8. Recommendations](#toc0_)\n",
    "\n"
   ]
  }
 ],
 "metadata": {
  "kernelspec": {
   "display_name": "base",
   "language": "python",
   "name": "python3"
  },
  "language_info": {
   "codemirror_mode": {
    "name": "ipython",
    "version": 3
   },
   "file_extension": ".py",
   "mimetype": "text/x-python",
   "name": "python",
   "nbconvert_exporter": "python",
   "pygments_lexer": "ipython3",
   "version": "3.9.16"
  },
  "orig_nbformat": 4
 },
 "nbformat": 4,
 "nbformat_minor": 2
}

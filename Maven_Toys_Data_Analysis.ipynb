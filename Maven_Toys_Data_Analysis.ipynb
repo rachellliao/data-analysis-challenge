{
  "cells": [
    {
      "attachments": {},
      "cell_type": "markdown",
      "id": "b404c23a",
      "metadata": {},
      "source": [
        "# Loading and Setup"
      ]
    },
    {
      "cell_type": "code",
      "execution_count": null,
      "id": "854d25b5-7241-41e8-b9ea-e1b06e860192",
      "metadata": {
        "ExecuteTime": {
          "end_time": "2023-06-23T09:26:24.355960+00:00",
          "start_time": "2023-06-23T09:26:23.823565+00:00"
        },
        "noteable": {
          "cell_type": "code",
          "output_collection_id": "f14bd0ab-efec-4aad-bb7d-e9f85cffe558"
        }
      },
      "outputs": [],
      "source": [
        "# Import necessary libraries\n",
        "import pandas as pd\n",
        "import numpy as np\n",
        "import matplotlib.pyplot as plt\n",
        "import seaborn as sns\n",
        "import datetime as dt\n",
        "import re\n",
        "\n",
        "# plotting\n",
        "import plotly.express as px\n",
        "from plotly.subplots import make_subplots\n",
        "import plotly.graph_objs as go\n",
        "import matplotlib.pyplot as plt\n",
        "import seaborn as sns\n",
        "\n",
        "# stats\n",
        "from statsmodels.api import tsa # time series analysis\n",
        "import statsmodels.api as sm\n",
        "\n",
        "import statsmodels.api as sm\n",
        "!pip install pmdarima\n",
        "from pmdarima.arima import auto_arima\n",
        "from statsmodels.tsa.statespace.sarimax import SARIMAX\n",
        "from sklearn.metrics import mean_absolute_error\n",
        "from sklearn import metrics\n"
      ]
    },
    {
      "cell_type": "code",
      "execution_count": null,
      "id": "8cc017b6",
      "metadata": {},
      "outputs": [],
      "source": [
        "maven_df = pd.read_pickle('Data/maven_toys.pkl')"
      ]
    },
    {
      "attachments": {},
      "cell_type": "markdown",
      "id": "1374ec65",
      "metadata": {},
      "source": [
        "# Assessment"
      ]
    },
    {
      "cell_type": "code",
      "execution_count": null,
      "id": "a3d462e7-5689-4f71-910f-b12eac28f6f0",
      "metadata": {
        "ExecuteTime": {
          "end_time": "2023-06-23T09:26:46.753855+00:00",
          "start_time": "2023-06-23T09:26:41.786007+00:00"
        },
        "noteable": {
          "cell_type": "code",
          "output_collection_id": "4893dead-0543-44d8-beb9-fea129ae4322"
        }
      },
      "outputs": [],
      "source": [
        "maven_df.tail()"
      ]
    },
    {
      "cell_type": "code",
      "execution_count": null,
      "id": "7a01aac4-8288-4706-b6ae-a28ce8133b8f",
      "metadata": {
        "ExecuteTime": {
          "end_time": "2023-06-23T09:28:46.927346+00:00",
          "start_time": "2023-06-23T09:28:46.765124+00:00"
        },
        "noteable": {
          "cell_type": "code",
          "output_collection_id": "5042ff0e-ade4-4428-bb07-6a629203f0bd"
        }
      },
      "outputs": [],
      "source": [
        "# Check the shape of the maven_dfFrame\n",
        "maven_df.nunique()"
      ]
    },
    {
      "cell_type": "code",
      "execution_count": null,
      "id": "4b5b4df0-2657-4f8e-8d9a-4da80f4ac626",
      "metadata": {
        "ExecuteTime": {
          "end_time": "2023-06-23T09:29:07.332080+00:00",
          "start_time": "2023-06-23T09:29:05.719729+00:00"
        },
        "noteable": {
          "cell_type": "code",
          "output_collection_id": "0a7de158-db7f-4825-ae5f-94ae0eccac9d"
        }
      },
      "outputs": [],
      "source": [
        "# Check the data types and missing values\n",
        "maven_df.info()"
      ]
    },
    {
      "cell_type": "code",
      "execution_count": null,
      "id": "eee88161-97cb-485d-a5e6-490c364a7f89",
      "metadata": {
        "ExecuteTime": {
          "end_time": "2023-06-23T09:29:41.064921+00:00",
          "start_time": "2023-06-23T09:29:39.563198+00:00"
        },
        "datalink": {
          "887e2f16-d76a-49c3-a2e4-2129b5859879": {
            "applied_filters": [],
            "dataframe_info": {
              "default_index_used": false,
              "orig_num_cols": 1,
              "orig_num_rows": 16,
              "orig_size_bytes": 256,
              "truncated_num_cols": 1,
              "truncated_num_rows": 16,
              "truncated_size_bytes": 256,
              "truncated_string_columns": []
            },
            "display_id": "887e2f16-d76a-49c3-a2e4-2129b5859879",
            "dx_settings": {
              "ALLOW_NOTEABLE_ATTRS": true,
              "COLUMN_SAMPLING_METHOD": "outer",
              "DB_LOCATION": ":memory:",
              "DEV_MODE": false,
              "DISPLAY_MAX_COLUMNS": 100,
              "DISPLAY_MAX_ROWS": 50000,
              "DISPLAY_MODE": "simple",
              "ENABLE_ASSIGNMENT": true,
              "ENABLE_DATALINK": true,
              "FLATTEN_COLUMN_VALUES": true,
              "FLATTEN_INDEX_VALUES": false,
              "GENERATE_DEX_METADATA": false,
              "HTML_TABLE_SCHEMA": false,
              "LOG_LEVEL": 30,
              "MAX_RENDER_SIZE_BYTES": 104857600,
              "MAX_STRING_LENGTH": 250,
              "NUM_PAST_SAMPLES_TRACKED": 3,
              "RANDOM_STATE": 12648430,
              "RESET_INDEX_VALUES": false,
              "ROW_SAMPLING_METHOD": "random",
              "SAMPLING_FACTOR": 0.1,
              "SAMPLING_METHOD": "random",
              "STRINGIFY_COLUMN_VALUES": true,
              "STRINGIFY_INDEX_VALUES": false
            },
            "sample_history": [],
            "sampling_time": "2023-06-23T09:29:40.909060",
            "user_variable_name": null,
            "variable_name": "unk_dataframe_19ee9d3c09c5452ea77666f67368e0df"
          }
        },
        "noteable": {
          "cell_type": "code",
          "output_collection_id": "1e004af6-49b0-4543-88cb-0513b617979e"
        }
      },
      "outputs": [],
      "source": [
        "# Fill missing values in 'Customer_Satisfaction' with the median\n",
        "# maven_df['Customer_Satisfaction'].fillna(maven_df['Customer_Satisfaction'].median(), inplace=True)\n",
        "\n",
        "# Check if there are any missing values left\n",
        "maven_df.isnull().sum()"
      ]
    },
    {
      "cell_type": "code",
      "execution_count": null,
      "id": "64a2cc9e",
      "metadata": {},
      "outputs": [],
      "source": [
        "# Checking for duplicates\n",
        "maven_df.duplicated().sum()\n",
        "\n"
      ]
    },
    {
      "attachments": {},
      "cell_type": "markdown",
      "id": "f5c33a20",
      "metadata": {},
      "source": [
        "# Cleaning"
      ]
    },
    {
      "cell_type": "code",
      "execution_count": null,
      "id": "b598fae9",
      "metadata": {},
      "outputs": [],
      "source": [
        "# Convert 'Date' and 'Store_Open_Date' to datetime type\n",
        "maven_df['Date'] = pd.to_datetime(maven_df['Date'])\n",
        "maven_df['Store_Open_Date'] = pd.to_datetime(maven_df['Store_Open_Date'])\n",
        "maven_df['Product_Price'] = maven_df['Product_Price'].str.replace('$', '').astype(float)\n",
        "maven_df['Product_Cost'] = maven_df['Product_Cost'].str.replace('$', '').astype(float)\n",
        "maven_df['Product_Category'] = maven_df['Product_Category'].astype('category')\n",
        "maven_df['Store_Location'] = maven_df['Store_Location'].astype('category')\n",
        "maven_df['Customer_Reference'] = maven_df['Customer_Reference'].astype('category')\n",
        "maven_df['Sale_ID'] = maven_df['Sale_ID'].astype(str)\n",
        "maven_df['Store_ID'] = maven_df['Store_ID'].astype(str)\n",
        "maven_df['Product_ID'] = maven_df['Product_ID'].astype(str)\n",
        "\n",
        "# Extract the month and year from the 'Date' column\n",
        "maven_df['YearMonth'] = maven_df['Date'].dt.to_period('M')\n",
        "\n",
        "# Check the maven_df types again to confirm\n",
        "maven_df.dtypes"
      ]
    },
    {
      "attachments": {},
      "cell_type": "markdown",
      "id": "03c7189b",
      "metadata": {},
      "source": [
        "## Feature Engineering"
      ]
    },
    {
      "cell_type": "code",
      "execution_count": null,
      "id": "62816e3e",
      "metadata": {},
      "outputs": [],
      "source": [
        "\n",
        "maven_df['Price_Bins'] = pd.cut(maven_df['Product_Price'], bins=5, labels=['medium-low', 'low', 'medium', 'high', 'medium-high'])\n",
        "maven_df['Product_profit'] = maven_df['Units'] * (maven_df['Product_Price'] - maven_df['Product_Cost'])\n",
        "\n",
        "maven_df['Growth_Potential_1'] = maven_df.Product_profit * maven_df.Customer_Satisfaction\n",
        "maven_df['Profit_Ratio'] = maven_df.Product_Price / maven_df.Product_Cost \n",
        "maven_df['Growth_Potential_2'] = maven_df.Profit_Ratio * maven_df.Customer_Satisfaction\n",
        "\n",
        "maven_df\n",
        "\n",
        "\n"
      ]
    },
    {
      "attachments": {},
      "cell_type": "markdown",
      "id": "031dc933",
      "metadata": {},
      "source": [
        "# EDA"
      ]
    },
    {
      "cell_type": "code",
      "execution_count": null,
      "id": "8ba36d23-f417-440a-8ff1-ba07ab4ad47c",
      "metadata": {
        "ExecuteTime": {
          "end_time": "2023-06-23T09:30:28.676771+00:00",
          "start_time": "2023-06-23T09:30:28.409975+00:00"
        },
        "datalink": {
          "483b0d79-5616-45ba-b96c-5d19f38f26f2": {
            "applied_filters": [],
            "dataframe_info": {
              "default_index_used": false,
              "orig_num_cols": 1,
              "orig_num_rows": 10,
              "orig_size_bytes": 160,
              "truncated_num_cols": 1,
              "truncated_num_rows": 10,
              "truncated_size_bytes": 160,
              "truncated_string_columns": []
            },
            "display_id": "483b0d79-5616-45ba-b96c-5d19f38f26f2",
            "dx_settings": {
              "ALLOW_NOTEABLE_ATTRS": true,
              "COLUMN_SAMPLING_METHOD": "outer",
              "DB_LOCATION": ":memory:",
              "DEV_MODE": false,
              "DISPLAY_MAX_COLUMNS": 100,
              "DISPLAY_MAX_ROWS": 50000,
              "DISPLAY_MODE": "simple",
              "ENABLE_ASSIGNMENT": true,
              "ENABLE_DATALINK": true,
              "FLATTEN_COLUMN_VALUES": true,
              "FLATTEN_INDEX_VALUES": false,
              "GENERATE_DEX_METADATA": false,
              "HTML_TABLE_SCHEMA": false,
              "LOG_LEVEL": 30,
              "MAX_RENDER_SIZE_BYTES": 104857600,
              "MAX_STRING_LENGTH": 250,
              "NUM_PAST_SAMPLES_TRACKED": 3,
              "RANDOM_STATE": 12648430,
              "RESET_INDEX_VALUES": false,
              "ROW_SAMPLING_METHOD": "random",
              "SAMPLING_FACTOR": 0.1,
              "SAMPLING_METHOD": "random",
              "STRINGIFY_COLUMN_VALUES": true,
              "STRINGIFY_INDEX_VALUES": false
            },
            "sample_history": [],
            "sampling_time": "2023-06-23T09:30:28.520102",
            "user_variable_name": null,
            "variable_name": "unk_dataframe_7790d4d4a66040d993666b3aec938b10"
          }
        },
        "noteable": {
          "cell_type": "code",
          "output_collection_id": "393235ba-cec8-42b2-9ea2-643fca04e742"
        }
      },
      "outputs": [],
      "source": [
        "# Find the top 10 products with the highest customer satisfaction\n",
        "maven_df.groupby('Product_Name')['Customer_Satisfaction'].describe().sort_values(by='mean',ascending=False).head(10)\n"
      ]
    },
    {
      "cell_type": "code",
      "execution_count": null,
      "id": "d80585b6",
      "metadata": {},
      "outputs": [],
      "source": [
        "# Top 10 Stores with the highest customer satisfaction\n",
        "maven_df.groupby('Product_Category')['Customer_Satisfaction'].describe().sort_values(by='mean',ascending=False).head(10)\n"
      ]
    },
    {
      "cell_type": "code",
      "execution_count": null,
      "id": "389d3723",
      "metadata": {},
      "outputs": [],
      "source": [
        "\n",
        "maven_df.groupby('Store_City')['Customer_Satisfaction'].describe().sort_values(by='mean',ascending=False).head(10)\n",
        "\n"
      ]
    },
    {
      "cell_type": "code",
      "execution_count": null,
      "id": "83d7cab0",
      "metadata": {},
      "outputs": [],
      "source": [
        "maven_df.groupby('Price_Bins')['Customer_Satisfaction'].describe().sort_values(by='mean',ascending=False).head(10)\n",
        "\n"
      ]
    },
    {
      "cell_type": "code",
      "execution_count": null,
      "id": "1695088c-abf4-4719-8391-15c1e364fb97",
      "metadata": {
        "ExecuteTime": {
          "end_time": "2023-06-23T09:30:54.893137+00:00",
          "start_time": "2023-06-23T09:30:54.637589+00:00"
        },
        "datalink": {
          "46462329-9c51-4b00-92f0-b4916baf62b2": {
            "applied_filters": [],
            "dataframe_info": {
              "default_index_used": false,
              "orig_num_cols": 1,
              "orig_num_rows": 5,
              "orig_size_bytes": 80,
              "truncated_num_cols": 1,
              "truncated_num_rows": 5,
              "truncated_size_bytes": 80,
              "truncated_string_columns": []
            },
            "display_id": "46462329-9c51-4b00-92f0-b4916baf62b2",
            "dx_settings": {
              "ALLOW_NOTEABLE_ATTRS": true,
              "COLUMN_SAMPLING_METHOD": "outer",
              "DB_LOCATION": ":memory:",
              "DEV_MODE": false,
              "DISPLAY_MAX_COLUMNS": 100,
              "DISPLAY_MAX_ROWS": 50000,
              "DISPLAY_MODE": "simple",
              "ENABLE_ASSIGNMENT": true,
              "ENABLE_DATALINK": true,
              "FLATTEN_COLUMN_VALUES": true,
              "FLATTEN_INDEX_VALUES": false,
              "GENERATE_DEX_METADATA": false,
              "HTML_TABLE_SCHEMA": false,
              "LOG_LEVEL": 30,
              "MAX_RENDER_SIZE_BYTES": 104857600,
              "MAX_STRING_LENGTH": 250,
              "NUM_PAST_SAMPLES_TRACKED": 3,
              "RANDOM_STATE": 12648430,
              "RESET_INDEX_VALUES": false,
              "ROW_SAMPLING_METHOD": "random",
              "SAMPLING_FACTOR": 0.1,
              "SAMPLING_METHOD": "random",
              "STRINGIFY_COLUMN_VALUES": true,
              "STRINGIFY_INDEX_VALUES": false
            },
            "sample_history": [],
            "sampling_time": "2023-06-23T09:30:54.736981",
            "user_variable_name": null,
            "variable_name": "unk_dataframe_110b64ccdf1d45f9adee232b62c4abb9"
          }
        },
        "noteable": {
          "cell_type": "code",
          "output_collection_id": "6a46546a-4a85-4b98-9f9c-1ddca27184ba"
        }
      },
      "outputs": [],
      "source": [
        "# Find the most popular product categories\n",
        "maven_df.groupby('Price_Bins')['Customer_Satisfaction'].describe().sort_values(by='mean',ascending=False).head(10)\n",
        "\n"
      ]
    },
    {
      "cell_type": "code",
      "execution_count": null,
      "id": "cf937b4f-beb4-4bea-aa57-6b9fc1c03253",
      "metadata": {
        "ExecuteTime": {
          "end_time": "2023-06-23T09:31:32.195255+00:00",
          "start_time": "2023-06-23T09:31:31.944463+00:00"
        },
        "datalink": {
          "0271c3d0-80c5-47bc-a58d-f4f5fc16851a": {
            "applied_filters": [],
            "dataframe_info": {
              "default_index_used": false,
              "orig_num_cols": 1,
              "orig_num_rows": 4,
              "orig_size_bytes": 64,
              "truncated_num_cols": 1,
              "truncated_num_rows": 4,
              "truncated_size_bytes": 64,
              "truncated_string_columns": []
            },
            "display_id": "0271c3d0-80c5-47bc-a58d-f4f5fc16851a",
            "dx_settings": {
              "ALLOW_NOTEABLE_ATTRS": true,
              "COLUMN_SAMPLING_METHOD": "outer",
              "DB_LOCATION": ":memory:",
              "DEV_MODE": false,
              "DISPLAY_MAX_COLUMNS": 100,
              "DISPLAY_MAX_ROWS": 50000,
              "DISPLAY_MODE": "simple",
              "ENABLE_ASSIGNMENT": true,
              "ENABLE_DATALINK": true,
              "FLATTEN_COLUMN_VALUES": true,
              "FLATTEN_INDEX_VALUES": false,
              "GENERATE_DEX_METADATA": false,
              "HTML_TABLE_SCHEMA": false,
              "LOG_LEVEL": 30,
              "MAX_RENDER_SIZE_BYTES": 104857600,
              "MAX_STRING_LENGTH": 250,
              "NUM_PAST_SAMPLES_TRACKED": 3,
              "RANDOM_STATE": 12648430,
              "RESET_INDEX_VALUES": false,
              "ROW_SAMPLING_METHOD": "random",
              "SAMPLING_FACTOR": 0.1,
              "SAMPLING_METHOD": "random",
              "STRINGIFY_COLUMN_VALUES": true,
              "STRINGIFY_INDEX_VALUES": false
            },
            "sample_history": [],
            "sampling_time": "2023-06-23T09:31:32.037993",
            "user_variable_name": null,
            "variable_name": "unk_dataframe_76977bc81ccf49d58f18bde2416f597d"
          }
        },
        "noteable": {
          "cell_type": "code",
          "output_collection_id": "fc63048d-4cef-49dd-a808-5b4946b1617e"
        }
      },
      "outputs": [],
      "source": [
        "# Compare the sales of the stores in Guadalajara to the sales of stores in other areas\n",
        "maven_df.groupby('Product_Name')['Customer_Satisfaction'].describe().sort_values(by='mean',ascending=False).head(10)\n",
        "\n"
      ]
    },
    {
      "cell_type": "code",
      "execution_count": null,
      "id": "31a81ed1-b10a-40ff-9f41-9e69b8f727cc",
      "metadata": {
        "ExecuteTime": {
          "end_time": "2023-06-23T09:31:59.251843+00:00",
          "start_time": "2023-06-23T09:31:59.027911+00:00"
        },
        "noteable": {
          "cell_type": "code",
          "output_collection_id": "d17c81a2-a9a2-4bd3-9bc0-461944c38358"
        }
      },
      "outputs": [],
      "source": [
        "maven_df.groupby('Customer_Reference')['Customer_Satisfaction'].describe().sort_values(by='mean',ascending=False).head(10)\n"
      ]
    },
    {
      "cell_type": "code",
      "execution_count": null,
      "id": "d54d8301-69e6-4a99-b6b4-f67b3cc59d94",
      "metadata": {
        "ExecuteTime": {
          "end_time": "2023-06-23T09:33:04.094450+00:00",
          "start_time": "2023-06-23T09:33:03.671730+00:00"
        },
        "datalink": {
          "00847467-44c4-48ea-92a5-ea0e289b2601": {
            "applied_filters": [],
            "dataframe_info": {
              "default_index_used": false,
              "orig_num_cols": 1,
              "orig_num_rows": 4,
              "orig_size_bytes": 64,
              "truncated_num_cols": 1,
              "truncated_num_rows": 4,
              "truncated_size_bytes": 64,
              "truncated_string_columns": []
            },
            "display_id": "00847467-44c4-48ea-92a5-ea0e289b2601",
            "dx_settings": {
              "ALLOW_NOTEABLE_ATTRS": true,
              "COLUMN_SAMPLING_METHOD": "outer",
              "DB_LOCATION": ":memory:",
              "DEV_MODE": false,
              "DISPLAY_MAX_COLUMNS": 100,
              "DISPLAY_MAX_ROWS": 50000,
              "DISPLAY_MODE": "simple",
              "ENABLE_ASSIGNMENT": true,
              "ENABLE_DATALINK": true,
              "FLATTEN_COLUMN_VALUES": true,
              "FLATTEN_INDEX_VALUES": false,
              "GENERATE_DEX_METADATA": false,
              "HTML_TABLE_SCHEMA": false,
              "LOG_LEVEL": 30,
              "MAX_RENDER_SIZE_BYTES": 104857600,
              "MAX_STRING_LENGTH": 250,
              "NUM_PAST_SAMPLES_TRACKED": 3,
              "RANDOM_STATE": 12648430,
              "RESET_INDEX_VALUES": false,
              "ROW_SAMPLING_METHOD": "random",
              "SAMPLING_FACTOR": 0.1,
              "SAMPLING_METHOD": "random",
              "STRINGIFY_COLUMN_VALUES": true,
              "STRINGIFY_INDEX_VALUES": false
            },
            "sample_history": [],
            "sampling_time": "2023-06-23T09:33:03.939007",
            "user_variable_name": null,
            "variable_name": "unk_dataframe_7f31fc49fab34db4b5e77ba26efe6ce4"
          }
        },
        "noteable": {
          "cell_type": "code",
          "output_collection_id": "a16e1f49-c39e-416f-8c05-3cbca38b6d97"
        }
      },
      "outputs": [],
      "source": [
        "# # Compare the sales of the individual stores in Guadalajara\n",
        "maven_df.groupby('Product_Name')['Customer_Satisfaction'].describe().sort_values(by='mean',ascending=False).head(10)\n",
        "\n"
      ]
    },
    {
      "cell_type": "code",
      "execution_count": null,
      "id": "13f9e87e",
      "metadata": {},
      "outputs": [],
      "source": [
        "maven_df.groupby('Sale_Payment_Type')['Customer_Satisfaction'].mean().sort_values(ascending=False)"
      ]
    },
    {
      "cell_type": "code",
      "execution_count": null,
      "id": "85f2dd30-defb-4931-8f4c-96aeae65e7e9",
      "metadata": {
        "ExecuteTime": {
          "end_time": "2023-06-23T09:34:15.564402+00:00",
          "start_time": "2023-06-23T09:34:15.404321+00:00"
        },
        "noteable": {
          "cell_type": "code",
          "output_collection_id": "1f230aca-ad3e-4b22-8926-5d8b983cc527"
        }
      },
      "outputs": [],
      "source": [
        "# Calculate the average customer satisfaction\n",
        "maven_df['Customer_Satisfaction'].hist(bins=10)\n"
      ]
    },
    {
      "cell_type": "code",
      "execution_count": null,
      "id": "d03ed68c",
      "metadata": {},
      "outputs": [],
      "source": [
        "topProduct = maven_df.groupby('Product_Name')[['Product_profit', 'Units']].sum().sort_values(by='Product_profit', ascending=False).head(10)\n",
        "topProduct = topProduct.reset_index()\n",
        "\n",
        "#Generating the labels which will show the sales value in K figure\n",
        "topProduct['Total_Profit_M'] = ['$ '+str(round(int(v)/1000000,2))+' M' for v in topProduct.Product_profit]\n",
        "\n",
        "topProduct\n"
      ]
    },
    {
      "cell_type": "code",
      "execution_count": null,
      "id": "8a8c46c4",
      "metadata": {},
      "outputs": [],
      "source": [
        "topCategories = maven_df.groupby('Product_Category')[['Product_profit', 'Units']].agg(['mean', 'sum'])\n",
        "topCategories = topCategories.reset_index()\n",
        "\n",
        "#Generating the labels which will show the sales value in K figure\n",
        "# topProduct['Total_Profit_M'] = ['$ '+str(round(int(v)/1000000,2))+' M' for v in topProduct.Product_profit]\n",
        "\n",
        "topProduct\n"
      ]
    },
    {
      "cell_type": "code",
      "execution_count": null,
      "id": "f5619f07-a8a5-4e53-ad41-237dc3844592",
      "metadata": {
        "ExecuteTime": {
          "end_time": "2023-06-23T09:40:33.351660+00:00",
          "start_time": "2023-06-23T09:40:32.725553+00:00"
        },
        "noteable": {
          "cell_type": "code",
          "output_collection_id": "a403091f-22c9-4ee8-8669-67d83991b5e1"
        }
      },
      "outputs": [],
      "source": [
        "# Calculate the monthly sales for each product category\n",
        "category_sales = maven_df.groupby(['YearMonth', 'Product_Category'])['Customer_Satisfaction'].mean().unstack().rolling(3).mean().dropna()\n",
        "category_sales\n"
      ]
    },
    {
      "attachments": {},
      "cell_type": "markdown",
      "id": "3dd22011",
      "metadata": {},
      "source": [
        "# Model Preparation, Fitting, and Testing"
      ]
    },
    {
      "cell_type": "code",
      "execution_count": null,
      "id": "b4c123c4",
      "metadata": {},
      "outputs": [],
      "source": [
        "dummy_df = pd.get_dummies(maven_df, \n",
        "        columns=['Store_Location', 'Product_Category', 'Sale_Payment_Type', 'Store_City', 'Customer_Reference'])\n",
        "\n",
        "maven_df = pd.concat([maven_df, dummy_df], axis=1)\n",
        "\n",
        "\n"
      ]
    },
    {
      "attachments": {},
      "cell_type": "markdown",
      "id": "75e3e557",
      "metadata": {},
      "source": [
        "# Model Evaluation"
      ]
    },
    {
      "attachments": {},
      "cell_type": "markdown",
      "id": "61cf5eaa",
      "metadata": {},
      "source": []
    },
    {
      "attachments": {},
      "cell_type": "markdown",
      "id": "6030607a",
      "metadata": {},
      "source": [
        "# Final Insights"
      ]
    },
    {
      "attachments": {},
      "cell_type": "markdown",
      "id": "7a5c10df",
      "metadata": {},
      "source": [
        "### How are we doing with customer satisfaction?\n",
        "\n",
        "EDA: \n",
        "What areas have the highest customer satisfaction?  \n",
        "Store Locations\n",
        "City Locations\n",
        "\n",
        "Model:\n",
        "Linear Regression on Customer Satisfaction  \n",
        "More Exploratory Data Analysis on Customer Satisfaction\n",
        "\n",
        "### What does the data say about how we can grow our business?\n",
        "Expansion: \n",
        "High Customer Satisfaction, Profit, and Amount of Units Sold\n",
        "\n",
        "Time series on satisfaction, profit, units sold?\n",
        "\n",
        "Independent\n",
        "Products, Locations, Which Month, Store Open Date ---- Store Duration\n",
        "\n",
        "Customer Reference\n",
        "\n",
        "Target Category \n",
        "Profit and Satisfactory\n",
        "\n",
        "1. Sum profit by Location and then Divide by Number of Days Open - Profitability Metric\n",
        "   1. Store Location, Store City \n",
        "   2. Use this to evaluate the profitability of each store location\n",
        "2. Products \n",
        "   1. Most profitable categories, Most profitable products\n",
        "3. Which month is the most profitable\n",
        "   1. Which month is the most profitable for each location\n",
        "\n",
        "\n",
        "\n",
        "\n",
        "\n"
      ]
    },
    {
      "cell_type": "code",
      "execution_count": null,
      "id": "8713aca3",
      "metadata": {},
      "outputs": [],
      "source": []
    },
    {
      "cell_type": "code",
      "execution_count": null,
      "id": "2bec58e4",
      "metadata": {},
      "outputs": [],
      "source": [
        "# maven_df['Date'] = pd.to_datetime(maven_df['Date'])\n",
        "\n",
        "# sales_weekly = pd.DataFrame(maven_df.groupby([maven_df['Date'].dt.year.rename('year'), \n",
        "#                 maven_df['Date'].dt.to_period(\"W\").rename('week')])['Product_profit'].sum().reset_index().drop('year', axis=1).set_index('week'))\n",
        "\n",
        "# sales_weekly\n",
        "# arima_model=auto_arima(maven_df['Product_profit'], start_p=1,d=1,start_q=1,\n",
        "#                 max_p=5,max_q=5,max_d=5,m=12,\n",
        "#                 start_P=0,D=1,start_Q=0,max_P=5,max_D=5,max_Q=5,\n",
        "#                 seasonal=True,\n",
        "#                 trace=True,\n",
        "#                 error_action=\"ignore\",\n",
        "#                 suppress_warnings=True,\n",
        "#                 stepwise=True,n_fits=50)"
      ]
    },
    {
      "cell_type": "code",
      "execution_count": null,
      "id": "c3c1273a",
      "metadata": {},
      "outputs": [],
      "source": [
        "# # Import necessary libraries\n",
        "# import matplotlib.pyplot as plt\n",
        "\n",
        "# # Create a scatter plot of 'Product_Price' and 'Customer_Satisfaction'\n",
        "# plt.figure(figsize=(10, 6))\n",
        "# plt.scatter(maven_df['Product_Price'], maven_df['Customer_Satisfaction'], alpha=0.5)\n",
        "# plt.title('Customer Satisfaction vs Product Price')\n",
        "# plt.xlabel('Product Price')\n",
        "# plt.ylabel('Customer Satisfaction')\n",
        "# plt.show()\n",
        "\n",
        "\n",
        "# # Calculate the total sales for each month\n",
        "# monthly_sales = maven_df.groupby('YearMonth')['Customer_Satisfaction'].mean()\n",
        "# # rolling_monthly_sales = maven_df.groupby('YearMonth')['Customer_Satisfaction'].rolling(3).mean()\n",
        "\n",
        "# # Create a line plot of the total monthly sales\n",
        "# plt.figure(figsize=(10, 6))\n",
        "# monthly_sales.plot(kind='line')\n",
        "# # rolling_monthly_sales.plot(kind='line')\n",
        "# plt.title('Total Monthly Sales')\n",
        "# plt.xlabel('Month')\n",
        "# plt.ylabel('Total Sales')\n",
        "# plt.show()\n",
        "\n",
        "# maven_df.groupby(['YearMonth', 'Product_Name'])['Product_profit'].mean().sort_values(ascending=False).plot()\n",
        "\n",
        "\n",
        "# # Create a line plot of the monthly sales for each product category\n",
        "# plt.figure(figsize=(10, 6))\n",
        "# sns.lineplot(data=category_sales, x='YearMonth', hue='Product_Category', palette='tab10')\n",
        "# plt.title('Monthly Sales by Product Category')\n",
        "# plt.xlabel('Month')\n",
        "# plt.ylabel('Total Sales')\n",
        "# plt.show()\n",
        "\n",
        "# # Create a scatter plot of 'Customer_Satisfaction' and 'Units'\n",
        "# plt.figure(figsize=(10, 6))\n",
        "# plt.scatter(maven_df['Units'], maven_df['Customer_Satisfaction'], alpha=0.5)\n",
        "# plt.title('Customer Satisfaction vs Units Sold')\n",
        "# plt.xlabel('Units Sold')\n",
        "# plt.ylabel('Customer Satisfaction')\n",
        "# plt.show()\n",
        "\n",
        "# # Calculate the monthly sales for each city\n",
        "# city_sales = maven_df.groupby(['YearMonth', 'City'])['Customer_Satisfaction'].mean().unstack()\n",
        "\n",
        "# # Create a line plot of the monthly sales for each city\n",
        "# plt.figure(figsize=(10, 6))\n",
        "# city_sales.plot(kind='line', ax=plt.gca())\n",
        "# plt.title('Monthly Sales by City')\n",
        "# plt.xlabel('Month')\n",
        "# plt.ylabel('Total Sales')\n",
        "# plt.show()"
      ]
    }
  ],
  "metadata": {
    "kernelspec": {
      "display_name": "base",
      "language": "python",
      "name": "python3"
    },
    "language_info": {
      "codemirror_mode": {
        "name": "ipython",
        "version": 3
      },
      "file_extension": ".py",
      "mimetype": "text/x-python",
      "name": "python",
      "nbconvert_exporter": "python",
      "pygments_lexer": "ipython3",
      "version": "3.9.16"
    },
    "noteable": {
      "last_transaction_id": "f922dbb0-6369-4fc8-b4f3-96c051fffcb5"
    },
    "noteable-chatgpt": {
      "create_notebook": {
        "openai_conversation_id": "b12dda75-74bc-5e10-b608-5d0fb0eaced9",
        "openai_ephemeral_user_id": "fb59253a-b87c-5f92-808d-85fb34b9d8f7",
        "openai_subdivision1_iso_code": "CA-BC"
      }
    }
  },
  "nbformat": 4,
  "nbformat_minor": 5
}

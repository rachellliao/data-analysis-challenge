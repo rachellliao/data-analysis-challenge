{
  "cells": [
    {
      "cell_type": "code",
      "execution_count": 2,
      "id": "854d25b5-7241-41e8-b9ea-e1b06e860192",
      "metadata": {
        "ExecuteTime": {
          "end_time": "2023-06-23T09:26:24.355960+00:00",
          "start_time": "2023-06-23T09:26:23.823565+00:00"
        },
        "noteable": {
          "cell_type": "code",
          "output_collection_id": "f14bd0ab-efec-4aad-bb7d-e9f85cffe558"
        }
      },
      "outputs": [],
      "source": [
        "# Import necessary libraries\n",
        "import pandas as pd\n",
        "import numpy as np\n",
        "import matplotlib.pyplot as plt\n",
        "import seaborn as sns\n",
        "import datetime as dt\n",
        "import re\n",
        "\n",
        "# Load in Data\n",
        "asmr_df = pd.read_csv('Data/dac_maven.csv')\n"
      ]
    },
    {
      "cell_type": "code",
      "execution_count": 4,
      "id": "773fd2eb",
      "metadata": {},
      "outputs": [],
      "source": [
        "asmr_df.to_pickle('maven_toys.pkl')"
      ]
    },
    {
      "cell_type": "code",
      "execution_count": 7,
      "id": "8cc017b6",
      "metadata": {},
      "outputs": [],
      "source": [
        "maven_df = pd.read_pickle('Data/maven_toys.pkl')"
      ]
    },
    {
      "cell_type": "code",
      "execution_count": 8,
      "id": "a3d462e7-5689-4f71-910f-b12eac28f6f0",
      "metadata": {
        "ExecuteTime": {
          "end_time": "2023-06-23T09:26:46.753855+00:00",
          "start_time": "2023-06-23T09:26:41.786007+00:00"
        },
        "noteable": {
          "cell_type": "code",
          "output_collection_id": "4893dead-0543-44d8-beb9-fea129ae4322"
        }
      },
      "outputs": [
        {
          "data": {
            "text/html": [
              "<div>\n",
              "<style scoped>\n",
              "    .dataframe tbody tr th:only-of-type {\n",
              "        vertical-align: middle;\n",
              "    }\n",
              "\n",
              "    .dataframe tbody tr th {\n",
              "        vertical-align: top;\n",
              "    }\n",
              "\n",
              "    .dataframe thead th {\n",
              "        text-align: right;\n",
              "    }\n",
              "</style>\n",
              "<table border=\"1\" class=\"dataframe\">\n",
              "  <thead>\n",
              "    <tr style=\"text-align: right;\">\n",
              "      <th></th>\n",
              "      <th>Store_Location</th>\n",
              "      <th>Store_Name</th>\n",
              "      <th>Product_Category</th>\n",
              "      <th>Product_Price</th>\n",
              "      <th>Product_Cost</th>\n",
              "      <th>Date</th>\n",
              "      <th>Units</th>\n",
              "      <th>Sale_Payment_Type</th>\n",
              "      <th>Product_Name</th>\n",
              "      <th>Customer_Satisfaction</th>\n",
              "      <th>Store_City</th>\n",
              "      <th>Sale_ID</th>\n",
              "      <th>Store_ID</th>\n",
              "      <th>Product_ID</th>\n",
              "      <th>Store_Open_Date</th>\n",
              "      <th>Customer_Reference</th>\n",
              "    </tr>\n",
              "  </thead>\n",
              "  <tbody>\n",
              "    <tr>\n",
              "      <th>0</th>\n",
              "      <td>Airport</td>\n",
              "      <td>Maven Toys Ciudad de Mexico 2</td>\n",
              "      <td>Toys</td>\n",
              "      <td>$39.99</td>\n",
              "      <td>$34.99</td>\n",
              "      <td>2017-05-31</td>\n",
              "      <td>1</td>\n",
              "      <td>cash</td>\n",
              "      <td>Lego Bricks</td>\n",
              "      <td>9.0</td>\n",
              "      <td>Cuidad de Mexico</td>\n",
              "      <td>161215</td>\n",
              "      <td>31</td>\n",
              "      <td>18</td>\n",
              "      <td>2012-05-04</td>\n",
              "      <td>Social Media Ad</td>\n",
              "    </tr>\n",
              "    <tr>\n",
              "      <th>1</th>\n",
              "      <td>Airport</td>\n",
              "      <td>Maven Toys Ciudad de Mexico 2</td>\n",
              "      <td>Electronics</td>\n",
              "      <td>$25.99</td>\n",
              "      <td>$20.99</td>\n",
              "      <td>2018-06-04</td>\n",
              "      <td>1</td>\n",
              "      <td>cash</td>\n",
              "      <td>Toy Robot</td>\n",
              "      <td>7.0</td>\n",
              "      <td>Cuidad de Mexico</td>\n",
              "      <td>656852</td>\n",
              "      <td>31</td>\n",
              "      <td>34</td>\n",
              "      <td>2012-05-04</td>\n",
              "      <td>Word of Mouth</td>\n",
              "    </tr>\n",
              "    <tr>\n",
              "      <th>2</th>\n",
              "      <td>Airport</td>\n",
              "      <td>Maven Toys Ciudad de Mexico 2</td>\n",
              "      <td>Games</td>\n",
              "      <td>$10.99</td>\n",
              "      <td>$5.99</td>\n",
              "      <td>2017-06-05</td>\n",
              "      <td>1</td>\n",
              "      <td>credit</td>\n",
              "      <td>Glass Marbles</td>\n",
              "      <td>10.0</td>\n",
              "      <td>Cuidad de Mexico</td>\n",
              "      <td>168348</td>\n",
              "      <td>31</td>\n",
              "      <td>14</td>\n",
              "      <td>2012-05-04</td>\n",
              "      <td>Social Media Ad</td>\n",
              "    </tr>\n",
              "    <tr>\n",
              "      <th>3</th>\n",
              "      <td>Airport</td>\n",
              "      <td>Maven Toys Ciudad de Mexico 2</td>\n",
              "      <td>Electronics</td>\n",
              "      <td>$20.99</td>\n",
              "      <td>$14.99</td>\n",
              "      <td>2018-03-09</td>\n",
              "      <td>1</td>\n",
              "      <td>cash</td>\n",
              "      <td>Gamer Headphones</td>\n",
              "      <td>9.0</td>\n",
              "      <td>Cuidad de Mexico</td>\n",
              "      <td>514679</td>\n",
              "      <td>31</td>\n",
              "      <td>13</td>\n",
              "      <td>2012-05-04</td>\n",
              "      <td>Word of Mouth</td>\n",
              "    </tr>\n",
              "    <tr>\n",
              "      <th>4</th>\n",
              "      <td>Airport</td>\n",
              "      <td>Maven Toys Ciudad de Mexico 2</td>\n",
              "      <td>Games</td>\n",
              "      <td>$6.99</td>\n",
              "      <td>$3.99</td>\n",
              "      <td>2018-02-22</td>\n",
              "      <td>1</td>\n",
              "      <td>credit</td>\n",
              "      <td>Deck Of Cards</td>\n",
              "      <td>8.0</td>\n",
              "      <td>Cuidad de Mexico</td>\n",
              "      <td>494770</td>\n",
              "      <td>31</td>\n",
              "      <td>8</td>\n",
              "      <td>2012-05-04</td>\n",
              "      <td>Social Media Ad</td>\n",
              "    </tr>\n",
              "  </tbody>\n",
              "</table>\n",
              "</div>"
            ],
            "text/plain": [
              "  Store_Location                     Store_Name Product_Category  \\\n",
              "0        Airport  Maven Toys Ciudad de Mexico 2             Toys   \n",
              "1        Airport  Maven Toys Ciudad de Mexico 2      Electronics   \n",
              "2        Airport  Maven Toys Ciudad de Mexico 2            Games   \n",
              "3        Airport  Maven Toys Ciudad de Mexico 2      Electronics   \n",
              "4        Airport  Maven Toys Ciudad de Mexico 2            Games   \n",
              "\n",
              "  Product_Price Product_Cost        Date  Units Sale_Payment_Type  \\\n",
              "0       $39.99       $34.99   2017-05-31      1              cash   \n",
              "1       $25.99       $20.99   2018-06-04      1              cash   \n",
              "2       $10.99        $5.99   2017-06-05      1            credit   \n",
              "3       $20.99       $14.99   2018-03-09      1              cash   \n",
              "4        $6.99        $3.99   2018-02-22      1            credit   \n",
              "\n",
              "       Product_Name  Customer_Satisfaction        Store_City  Sale_ID  \\\n",
              "0       Lego Bricks                    9.0  Cuidad de Mexico   161215   \n",
              "1         Toy Robot                    7.0  Cuidad de Mexico   656852   \n",
              "2     Glass Marbles                   10.0  Cuidad de Mexico   168348   \n",
              "3  Gamer Headphones                    9.0  Cuidad de Mexico   514679   \n",
              "4     Deck Of Cards                    8.0  Cuidad de Mexico   494770   \n",
              "\n",
              "   Store_ID  Product_ID Store_Open_Date Customer_Reference  \n",
              "0        31          18      2012-05-04    Social Media Ad  \n",
              "1        31          34      2012-05-04      Word of Mouth  \n",
              "2        31          14      2012-05-04    Social Media Ad  \n",
              "3        31          13      2012-05-04      Word of Mouth  \n",
              "4        31           8      2012-05-04    Social Media Ad  "
            ]
          },
          "execution_count": 8,
          "metadata": {},
          "output_type": "execute_result"
        }
      ],
      "source": [
        "maven_df.head()"
      ]
    },
    {
      "cell_type": "code",
      "execution_count": null,
      "id": "ebf4d8b2-9f09-4325-b725-9d0ca919abc8",
      "metadata": {
        "ExecuteTime": {
          "end_time": "2023-06-23T09:27:43.787791+00:00",
          "start_time": "2023-06-23T09:27:39.125212+00:00"
        },
        "datalink": {
          "290919b5-41a0-4c11-8339-7ed4fefa8522": {
            "applied_filters": [],
            "dataframe_info": {
              "default_index_used": true,
              "orig_num_cols": 16,
              "orig_num_rows": 5,
              "orig_size_bytes": 680,
              "truncated_num_cols": 16,
              "truncated_num_rows": 5,
              "truncated_size_bytes": 680,
              "truncated_string_columns": []
            },
            "display_id": "290919b5-41a0-4c11-8339-7ed4fefa8522",
            "dx_settings": {
              "ALLOW_NOTEABLE_ATTRS": true,
              "COLUMN_SAMPLING_METHOD": "outer",
              "DB_LOCATION": ":memory:",
              "DEV_MODE": false,
              "DISPLAY_MAX_COLUMNS": 100,
              "DISPLAY_MAX_ROWS": 50000,
              "DISPLAY_MODE": "simple",
              "ENABLE_ASSIGNMENT": true,
              "ENABLE_DATALINK": true,
              "FLATTEN_COLUMN_VALUES": true,
              "FLATTEN_INDEX_VALUES": false,
              "GENERATE_DEX_METADATA": false,
              "HTML_TABLE_SCHEMA": false,
              "LOG_LEVEL": 30,
              "MAX_RENDER_SIZE_BYTES": 104857600,
              "MAX_STRING_LENGTH": 250,
              "NUM_PAST_SAMPLES_TRACKED": 3,
              "RANDOM_STATE": 12648430,
              "RESET_INDEX_VALUES": false,
              "ROW_SAMPLING_METHOD": "random",
              "SAMPLING_FACTOR": 0.1,
              "SAMPLING_METHOD": "random",
              "STRINGIFY_COLUMN_VALUES": true,
              "STRINGIFY_INDEX_VALUES": false
            },
            "sample_history": [],
            "sampling_time": "2023-06-23T09:27:43.626213",
            "user_variable_name": null,
            "variable_name": "unk_dataframe_4805e49e84e140cd8735a0416c3598ab"
          }
        },
        "noteable": {
          "cell_type": "code",
          "output_collection_id": "1fdbd6a4-adb5-44d9-962c-08dcfea2167f"
        }
      },
      "outputs": [],
      "source": [
        "# Import necessary libraries\n",
        "import pandas as pd\n",
        "import gdown\n",
        "\n",
        "# Google Drive file id\n",
        "file_id = '1aCAQpYi8yunjHlQtqPjodSwfxDGiJ9cL'\n",
        "url = f'https://drive.google.com/uc?id={file_id}'\n",
        "\n",
        "# Download the file\n",
        "gdown.download(url, 'maven_toys_transactions.csv', quiet=False)\n",
        "\n",
        "# Load the data into a pandas DataFrame\n",
        "data = pd.read_csv('maven_toys_transactions.csv')\n",
        "\n",
        "# Display the first few rows of the DataFrame\n",
        "data.head()"
      ]
    },
    {
      "cell_type": "code",
      "execution_count": null,
      "id": "7a01aac4-8288-4706-b6ae-a28ce8133b8f",
      "metadata": {
        "ExecuteTime": {
          "end_time": "2023-06-23T09:28:46.927346+00:00",
          "start_time": "2023-06-23T09:28:46.765124+00:00"
        },
        "noteable": {
          "cell_type": "code",
          "output_collection_id": "5042ff0e-ade4-4428-bb07-6a629203f0bd"
        }
      },
      "outputs": [],
      "source": [
        "# Check the shape of the DataFrame\n",
        "data.shape"
      ]
    },
    {
      "cell_type": "code",
      "execution_count": null,
      "id": "4b5b4df0-2657-4f8e-8d9a-4da80f4ac626",
      "metadata": {
        "ExecuteTime": {
          "end_time": "2023-06-23T09:29:07.332080+00:00",
          "start_time": "2023-06-23T09:29:05.719729+00:00"
        },
        "noteable": {
          "cell_type": "code",
          "output_collection_id": "0a7de158-db7f-4825-ae5f-94ae0eccac9d"
        }
      },
      "outputs": [],
      "source": [
        "# Check the data types and missing values\n",
        "data.info()"
      ]
    },
    {
      "cell_type": "code",
      "execution_count": null,
      "id": "eee88161-97cb-485d-a5e6-490c364a7f89",
      "metadata": {
        "ExecuteTime": {
          "end_time": "2023-06-23T09:29:41.064921+00:00",
          "start_time": "2023-06-23T09:29:39.563198+00:00"
        },
        "datalink": {
          "887e2f16-d76a-49c3-a2e4-2129b5859879": {
            "applied_filters": [],
            "dataframe_info": {
              "default_index_used": false,
              "orig_num_cols": 1,
              "orig_num_rows": 16,
              "orig_size_bytes": 256,
              "truncated_num_cols": 1,
              "truncated_num_rows": 16,
              "truncated_size_bytes": 256,
              "truncated_string_columns": []
            },
            "display_id": "887e2f16-d76a-49c3-a2e4-2129b5859879",
            "dx_settings": {
              "ALLOW_NOTEABLE_ATTRS": true,
              "COLUMN_SAMPLING_METHOD": "outer",
              "DB_LOCATION": ":memory:",
              "DEV_MODE": false,
              "DISPLAY_MAX_COLUMNS": 100,
              "DISPLAY_MAX_ROWS": 50000,
              "DISPLAY_MODE": "simple",
              "ENABLE_ASSIGNMENT": true,
              "ENABLE_DATALINK": true,
              "FLATTEN_COLUMN_VALUES": true,
              "FLATTEN_INDEX_VALUES": false,
              "GENERATE_DEX_METADATA": false,
              "HTML_TABLE_SCHEMA": false,
              "LOG_LEVEL": 30,
              "MAX_RENDER_SIZE_BYTES": 104857600,
              "MAX_STRING_LENGTH": 250,
              "NUM_PAST_SAMPLES_TRACKED": 3,
              "RANDOM_STATE": 12648430,
              "RESET_INDEX_VALUES": false,
              "ROW_SAMPLING_METHOD": "random",
              "SAMPLING_FACTOR": 0.1,
              "SAMPLING_METHOD": "random",
              "STRINGIFY_COLUMN_VALUES": true,
              "STRINGIFY_INDEX_VALUES": false
            },
            "sample_history": [],
            "sampling_time": "2023-06-23T09:29:40.909060",
            "user_variable_name": null,
            "variable_name": "unk_dataframe_19ee9d3c09c5452ea77666f67368e0df"
          }
        },
        "noteable": {
          "cell_type": "code",
          "output_collection_id": "1e004af6-49b0-4543-88cb-0513b617979e"
        }
      },
      "outputs": [],
      "source": [
        "# Fill missing values in 'Customer_Satisfaction' with the median\n",
        "data['Customer_Satisfaction'].fillna(data['Customer_Satisfaction'].median(), inplace=True)\n",
        "\n",
        "# Check if there are any missing values left\n",
        "data.isnull().sum()"
      ]
    },
    {
      "cell_type": "code",
      "execution_count": null,
      "id": "0e65a107-22fc-4b99-8576-4104ab2ae398",
      "metadata": {
        "ExecuteTime": {
          "end_time": "2023-06-23T09:30:07.560734+00:00",
          "start_time": "2023-06-23T09:30:07.050049+00:00"
        },
        "datalink": {
          "09c854a2-ea5b-4759-8a05-fcce6fe3efdb": {
            "applied_filters": [],
            "dataframe_info": {
              "default_index_used": false,
              "orig_num_cols": 1,
              "orig_num_rows": 16,
              "orig_size_bytes": 256,
              "truncated_num_cols": 1,
              "truncated_num_rows": 16,
              "truncated_size_bytes": 256,
              "truncated_string_columns": []
            },
            "display_id": "09c854a2-ea5b-4759-8a05-fcce6fe3efdb",
            "dx_settings": {
              "ALLOW_NOTEABLE_ATTRS": true,
              "COLUMN_SAMPLING_METHOD": "outer",
              "DB_LOCATION": ":memory:",
              "DEV_MODE": false,
              "DISPLAY_MAX_COLUMNS": 100,
              "DISPLAY_MAX_ROWS": 50000,
              "DISPLAY_MODE": "simple",
              "ENABLE_ASSIGNMENT": true,
              "ENABLE_DATALINK": true,
              "FLATTEN_COLUMN_VALUES": true,
              "FLATTEN_INDEX_VALUES": false,
              "GENERATE_DEX_METADATA": false,
              "HTML_TABLE_SCHEMA": false,
              "LOG_LEVEL": 30,
              "MAX_RENDER_SIZE_BYTES": 104857600,
              "MAX_STRING_LENGTH": 250,
              "NUM_PAST_SAMPLES_TRACKED": 3,
              "RANDOM_STATE": 12648430,
              "RESET_INDEX_VALUES": false,
              "ROW_SAMPLING_METHOD": "random",
              "SAMPLING_FACTOR": 0.1,
              "SAMPLING_METHOD": "random",
              "STRINGIFY_COLUMN_VALUES": true,
              "STRINGIFY_INDEX_VALUES": false
            },
            "sample_history": [],
            "sampling_time": "2023-06-23T09:30:07.405043",
            "user_variable_name": null,
            "variable_name": "unk_dataframe_8b42e7c537d64d219709682fb4271b9d"
          }
        },
        "noteable": {
          "cell_type": "code",
          "output_collection_id": "e868af7e-acf1-4526-9ddd-7d7f02d8e91a"
        }
      },
      "outputs": [],
      "source": [
        "# Convert 'Date' and 'Store_Open_Date' to datetime type\n",
        "data['Date'] = pd.to_datetime(data['Date'])\n",
        "data['Store_Open_Date'] = pd.to_datetime(data['Store_Open_Date'])\n",
        "\n",
        "# Check the data types again to confirm\n",
        "data.dtypes"
      ]
    },
    {
      "cell_type": "code",
      "execution_count": null,
      "id": "8ba36d23-f417-440a-8ff1-ba07ab4ad47c",
      "metadata": {
        "ExecuteTime": {
          "end_time": "2023-06-23T09:30:28.676771+00:00",
          "start_time": "2023-06-23T09:30:28.409975+00:00"
        },
        "datalink": {
          "483b0d79-5616-45ba-b96c-5d19f38f26f2": {
            "applied_filters": [],
            "dataframe_info": {
              "default_index_used": false,
              "orig_num_cols": 1,
              "orig_num_rows": 10,
              "orig_size_bytes": 160,
              "truncated_num_cols": 1,
              "truncated_num_rows": 10,
              "truncated_size_bytes": 160,
              "truncated_string_columns": []
            },
            "display_id": "483b0d79-5616-45ba-b96c-5d19f38f26f2",
            "dx_settings": {
              "ALLOW_NOTEABLE_ATTRS": true,
              "COLUMN_SAMPLING_METHOD": "outer",
              "DB_LOCATION": ":memory:",
              "DEV_MODE": false,
              "DISPLAY_MAX_COLUMNS": 100,
              "DISPLAY_MAX_ROWS": 50000,
              "DISPLAY_MODE": "simple",
              "ENABLE_ASSIGNMENT": true,
              "ENABLE_DATALINK": true,
              "FLATTEN_COLUMN_VALUES": true,
              "FLATTEN_INDEX_VALUES": false,
              "GENERATE_DEX_METADATA": false,
              "HTML_TABLE_SCHEMA": false,
              "LOG_LEVEL": 30,
              "MAX_RENDER_SIZE_BYTES": 104857600,
              "MAX_STRING_LENGTH": 250,
              "NUM_PAST_SAMPLES_TRACKED": 3,
              "RANDOM_STATE": 12648430,
              "RESET_INDEX_VALUES": false,
              "ROW_SAMPLING_METHOD": "random",
              "SAMPLING_FACTOR": 0.1,
              "SAMPLING_METHOD": "random",
              "STRINGIFY_COLUMN_VALUES": true,
              "STRINGIFY_INDEX_VALUES": false
            },
            "sample_history": [],
            "sampling_time": "2023-06-23T09:30:28.520102",
            "user_variable_name": null,
            "variable_name": "unk_dataframe_7790d4d4a66040d993666b3aec938b10"
          }
        },
        "noteable": {
          "cell_type": "code",
          "output_collection_id": "393235ba-cec8-42b2-9ea2-643fca04e742"
        }
      },
      "outputs": [],
      "source": [
        "# Find the top 10 best-selling products\n",
        "top_products = data.groupby('Product_Name')['Units'].sum().sort_values(ascending=False).head(10)\n",
        "top_products"
      ]
    },
    {
      "cell_type": "code",
      "execution_count": null,
      "id": "1695088c-abf4-4719-8391-15c1e364fb97",
      "metadata": {
        "ExecuteTime": {
          "end_time": "2023-06-23T09:30:54.893137+00:00",
          "start_time": "2023-06-23T09:30:54.637589+00:00"
        },
        "datalink": {
          "46462329-9c51-4b00-92f0-b4916baf62b2": {
            "applied_filters": [],
            "dataframe_info": {
              "default_index_used": false,
              "orig_num_cols": 1,
              "orig_num_rows": 5,
              "orig_size_bytes": 80,
              "truncated_num_cols": 1,
              "truncated_num_rows": 5,
              "truncated_size_bytes": 80,
              "truncated_string_columns": []
            },
            "display_id": "46462329-9c51-4b00-92f0-b4916baf62b2",
            "dx_settings": {
              "ALLOW_NOTEABLE_ATTRS": true,
              "COLUMN_SAMPLING_METHOD": "outer",
              "DB_LOCATION": ":memory:",
              "DEV_MODE": false,
              "DISPLAY_MAX_COLUMNS": 100,
              "DISPLAY_MAX_ROWS": 50000,
              "DISPLAY_MODE": "simple",
              "ENABLE_ASSIGNMENT": true,
              "ENABLE_DATALINK": true,
              "FLATTEN_COLUMN_VALUES": true,
              "FLATTEN_INDEX_VALUES": false,
              "GENERATE_DEX_METADATA": false,
              "HTML_TABLE_SCHEMA": false,
              "LOG_LEVEL": 30,
              "MAX_RENDER_SIZE_BYTES": 104857600,
              "MAX_STRING_LENGTH": 250,
              "NUM_PAST_SAMPLES_TRACKED": 3,
              "RANDOM_STATE": 12648430,
              "RESET_INDEX_VALUES": false,
              "ROW_SAMPLING_METHOD": "random",
              "SAMPLING_FACTOR": 0.1,
              "SAMPLING_METHOD": "random",
              "STRINGIFY_COLUMN_VALUES": true,
              "STRINGIFY_INDEX_VALUES": false
            },
            "sample_history": [],
            "sampling_time": "2023-06-23T09:30:54.736981",
            "user_variable_name": null,
            "variable_name": "unk_dataframe_110b64ccdf1d45f9adee232b62c4abb9"
          }
        },
        "noteable": {
          "cell_type": "code",
          "output_collection_id": "6a46546a-4a85-4b98-9f9c-1ddca27184ba"
        }
      },
      "outputs": [],
      "source": [
        "# Find the most popular product categories\n",
        "top_categories = data.groupby('Product_Category')['Units'].sum().sort_values(ascending=False)\n",
        "top_categories"
      ]
    },
    {
      "cell_type": "code",
      "execution_count": null,
      "id": "cf937b4f-beb4-4bea-aa57-6b9fc1c03253",
      "metadata": {
        "ExecuteTime": {
          "end_time": "2023-06-23T09:31:32.195255+00:00",
          "start_time": "2023-06-23T09:31:31.944463+00:00"
        },
        "datalink": {
          "0271c3d0-80c5-47bc-a58d-f4f5fc16851a": {
            "applied_filters": [],
            "dataframe_info": {
              "default_index_used": false,
              "orig_num_cols": 1,
              "orig_num_rows": 4,
              "orig_size_bytes": 64,
              "truncated_num_cols": 1,
              "truncated_num_rows": 4,
              "truncated_size_bytes": 64,
              "truncated_string_columns": []
            },
            "display_id": "0271c3d0-80c5-47bc-a58d-f4f5fc16851a",
            "dx_settings": {
              "ALLOW_NOTEABLE_ATTRS": true,
              "COLUMN_SAMPLING_METHOD": "outer",
              "DB_LOCATION": ":memory:",
              "DEV_MODE": false,
              "DISPLAY_MAX_COLUMNS": 100,
              "DISPLAY_MAX_ROWS": 50000,
              "DISPLAY_MODE": "simple",
              "ENABLE_ASSIGNMENT": true,
              "ENABLE_DATALINK": true,
              "FLATTEN_COLUMN_VALUES": true,
              "FLATTEN_INDEX_VALUES": false,
              "GENERATE_DEX_METADATA": false,
              "HTML_TABLE_SCHEMA": false,
              "LOG_LEVEL": 30,
              "MAX_RENDER_SIZE_BYTES": 104857600,
              "MAX_STRING_LENGTH": 250,
              "NUM_PAST_SAMPLES_TRACKED": 3,
              "RANDOM_STATE": 12648430,
              "RESET_INDEX_VALUES": false,
              "ROW_SAMPLING_METHOD": "random",
              "SAMPLING_FACTOR": 0.1,
              "SAMPLING_METHOD": "random",
              "STRINGIFY_COLUMN_VALUES": true,
              "STRINGIFY_INDEX_VALUES": false
            },
            "sample_history": [],
            "sampling_time": "2023-06-23T09:31:32.037993",
            "user_variable_name": null,
            "variable_name": "unk_dataframe_76977bc81ccf49d58f18bde2416f597d"
          }
        },
        "noteable": {
          "cell_type": "code",
          "output_collection_id": "fc63048d-4cef-49dd-a808-5b4946b1617e"
        }
      },
      "outputs": [],
      "source": [
        "# Compare the sales of the stores in Guadalajara to the sales of stores in other areas\n",
        "area_sales = data.groupby('Store_Location')['Units'].sum().sort_values(ascending=False)\n",
        "area_sales"
      ]
    },
    {
      "cell_type": "code",
      "execution_count": null,
      "id": "31a81ed1-b10a-40ff-9f41-9e69b8f727cc",
      "metadata": {
        "ExecuteTime": {
          "end_time": "2023-06-23T09:31:59.251843+00:00",
          "start_time": "2023-06-23T09:31:59.027911+00:00"
        },
        "noteable": {
          "cell_type": "code",
          "output_collection_id": "d17c81a2-a9a2-4bd3-9bc0-461944c38358"
        }
      },
      "outputs": [],
      "source": [
        "# Check the unique values in the 'Store_Name' column\n",
        "data['Store_Name'].unique()"
      ]
    },
    {
      "cell_type": "code",
      "execution_count": null,
      "id": "6f31a5f9-7d00-4cb8-8c5b-b53d940cc7c1",
      "metadata": {
        "ExecuteTime": {
          "end_time": "2023-06-23T09:32:32.199854+00:00",
          "start_time": "2023-06-23T09:32:30.147009+00:00"
        },
        "datalink": {
          "ac85393d-db59-4d87-8f32-37104967f3ef": {
            "applied_filters": [],
            "dataframe_info": {
              "default_index_used": false,
              "orig_num_cols": 1,
              "orig_num_rows": 28,
              "orig_size_bytes": 448,
              "truncated_num_cols": 1,
              "truncated_num_rows": 28,
              "truncated_size_bytes": 448,
              "truncated_string_columns": []
            },
            "display_id": "ac85393d-db59-4d87-8f32-37104967f3ef",
            "dx_settings": {
              "ALLOW_NOTEABLE_ATTRS": true,
              "COLUMN_SAMPLING_METHOD": "outer",
              "DB_LOCATION": ":memory:",
              "DEV_MODE": false,
              "DISPLAY_MAX_COLUMNS": 100,
              "DISPLAY_MAX_ROWS": 50000,
              "DISPLAY_MODE": "simple",
              "ENABLE_ASSIGNMENT": true,
              "ENABLE_DATALINK": true,
              "FLATTEN_COLUMN_VALUES": true,
              "FLATTEN_INDEX_VALUES": false,
              "GENERATE_DEX_METADATA": false,
              "HTML_TABLE_SCHEMA": false,
              "LOG_LEVEL": 30,
              "MAX_RENDER_SIZE_BYTES": 104857600,
              "MAX_STRING_LENGTH": 250,
              "NUM_PAST_SAMPLES_TRACKED": 3,
              "RANDOM_STATE": 12648430,
              "RESET_INDEX_VALUES": false,
              "ROW_SAMPLING_METHOD": "random",
              "SAMPLING_FACTOR": 0.1,
              "SAMPLING_METHOD": "random",
              "STRINGIFY_COLUMN_VALUES": true,
              "STRINGIFY_INDEX_VALUES": false
            },
            "sample_history": [],
            "sampling_time": "2023-06-23T09:32:32.040106",
            "user_variable_name": null,
            "variable_name": "unk_dataframe_90d0d106f1fa4ecdba5e1fa5726e4741"
          }
        },
        "noteable": {
          "cell_type": "code",
          "output_collection_id": "4a09c46b-8e7d-4689-b30a-8f6f23322106"
        }
      },
      "outputs": [],
      "source": [
        "# Extract the city name from the 'Store_Name' column\n",
        "data['City'] = data['Store_Name'].str.split(' ').str[2]\n",
        "\n",
        "# Compare the sales of the stores in Guadalajara to the sales of stores in other cities\n",
        "city_sales = data.groupby('City')['Units'].sum().sort_values(ascending=False)\n",
        "city_sales"
      ]
    },
    {
      "cell_type": "code",
      "execution_count": null,
      "id": "d54d8301-69e6-4a99-b6b4-f67b3cc59d94",
      "metadata": {
        "ExecuteTime": {
          "end_time": "2023-06-23T09:33:04.094450+00:00",
          "start_time": "2023-06-23T09:33:03.671730+00:00"
        },
        "datalink": {
          "00847467-44c4-48ea-92a5-ea0e289b2601": {
            "applied_filters": [],
            "dataframe_info": {
              "default_index_used": false,
              "orig_num_cols": 1,
              "orig_num_rows": 4,
              "orig_size_bytes": 64,
              "truncated_num_cols": 1,
              "truncated_num_rows": 4,
              "truncated_size_bytes": 64,
              "truncated_string_columns": []
            },
            "display_id": "00847467-44c4-48ea-92a5-ea0e289b2601",
            "dx_settings": {
              "ALLOW_NOTEABLE_ATTRS": true,
              "COLUMN_SAMPLING_METHOD": "outer",
              "DB_LOCATION": ":memory:",
              "DEV_MODE": false,
              "DISPLAY_MAX_COLUMNS": 100,
              "DISPLAY_MAX_ROWS": 50000,
              "DISPLAY_MODE": "simple",
              "ENABLE_ASSIGNMENT": true,
              "ENABLE_DATALINK": true,
              "FLATTEN_COLUMN_VALUES": true,
              "FLATTEN_INDEX_VALUES": false,
              "GENERATE_DEX_METADATA": false,
              "HTML_TABLE_SCHEMA": false,
              "LOG_LEVEL": 30,
              "MAX_RENDER_SIZE_BYTES": 104857600,
              "MAX_STRING_LENGTH": 250,
              "NUM_PAST_SAMPLES_TRACKED": 3,
              "RANDOM_STATE": 12648430,
              "RESET_INDEX_VALUES": false,
              "ROW_SAMPLING_METHOD": "random",
              "SAMPLING_FACTOR": 0.1,
              "SAMPLING_METHOD": "random",
              "STRINGIFY_COLUMN_VALUES": true,
              "STRINGIFY_INDEX_VALUES": false
            },
            "sample_history": [],
            "sampling_time": "2023-06-23T09:33:03.939007",
            "user_variable_name": null,
            "variable_name": "unk_dataframe_7f31fc49fab34db4b5e77ba26efe6ce4"
          }
        },
        "noteable": {
          "cell_type": "code",
          "output_collection_id": "a16e1f49-c39e-416f-8c05-3cbca38b6d97"
        }
      },
      "outputs": [],
      "source": [
        "# Compare the sales of the individual stores in Guadalajara\n",
        "guadalajara_stores = data[data['City'] == 'Guadalajara']\n",
        "guadalajara_sales = guadalajara_stores.groupby('Store_Name')['Units'].sum().sort_values(ascending=False)\n",
        "guadalajara_sales"
      ]
    },
    {
      "cell_type": "code",
      "execution_count": null,
      "id": "85f2dd30-defb-4931-8f4c-96aeae65e7e9",
      "metadata": {
        "ExecuteTime": {
          "end_time": "2023-06-23T09:34:15.564402+00:00",
          "start_time": "2023-06-23T09:34:15.404321+00:00"
        },
        "noteable": {
          "cell_type": "code",
          "output_collection_id": "1f230aca-ad3e-4b22-8926-5d8b983cc527"
        }
      },
      "outputs": [],
      "source": [
        "# Calculate the average customer satisfaction\n",
        "avg_satisfaction = data['Customer_Satisfaction'].mean()\n",
        "avg_satisfaction"
      ]
    },
    {
      "cell_type": "code",
      "execution_count": null,
      "id": "7d47c381-0637-448e-bff1-fbac31bf0333",
      "metadata": {
        "ExecuteTime": {
          "end_time": "2023-06-23T09:34:59.017609+00:00",
          "start_time": "2023-06-23T09:34:54.299860+00:00"
        },
        "noteable": {
          "cell_type": "code",
          "output_collection_id": "f07a3d66-9ede-44aa-9b73-4440ba4e848d"
        }
      },
      "outputs": [],
      "source": [
        "# Import necessary libraries\n",
        "import matplotlib.pyplot as plt\n",
        "\n",
        "# Remove the dollar sign from the 'Product_Price' column and convert it to float\n",
        "data['Product_Price'] = data['Product_Price'].str.replace('$', '').astype(float)\n",
        "\n",
        "# Create a scatter plot of 'Product_Price' and 'Customer_Satisfaction'\n",
        "plt.figure(figsize=(10, 6))\n",
        "plt.scatter(data['Product_Price'], data['Customer_Satisfaction'], alpha=0.5)\n",
        "plt.title('Customer Satisfaction vs Product Price')\n",
        "plt.xlabel('Product Price')\n",
        "plt.ylabel('Customer Satisfaction')\n",
        "plt.show()"
      ]
    },
    {
      "cell_type": "code",
      "execution_count": null,
      "id": "332df27d-0b6f-468f-a721-2cf68c2de4f7",
      "metadata": {
        "ExecuteTime": {
          "end_time": "2023-06-23T09:35:22.338095+00:00",
          "start_time": "2023-06-23T09:35:22.087523+00:00"
        },
        "datalink": {
          "8bdb68f9-92a7-41d2-904a-8b4d23a36954": {
            "applied_filters": [],
            "dataframe_info": {
              "default_index_used": false,
              "orig_num_cols": 1,
              "orig_num_rows": 2,
              "orig_size_bytes": 32,
              "truncated_num_cols": 1,
              "truncated_num_rows": 2,
              "truncated_size_bytes": 32,
              "truncated_string_columns": []
            },
            "display_id": "8bdb68f9-92a7-41d2-904a-8b4d23a36954",
            "dx_settings": {
              "ALLOW_NOTEABLE_ATTRS": true,
              "COLUMN_SAMPLING_METHOD": "outer",
              "DB_LOCATION": ":memory:",
              "DEV_MODE": false,
              "DISPLAY_MAX_COLUMNS": 100,
              "DISPLAY_MAX_ROWS": 50000,
              "DISPLAY_MODE": "simple",
              "ENABLE_ASSIGNMENT": true,
              "ENABLE_DATALINK": true,
              "FLATTEN_COLUMN_VALUES": true,
              "FLATTEN_INDEX_VALUES": false,
              "GENERATE_DEX_METADATA": false,
              "HTML_TABLE_SCHEMA": false,
              "LOG_LEVEL": 30,
              "MAX_RENDER_SIZE_BYTES": 104857600,
              "MAX_STRING_LENGTH": 250,
              "NUM_PAST_SAMPLES_TRACKED": 3,
              "RANDOM_STATE": 12648430,
              "RESET_INDEX_VALUES": false,
              "ROW_SAMPLING_METHOD": "random",
              "SAMPLING_FACTOR": 0.1,
              "SAMPLING_METHOD": "random",
              "STRINGIFY_COLUMN_VALUES": true,
              "STRINGIFY_INDEX_VALUES": false
            },
            "sample_history": [],
            "sampling_time": "2023-06-23T09:35:22.182167",
            "user_variable_name": null,
            "variable_name": "unk_dataframe_5dfde341598440d594dbd65c34864711"
          }
        },
        "noteable": {
          "cell_type": "code",
          "output_collection_id": "31eea76c-f6c9-4c72-bb2c-b14b9af2486a"
        }
      },
      "outputs": [],
      "source": [
        "# Calculate the average customer satisfaction for each payment type\n",
        "payment_satisfaction = data.groupby('Sale_Payment_Type')['Customer_Satisfaction'].mean().sort_values(ascending=False)\n",
        "payment_satisfaction"
      ]
    },
    {
      "cell_type": "code",
      "execution_count": null,
      "id": "246dcd7e-e1e6-4eeb-9d5f-e06eb6244f82",
      "metadata": {
        "ExecuteTime": {
          "end_time": "2023-06-23T09:36:01.453250+00:00",
          "start_time": "2023-06-23T09:36:00.864210+00:00"
        },
        "noteable": {
          "cell_type": "code",
          "output_collection_id": "9b0605c4-822f-4a0e-a882-e07dd7dccefd"
        }
      },
      "outputs": [],
      "source": [
        "# Extract the month and year from the 'Date' column\n",
        "data['YearMonth'] = data['Date'].dt.to_period('M')\n",
        "\n",
        "# Calculate the total sales for each month\n",
        "monthly_sales = data.groupby('YearMonth')['Units'].sum()\n",
        "\n",
        "# Create a line plot of the total monthly sales\n",
        "plt.figure(figsize=(10, 6))\n",
        "monthly_sales.plot(kind='line')\n",
        "plt.title('Total Monthly Sales')\n",
        "plt.xlabel('Month')\n",
        "plt.ylabel('Total Sales')\n",
        "plt.show()"
      ]
    },
    {
      "cell_type": "code",
      "execution_count": null,
      "id": "f5619f07-a8a5-4e53-ad41-237dc3844592",
      "metadata": {
        "ExecuteTime": {
          "end_time": "2023-06-23T09:40:33.351660+00:00",
          "start_time": "2023-06-23T09:40:32.725553+00:00"
        },
        "noteable": {
          "cell_type": "code",
          "output_collection_id": "a403091f-22c9-4ee8-8669-67d83991b5e1"
        }
      },
      "outputs": [],
      "source": [
        "# Calculate the monthly sales for each product category\n",
        "category_sales = data.groupby(['YearMonth', 'Product_Category'])['Units'].sum().unstack()\n",
        "\n",
        "# Create a line plot of the monthly sales for each product category\n",
        "plt.figure(figsize=(10, 6))\n",
        "category_sales.plot(kind='line', ax=plt.gca())\n",
        "plt.title('Monthly Sales by Product Category')\n",
        "plt.xlabel('Month')\n",
        "plt.ylabel('Total Sales')\n",
        "plt.show()"
      ]
    },
    {
      "cell_type": "code",
      "execution_count": null,
      "id": "de38dfb9-7816-47df-bd1b-709824630127",
      "metadata": {
        "ExecuteTime": {
          "end_time": "2023-06-23T09:41:20.485741+00:00",
          "start_time": "2023-06-23T09:41:19.458936+00:00"
        },
        "noteable": {
          "cell_type": "code",
          "output_collection_id": "c37305d8-3e48-4e23-9c0a-349d53d527bc"
        }
      },
      "outputs": [],
      "source": [
        "# Calculate the monthly sales for each city\n",
        "city_sales = data.groupby(['YearMonth', 'City'])['Units'].sum().unstack()\n",
        "\n",
        "# Create a line plot of the monthly sales for each city\n",
        "plt.figure(figsize=(10, 6))\n",
        "city_sales.plot(kind='line', ax=plt.gca())\n",
        "plt.title('Monthly Sales by City')\n",
        "plt.xlabel('Month')\n",
        "plt.ylabel('Total Sales')\n",
        "plt.show()"
      ]
    },
    {
      "cell_type": "code",
      "execution_count": null,
      "id": "c59488c2-71a3-479a-b918-3ee52e098416",
      "metadata": {
        "ExecuteTime": {
          "end_time": "2023-06-23T09:42:03.571237+00:00",
          "start_time": "2023-06-23T09:41:59.819534+00:00"
        },
        "noteable": {
          "cell_type": "code",
          "output_collection_id": "68c35122-c855-48ad-a122-a47b774e3b33"
        }
      },
      "outputs": [],
      "source": [
        "# Create a scatter plot of 'Customer_Satisfaction' and 'Units'\n",
        "plt.figure(figsize=(10, 6))\n",
        "plt.scatter(data['Units'], data['Customer_Satisfaction'], alpha=0.5)\n",
        "plt.title('Customer Satisfaction vs Units Sold')\n",
        "plt.xlabel('Units Sold')\n",
        "plt.ylabel('Customer Satisfaction')\n",
        "plt.show()"
      ]
    }
  ],
  "metadata": {
    "kernelspec": {
      "display_name": "base",
      "language": "python",
      "name": "python3"
    },
    "language_info": {
      "codemirror_mode": {
        "name": "ipython",
        "version": 3
      },
      "file_extension": ".py",
      "mimetype": "text/x-python",
      "name": "python",
      "nbconvert_exporter": "python",
      "pygments_lexer": "ipython3",
      "version": "3.9.16"
    },
    "noteable": {
      "last_transaction_id": "f922dbb0-6369-4fc8-b4f3-96c051fffcb5"
    },
    "noteable-chatgpt": {
      "create_notebook": {
        "openai_conversation_id": "b12dda75-74bc-5e10-b608-5d0fb0eaced9",
        "openai_ephemeral_user_id": "fb59253a-b87c-5f92-808d-85fb34b9d8f7",
        "openai_subdivision1_iso_code": "CA-BC"
      }
    }
  },
  "nbformat": 4,
  "nbformat_minor": 5
}

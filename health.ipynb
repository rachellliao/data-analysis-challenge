{
 "cells": [
  {
   "attachments": {},
   "cell_type": "markdown",
   "metadata": {},
   "source": [
    "# <a id='toc1_'></a>[Stats and Public Health Part 1](#toc0_)\n",
    "\n",
    "Sam Celarek  \n",
    "Data Science   \n",
    "scelarek@gmail.com  \n",
    "\n",
    "June 4th, 2023"
   ]
  },
  {
   "attachments": {},
   "cell_type": "markdown",
   "metadata": {},
   "source": [
    "**Table of contents**<a id='toc0_'></a>    \n",
    "- [Stats and Public Health Part 1](#toc1_)    \n",
    "  - [Introduction:](#toc1_1_)    \n",
    "  - [Methodology:](#toc1_2_)    \n",
    "  - [Part 1 - Basic Data Wrangling](#toc1_3_)    \n",
    "    - [1.1 What is the Shape of the dataframe?](#toc1_3_1_)    \n",
    "    - [1.2 Convert 'Date' column to datetime type](#toc1_3_2_)    \n",
    "    - [1.3 Analysis of Two Numeric and Two Categorical columns: What are storing? How are they distributed?](#toc1_3_3_)    \n",
    "    - [1.4a Duplicate Columns](#toc1_3_4_)    \n",
    "    - [1.4b Duplicated Row Assessment:](#toc1_3_5_)    \n",
    "    - [1.5a Handling Null Values](#toc1_3_6_)    \n",
    "    - [1.5b Other Data Cleaning Tasks Performed](#toc1_3_7_)    \n",
    "  - [Part 2 - Basic EDA](#toc1_4_)    \n",
    "    - [2.1 Visual Exploration: Mosquito Number and Date](#toc1_4_1_)    \n",
    "  - [Part 3 - Advanced EDA](#toc1_5_)    \n",
    "    - [3.1 Visual Exploration:  Mosquito Species and WNV Prevalence](#toc1_5_1_)    \n",
    "    - [3.2 Visual Exploration: Number of Mosquitos Caught and Trap Type.](#toc1_5_2_)    \n",
    "    - [3.3 Visual Exploration: Timeline and Geographical Heatmap of Prevalence](#toc1_5_3_)    \n",
    "      - [3.3.1 Timeline of Yearly West Nile Virus Prevalence](#toc1_5_3_1_)    \n",
    "      - [3.3.2 Chloropleth Map of Prevalence by Zipcode](#toc1_5_3_2_)    \n",
    "\n",
    "<!-- vscode-jupyter-toc-config\n",
    "\tnumbering=false\n",
    "\tanchor=true\n",
    "\tflat=false\n",
    "\tminLevel=1\n",
    "\tmaxLevel=6\n",
    "\t/vscode-jupyter-toc-config -->\n",
    "<!-- THIS CELL WILL BE REPLACED ON TOC UPDATE. DO NOT WRITE YOUR TEXT IN THIS CELL -->"
   ]
  },
  {
   "attachments": {},
   "cell_type": "markdown",
   "metadata": {},
   "source": [
    "## <a id='toc1_1_'></a>[Introduction:](#toc0_)"
   ]
  },
  {
   "attachments": {},
   "cell_type": "markdown",
   "metadata": {},
   "source": [
    "This project focuses on analyzing mosquito tracking data from the city of Chicago, Illinois, spanning from 2008 to 2019. The dataset offers valuable insights into mosquito populations and the prevalence of West Nile Virus (WNV) in the city. By conducting exploratory data analysis and data wrangling in python, we aim to visualize trends and uncover patterns that can contribute to effective strategies for WNV prevention and control."
   ]
  },
  {
   "attachments": {},
   "cell_type": "markdown",
   "metadata": {},
   "source": [
    "## <a id='toc1_2_'></a>[Methodology:](#toc0_)"
   ]
  },
  {
   "attachments": {},
   "cell_type": "markdown",
   "metadata": {},
   "source": [
    "First, import all the relevant libraries and load the data into a dataframe."
   ]
  },
  {
   "cell_type": "code",
   "execution_count": 1,
   "metadata": {},
   "outputs": [
    {
     "data": {
      "text/html": [
       "<div>\n",
       "<style scoped>\n",
       "    .dataframe tbody tr th:only-of-type {\n",
       "        vertical-align: middle;\n",
       "    }\n",
       "\n",
       "    .dataframe tbody tr th {\n",
       "        vertical-align: top;\n",
       "    }\n",
       "\n",
       "    .dataframe thead th {\n",
       "        text-align: right;\n",
       "    }\n",
       "</style>\n",
       "<table border=\"1\" class=\"dataframe\">\n",
       "  <thead>\n",
       "    <tr style=\"text-align: right;\">\n",
       "      <th></th>\n",
       "      <th>Year</th>\n",
       "      <th>Week</th>\n",
       "      <th>Address Block</th>\n",
       "      <th>Block</th>\n",
       "      <th>Trap</th>\n",
       "      <th>Trap type</th>\n",
       "      <th>Date</th>\n",
       "      <th>Mosquito number</th>\n",
       "      <th>Mosquito ID</th>\n",
       "      <th>WNV Present</th>\n",
       "      <th>Species</th>\n",
       "      <th>Lat</th>\n",
       "      <th>Lon</th>\n",
       "    </tr>\n",
       "  </thead>\n",
       "  <tbody>\n",
       "    <tr>\n",
       "      <th>0</th>\n",
       "      <td>2019</td>\n",
       "      <td>39</td>\n",
       "      <td>100XX W OHARE AIRPORT</td>\n",
       "      <td>100</td>\n",
       "      <td>T910</td>\n",
       "      <td>GRAVID</td>\n",
       "      <td>2019-09-26 00:09:00</td>\n",
       "      <td>2</td>\n",
       "      <td>Res</td>\n",
       "      <td>negative</td>\n",
       "      <td>CULEX RESTUANS</td>\n",
       "      <td>NaN</td>\n",
       "      <td>NaN</td>\n",
       "    </tr>\n",
       "    <tr>\n",
       "      <th>1</th>\n",
       "      <td>2019</td>\n",
       "      <td>39</td>\n",
       "      <td>52XX S KOLMAR AVE</td>\n",
       "      <td>52</td>\n",
       "      <td>T114</td>\n",
       "      <td>GRAVID</td>\n",
       "      <td>2019-09-26 00:09:00</td>\n",
       "      <td>1</td>\n",
       "      <td>Res</td>\n",
       "      <td>negative</td>\n",
       "      <td>CULEX RESTUANS</td>\n",
       "      <td>41.798211</td>\n",
       "      <td>-87.736925</td>\n",
       "    </tr>\n",
       "    <tr>\n",
       "      <th>2</th>\n",
       "      <td>2019</td>\n",
       "      <td>39</td>\n",
       "      <td>58XX N WESTERN AVE</td>\n",
       "      <td>58</td>\n",
       "      <td>T028</td>\n",
       "      <td>GRAVID</td>\n",
       "      <td>2019-09-26 00:09:00</td>\n",
       "      <td>2</td>\n",
       "      <td>Res</td>\n",
       "      <td>negative</td>\n",
       "      <td>CULEX RESTUANS</td>\n",
       "      <td>41.987245</td>\n",
       "      <td>-87.689417</td>\n",
       "    </tr>\n",
       "    <tr>\n",
       "      <th>3</th>\n",
       "      <td>2019</td>\n",
       "      <td>39</td>\n",
       "      <td>39XX N SPRINGFIELD AVE</td>\n",
       "      <td>39</td>\n",
       "      <td>T228</td>\n",
       "      <td>GRAVID</td>\n",
       "      <td>2019-09-26 00:09:00</td>\n",
       "      <td>1</td>\n",
       "      <td>Res</td>\n",
       "      <td>negative</td>\n",
       "      <td>CULEX RESTUANS</td>\n",
       "      <td>41.953664</td>\n",
       "      <td>-87.724987</td>\n",
       "    </tr>\n",
       "    <tr>\n",
       "      <th>4</th>\n",
       "      <td>2019</td>\n",
       "      <td>39</td>\n",
       "      <td>131XX S BRANDON AVE</td>\n",
       "      <td>131</td>\n",
       "      <td>T209</td>\n",
       "      <td>GRAVID</td>\n",
       "      <td>2019-09-26 00:09:00</td>\n",
       "      <td>9</td>\n",
       "      <td>Res</td>\n",
       "      <td>negative</td>\n",
       "      <td>CULEX RESTUANS</td>\n",
       "      <td>41.657069</td>\n",
       "      <td>-87.546049</td>\n",
       "    </tr>\n",
       "  </tbody>\n",
       "</table>\n",
       "</div>"
      ],
      "text/plain": [
       "   Year  Week           Address Block  Block  Trap Trap type  \\\n",
       "0  2019    39   100XX W OHARE AIRPORT    100  T910    GRAVID   \n",
       "1  2019    39       52XX S KOLMAR AVE     52  T114    GRAVID   \n",
       "2  2019    39      58XX N WESTERN AVE     58  T028    GRAVID   \n",
       "3  2019    39  39XX N SPRINGFIELD AVE     39  T228    GRAVID   \n",
       "4  2019    39     131XX S BRANDON AVE    131  T209    GRAVID   \n",
       "\n",
       "                  Date  Mosquito number Mosquito ID WNV Present  \\\n",
       "0  2019-09-26 00:09:00                2         Res    negative   \n",
       "1  2019-09-26 00:09:00                1         Res    negative   \n",
       "2  2019-09-26 00:09:00                2         Res    negative   \n",
       "3  2019-09-26 00:09:00                1         Res    negative   \n",
       "4  2019-09-26 00:09:00                9         Res    negative   \n",
       "\n",
       "          Species        Lat        Lon  \n",
       "0  CULEX RESTUANS        NaN        NaN  \n",
       "1  CULEX RESTUANS  41.798211 -87.736925  \n",
       "2  CULEX RESTUANS  41.987245 -87.689417  \n",
       "3  CULEX RESTUANS  41.953664 -87.724987  \n",
       "4  CULEX RESTUANS  41.657069 -87.546049  "
      ]
     },
     "execution_count": 1,
     "metadata": {},
     "output_type": "execute_result"
    }
   ],
   "source": [
    "# Import necessary libraries\n",
    "import pandas as pd\n",
    "import numpy as np\n",
    "import matplotlib.pyplot as plt\n",
    "import seaborn as sns\n",
    "import datetime as dt\n",
    "import re\n",
    "\n",
    "# Geoplot Libraries\n",
    "import time\n",
    "from geopy.geocoders import Nominatim\n",
    "from tqdm.auto import tqdm, trange\n",
    "import geopandas as gpd\n",
    "\n",
    "# initialize styling params\n",
    "plt.rcParams['figure.figsize'] = (8.0, 6.0) #setting figure size\n",
    "\n",
    "# Load the data\n",
    "dirty_mosq_data = pd.read_csv('Data/mosquito_data.csv')\n",
    "\n",
    "# Display the first few rows of the dataframe\n",
    "dirty_mosq_data.head()"
   ]
  },
  {
   "cell_type": "code",
   "execution_count": 2,
   "metadata": {},
   "outputs": [],
   "source": [
    "# Pre-Cleaning Copy\n",
    "mosq_df = dirty_mosq_data.copy()"
   ]
  },
  {
   "attachments": {},
   "cell_type": "markdown",
   "metadata": {},
   "source": [
    "## <a id='toc1_3_'></a>[Part 1 - Basic Data Wrangling](#toc0_)\n"
   ]
  },
  {
   "attachments": {},
   "cell_type": "markdown",
   "metadata": {},
   "source": [
    "### <a id='toc1_3_1_'></a>[1.1 What is the Shape of the dataframe?](#toc0_)\n",
    "\n",
    "The dataframe has 13 columns and 18495 rows."
   ]
  },
  {
   "cell_type": "code",
   "execution_count": 3,
   "metadata": {},
   "outputs": [
    {
     "name": "stdout",
     "output_type": "stream",
     "text": [
      "(18495, 13)\n",
      "<class 'pandas.core.frame.DataFrame'>\n",
      "RangeIndex: 18495 entries, 0 to 18494\n",
      "Data columns (total 13 columns):\n",
      " #   Column           Non-Null Count  Dtype  \n",
      "---  ------           --------------  -----  \n",
      " 0   Year             18495 non-null  int64  \n",
      " 1   Week             18495 non-null  int64  \n",
      " 2   Address Block    18495 non-null  object \n",
      " 3   Block            18495 non-null  int64  \n",
      " 4   Trap             18495 non-null  object \n",
      " 5   Trap type        18495 non-null  object \n",
      " 6   Date             18495 non-null  object \n",
      " 7   Mosquito number  18495 non-null  int64  \n",
      " 8   Mosquito ID      18495 non-null  object \n",
      " 9   WNV Present      18495 non-null  object \n",
      " 10  Species          18495 non-null  object \n",
      " 11  Lat              15571 non-null  float64\n",
      " 12  Lon              15571 non-null  float64\n",
      "dtypes: float64(2), int64(4), object(7)\n",
      "memory usage: 1.8+ MB\n"
     ]
    },
    {
     "data": {
      "text/html": [
       "<div>\n",
       "<style scoped>\n",
       "    .dataframe tbody tr th:only-of-type {\n",
       "        vertical-align: middle;\n",
       "    }\n",
       "\n",
       "    .dataframe tbody tr th {\n",
       "        vertical-align: top;\n",
       "    }\n",
       "\n",
       "    .dataframe thead th {\n",
       "        text-align: right;\n",
       "    }\n",
       "</style>\n",
       "<table border=\"1\" class=\"dataframe\">\n",
       "  <thead>\n",
       "    <tr style=\"text-align: right;\">\n",
       "      <th></th>\n",
       "      <th>Year</th>\n",
       "      <th>Week</th>\n",
       "      <th>Block</th>\n",
       "      <th>Mosquito number</th>\n",
       "      <th>Lat</th>\n",
       "      <th>Lon</th>\n",
       "    </tr>\n",
       "  </thead>\n",
       "  <tbody>\n",
       "    <tr>\n",
       "      <th>count</th>\n",
       "      <td>18495.000000</td>\n",
       "      <td>18495.000000</td>\n",
       "      <td>18495.000000</td>\n",
       "      <td>18495.000000</td>\n",
       "      <td>15571.000000</td>\n",
       "      <td>15571.000000</td>\n",
       "    </tr>\n",
       "    <tr>\n",
       "      <th>mean</th>\n",
       "      <td>2012.905812</td>\n",
       "      <td>31.004001</td>\n",
       "      <td>54.314788</td>\n",
       "      <td>10.879913</td>\n",
       "      <td>41.839963</td>\n",
       "      <td>-87.691642</td>\n",
       "    </tr>\n",
       "    <tr>\n",
       "      <th>std</th>\n",
       "      <td>3.725857</td>\n",
       "      <td>4.332020</td>\n",
       "      <td>36.712796</td>\n",
       "      <td>13.475066</td>\n",
       "      <td>0.111374</td>\n",
       "      <td>0.076545</td>\n",
       "    </tr>\n",
       "    <tr>\n",
       "      <th>min</th>\n",
       "      <td>2007.000000</td>\n",
       "      <td>20.000000</td>\n",
       "      <td>1.000000</td>\n",
       "      <td>1.000000</td>\n",
       "      <td>41.644720</td>\n",
       "      <td>-87.854473</td>\n",
       "    </tr>\n",
       "    <tr>\n",
       "      <th>25%</th>\n",
       "      <td>2010.000000</td>\n",
       "      <td>28.000000</td>\n",
       "      <td>22.000000</td>\n",
       "      <td>2.000000</td>\n",
       "      <td>41.742670</td>\n",
       "      <td>-87.747459</td>\n",
       "    </tr>\n",
       "    <tr>\n",
       "      <th>50%</th>\n",
       "      <td>2013.000000</td>\n",
       "      <td>31.000000</td>\n",
       "      <td>51.000000</td>\n",
       "      <td>5.000000</td>\n",
       "      <td>41.845715</td>\n",
       "      <td>-87.691698</td>\n",
       "    </tr>\n",
       "    <tr>\n",
       "      <th>75%</th>\n",
       "      <td>2016.000000</td>\n",
       "      <td>34.000000</td>\n",
       "      <td>89.000000</td>\n",
       "      <td>14.000000</td>\n",
       "      <td>41.945961</td>\n",
       "      <td>-87.637873</td>\n",
       "    </tr>\n",
       "    <tr>\n",
       "      <th>max</th>\n",
       "      <td>2019.000000</td>\n",
       "      <td>40.000000</td>\n",
       "      <td>132.000000</td>\n",
       "      <td>50.000000</td>\n",
       "      <td>42.017801</td>\n",
       "      <td>-87.531051</td>\n",
       "    </tr>\n",
       "  </tbody>\n",
       "</table>\n",
       "</div>"
      ],
      "text/plain": [
       "               Year          Week         Block  Mosquito number  \\\n",
       "count  18495.000000  18495.000000  18495.000000     18495.000000   \n",
       "mean    2012.905812     31.004001     54.314788        10.879913   \n",
       "std        3.725857      4.332020     36.712796        13.475066   \n",
       "min     2007.000000     20.000000      1.000000         1.000000   \n",
       "25%     2010.000000     28.000000     22.000000         2.000000   \n",
       "50%     2013.000000     31.000000     51.000000         5.000000   \n",
       "75%     2016.000000     34.000000     89.000000        14.000000   \n",
       "max     2019.000000     40.000000    132.000000        50.000000   \n",
       "\n",
       "                Lat           Lon  \n",
       "count  15571.000000  15571.000000  \n",
       "mean      41.839963    -87.691642  \n",
       "std        0.111374      0.076545  \n",
       "min       41.644720    -87.854473  \n",
       "25%       41.742670    -87.747459  \n",
       "50%       41.845715    -87.691698  \n",
       "75%       41.945961    -87.637873  \n",
       "max       42.017801    -87.531051  "
      ]
     },
     "execution_count": 3,
     "metadata": {},
     "output_type": "execute_result"
    }
   ],
   "source": [
    "print(mosq_df.shape)\n",
    "\n",
    "# Look at the information and descriptive statistics of the dataframe\n",
    "dirty_mosq_data.info()\n",
    "dirty_mosq_data.describe()"
   ]
  },
  {
   "attachments": {},
   "cell_type": "markdown",
   "metadata": {},
   "source": [
    "### <a id='toc1_3_2_'></a>[1.2 Convert 'Date' column to datetime type](#toc0_)\n",
    "\n",
    "The \"Date\" column previously had a string type, but using the `pd.to_datetime` function let me convert it seamlessly to the datetime type. This is because it had string data in a format that was ready to convert. "
   ]
  },
  {
   "cell_type": "code",
   "execution_count": 4,
   "metadata": {},
   "outputs": [
    {
     "data": {
      "text/plain": [
       "0   2019-09-26 00:09:00\n",
       "1   2019-09-26 00:09:00\n",
       "2   2019-09-26 00:09:00\n",
       "3   2019-09-26 00:09:00\n",
       "4   2019-09-26 00:09:00\n",
       "Name: Date, dtype: datetime64[ns]"
      ]
     },
     "execution_count": 4,
     "metadata": {},
     "output_type": "execute_result"
    }
   ],
   "source": [
    "mosq_df['Date'] = pd.to_datetime(mosq_df.Date)\n",
    "\n",
    "mosq_df['Date'].head()"
   ]
  },
  {
   "attachments": {},
   "cell_type": "markdown",
   "metadata": {},
   "source": [
    "### <a id='toc1_3_3_'></a>[1.3 Analysis of Two Numeric and Two Categorical columns: What are storing? How are they distributed?](#toc0_)\n"
   ]
  },
  {
   "attachments": {},
   "cell_type": "markdown",
   "metadata": {},
   "source": [
    "Two categorical columns are 'Trap Type' and 'Species'. These columns store information about the type of trap used to catch mosquitos and the species of mosquitos found in the trap at the time of collection. \n",
    "\n",
    "The 4 unique 'Trap types' categories are: 'GRAVID', 'OVI', 'SENTINEL', and 'CDC' and described further in the table below. \n",
    "\n",
    "| Trap Type   | Description                                                     |\n",
    "|-------------|-----------------------------------------------------------------|\n",
    "| Gravid Traps | Lure pregnant female mosquitoes using attractive oviposition water |\n",
    "| CDC         | Use a light bulb to attract mosquitoes                          |\n",
    "| Sentinel    | Uses a lure and can use CO2 to simulate humans                   |\n",
    "| Ovi         | Short for Oviposition, place oviposition water for females to lay eggs |\n",
    "\n",
    "[Source](https://www.kaggle.com/code/nicolefijman/west-nile-virus-in-chicago?scriptVersionId=87426077&cellId=15)\n",
    "\n",
    "The four 'Species' of mosquito are: Culex restuans, Culex pipiens, Culex territans, and Culex salinarius.\n",
    "\n",
    "- Culex restuans is the most common species in this data set, with a count of 11,866. This suggests that this species is either more prevalent in the environment or is more easily captured/identified compared to the other species.\n",
    "\n",
    "- The second most common species is Culex pipiens, with a count of 5,486. This species is less than half as common as Culex restuans in this data set.\n",
    "\n",
    "- Culex territans is considerably less common than the first two species, with a count of 917. This may suggest that this species has a lower population, or that it is less likely to be captured or identified for some reason.\n",
    "\n",
    "- The least common species in this data set is Culex salinarius, with a count of only 226. This species may be the least prevalent in the environment, or the least likely to be captured or identified."
   ]
  },
  {
   "cell_type": "code",
   "execution_count": 5,
   "metadata": {},
   "outputs": [
    {
     "data": {
      "text/plain": [
       "Year                 13\n",
       "Week                 21\n",
       "Address Block       154\n",
       "Block                87\n",
       "Trap                190\n",
       "Trap type             4\n",
       "Date                298\n",
       "Mosquito number      50\n",
       "Mosquito ID           4\n",
       "WNV Present           2\n",
       "Species               4\n",
       "Lat                2500\n",
       "Lon                2500\n",
       "dtype: int64"
      ]
     },
     "execution_count": 5,
     "metadata": {},
     "output_type": "execute_result"
    }
   ],
   "source": [
    "# Assess which columns had only a limited variety of unique values. \n",
    "# Usually columns with <10 unique values are categorical.\n",
    "mosq_df.nunique()"
   ]
  },
  {
   "cell_type": "code",
   "execution_count": 6,
   "metadata": {},
   "outputs": [
    {
     "data": {
      "text/plain": [
       "GRAVID      17741\n",
       "CDC           544\n",
       "SENTINEL      209\n",
       "OVI             1\n",
       "Name: Trap type, dtype: int64"
      ]
     },
     "metadata": {},
     "output_type": "display_data"
    },
    {
     "data": {
      "text/plain": [
       "Text(0.5, 1.0, 'Distribution of Trap Type')"
      ]
     },
     "execution_count": 6,
     "metadata": {},
     "output_type": "execute_result"
    },
    {
     "data": {
      "image/png": "[encoded data removed]",
      "text/plain": [
       "<Figure size 800x600 with 1 Axes>"
      ]
     },
     "metadata": {},
     "output_type": "display_data"
    }
   ],
   "source": [
    "#1st categorical analysis\n",
    "display(mosq_df['Trap type'].value_counts()) \n",
    "mosq_df['Trap type'].value_counts().plot(kind='bar')\n",
    "\n",
    "plt.xlabel('Trap Type')\n",
    "plt.ylabel('Count')\n",
    "plt.title('Distribution of Trap Type')"
   ]
  },
  {
   "cell_type": "code",
   "execution_count": 7,
   "metadata": {},
   "outputs": [
    {
     "data": {
      "text/plain": [
       "CULEX RESTUANS      11866\n",
       "CULEX PIPIENS        5486\n",
       "CULEX TERRITANS       917\n",
       "CULEX SALINARIUS      226\n",
       "Name: Species, dtype: int64"
      ]
     },
     "metadata": {},
     "output_type": "display_data"
    },
    {
     "data": {
      "text/plain": [
       "Text(0.5, 1.0, 'Distribution of Species of Mosquitoes')"
      ]
     },
     "execution_count": 7,
     "metadata": {},
     "output_type": "execute_result"
    },
    {
     "data": {
      "image/png": "[encoded data removed]",
      "text/plain": [
       "<Figure size 800x600 with 1 Axes>"
      ]
     },
     "metadata": {},
     "output_type": "display_data"
    }
   ],
   "source": [
    "\n",
    "#2nd categorical analysis\n",
    "display(mosq_df['Species'].value_counts())\n",
    "mosq_df['Species'].value_counts().plot(kind='bar')\n",
    "plt.xlabel('Species')\n",
    "plt.ylabel('Count')\n",
    "\n",
    "plt.title('Distribution of Species of Mosquitoes')"
   ]
  },
  {
   "attachments": {},
   "cell_type": "markdown",
   "metadata": {},
   "source": [
    "The two numerical columns I analyzed were 'Mosquito Number' and 'Longitude'.\n",
    "\n",
    "'Mosquito number' is the number of mosquitos in each sample is going to be a very important statistic for my analysis. The 'mosquito number' is widely distributed about the mean of 10, with a standard deviation of ~13.5. It is also a very left skewed distribution. \n",
    "\n",
    "The 'Lon' column represented Longitude values, which indicates how West or East the trap is located. The mean longitude is -87.69, which is slightly West of the center of Chicago. The standard deviation is 0.08, which is very small and indicates that the traps are located very close to each other. "
   ]
  },
  {
   "cell_type": "code",
   "execution_count": 8,
   "metadata": {},
   "outputs": [
    {
     "data": {
      "text/plain": [
       "count    18495.000000\n",
       "mean        10.879913\n",
       "std         13.475066\n",
       "min          1.000000\n",
       "25%          2.000000\n",
       "50%          5.000000\n",
       "75%         14.000000\n",
       "max         50.000000\n",
       "Name: Mosquito number, dtype: float64"
      ]
     },
     "metadata": {},
     "output_type": "display_data"
    },
    {
     "data": {
      "text/plain": [
       "Text(0.5, 1.0, 'Distribution of Mosquito Number')"
      ]
     },
     "execution_count": 8,
     "metadata": {},
     "output_type": "execute_result"
    },
    {
     "data": {
      "image/png": "[encoded data removed]",
      "text/plain": [
       "<Figure size 800x600 with 1 Axes>"
      ]
     },
     "metadata": {},
     "output_type": "display_data"
    }
   ],
   "source": [
    "#1st numerical analysis\n",
    "\n",
    "display(mosq_df['Mosquito number'].describe())\n",
    "\n",
    "mosq_df['Mosquito number'].plot(kind='hist', title='Mosquito Number Histogram')\n",
    "plt.xlabel('Mosquito number')\n",
    "plt.ylabel('Frequency')\n",
    "plt.title('Distribution of Mosquito Number')"
   ]
  },
  {
   "cell_type": "code",
   "execution_count": 9,
   "metadata": {},
   "outputs": [
    {
     "data": {
      "text/plain": [
       "count    15571.000000\n",
       "mean       -87.691642\n",
       "std          0.076545\n",
       "min        -87.854473\n",
       "25%        -87.747459\n",
       "50%        -87.691698\n",
       "75%        -87.637873\n",
       "max        -87.531051\n",
       "Name: Lon, dtype: float64"
      ]
     },
     "metadata": {},
     "output_type": "display_data"
    },
    {
     "data": {
      "text/plain": [
       "Text(0.5, 1.0, 'Distribution of Longitude')"
      ]
     },
     "execution_count": 9,
     "metadata": {},
     "output_type": "execute_result"
    },
    {
     "data": {
      "image/png": "[encoded data removed]",
      "text/plain": [
       "<Figure size 800x600 with 1 Axes>"
      ]
     },
     "metadata": {},
     "output_type": "display_data"
    }
   ],
   "source": [
    "\n",
    "#2nd numerical analysis\n",
    "\n",
    "display(mosq_df['Lon'].describe())\n",
    "\n",
    "mosq_df['Lon'].plot(kind='hist')\n",
    "plt.xlabel('Longitude')\n",
    "plt.ylabel('Frequency')\n",
    "plt.title('Distribution of Longitude')"
   ]
  },
  {
   "attachments": {},
   "cell_type": "markdown",
   "metadata": {},
   "source": [
    "\n",
    "### <a id='toc1_3_4_'></a>[1.4a Duplicate Columns](#toc0_)\n",
    "\n"
   ]
  },
  {
   "attachments": {},
   "cell_type": "markdown",
   "metadata": {},
   "source": [
    "\n",
    "Upon examining the dataset, I found no overtly duplicated columns. However, certain columns contained information that was fully encompassed by others. For instance, 'Mosquito ID' mirrored 'Mosquito Species', 'Block' corresponded to the initial two digits of the 'Address Block' column, and 'Year' was contained in the 'Date' column. The process demonstrating these equivalences is detailed below.\n",
    "\n",
    "Interestingly, the 'Week' column in the original dataset **did not align** with the week information derived from the 'Date' column. This discrepancy could be attributed to differences in how weeks are calculated in pandas versus the 'Week' column. Given this inconsistency, I opted to utilize the 'Date' column for my analysis. In a professional setting, it would be prudent to reach out to the data curator to gain a better understanding of this discrepancy.\n"
   ]
  },
  {
   "cell_type": "code",
   "execution_count": 10,
   "metadata": {},
   "outputs": [
    {
     "data": {
      "text/plain": [
       "Year               False\n",
       "Week               False\n",
       "Address Block      False\n",
       "Block              False\n",
       "Trap               False\n",
       "Trap type          False\n",
       "Date               False\n",
       "Mosquito number    False\n",
       "Mosquito ID        False\n",
       "WNV Present        False\n",
       "Species            False\n",
       "Lat                False\n",
       "Lon                False\n",
       "dtype: bool"
      ]
     },
     "execution_count": 10,
     "metadata": {},
     "output_type": "execute_result"
    }
   ],
   "source": [
    "mosq_df.T.duplicated()"
   ]
  },
  {
   "attachments": {},
   "cell_type": "markdown",
   "metadata": {},
   "source": [
    "Mosquite ID was redundant."
   ]
  },
  {
   "cell_type": "code",
   "execution_count": 11,
   "metadata": {},
   "outputs": [
    {
     "data": {
      "text/plain": [
       "Mosquito ID  Species         \n",
       "Res          CULEX RESTUANS      11866\n",
       "Pip          CULEX PIPIENS        5486\n",
       "Ter          CULEX TERRITANS       917\n",
       "Sal          CULEX SALINARIUS      226\n",
       "dtype: int64"
      ]
     },
     "execution_count": 11,
     "metadata": {},
     "output_type": "execute_result"
    }
   ],
   "source": [
    "# This value counts function ensures that every combination of mosquito ID \n",
    "# has a 1-to-1 match in species that fully explains the changes in Mosquito ID\n",
    "mosq_df[['Mosquito ID', 'Species']].value_counts()"
   ]
  },
  {
   "attachments": {},
   "cell_type": "markdown",
   "metadata": {},
   "source": [
    "Block was redundant."
   ]
  },
  {
   "cell_type": "code",
   "execution_count": 12,
   "metadata": {},
   "outputs": [
    {
     "data": {
      "text/plain": [
       "1.0"
      ]
     },
     "execution_count": 12,
     "metadata": {},
     "output_type": "execute_result"
    }
   ],
   "source": [
    "# I made a new column extracting the block number from the address block, then compared it to the block number\n",
    "mosq_df['new_block'] = mosq_df['Address Block'].str.extract(r'(\\d+)', expand=True).astype('int')\n",
    "\n",
    "# the new column was a perfect match for the block column, meaning it could be removed without any loss of information\n",
    "(mosq_df.new_block == mosq_df.Block).mean()"
   ]
  },
  {
   "attachments": {},
   "cell_type": "markdown",
   "metadata": {},
   "source": [
    "Year was redundant."
   ]
  },
  {
   "cell_type": "code",
   "execution_count": 13,
   "metadata": {},
   "outputs": [
    {
     "data": {
      "text/plain": [
       "1.0"
      ]
     },
     "execution_count": 13,
     "metadata": {},
     "output_type": "execute_result"
    }
   ],
   "source": [
    "# The year column was completely explained by the date column\n",
    "(mosq_df.Year == mosq_df.Date.dt.isocalendar().year).mean()"
   ]
  },
  {
   "attachments": {},
   "cell_type": "markdown",
   "metadata": {},
   "source": [
    "Week was not redundant."
   ]
  },
  {
   "cell_type": "code",
   "execution_count": 14,
   "metadata": {},
   "outputs": [
    {
     "data": {
      "text/plain": [
       "0.6712084347120844"
      ]
     },
     "execution_count": 14,
     "metadata": {},
     "output_type": "execute_result"
    }
   ],
   "source": [
    "# Week compared to Data.dt.week only matched 2/3 of the time.\n",
    "\n",
    "(mosq_df.Week == mosq_df.Date.dt.isocalendar().week).mean()"
   ]
  },
  {
   "cell_type": "code",
   "execution_count": 15,
   "metadata": {},
   "outputs": [],
   "source": [
    "# update the dataframe to remove the columns that are no longer needed\n",
    "mosq_df = mosq_df.drop(['Mosquito ID', 'Block', 'Year', 'new_block'], axis=1)\n",
    "\n"
   ]
  },
  {
   "attachments": {},
   "cell_type": "markdown",
   "metadata": {},
   "source": [
    "### <a id='toc1_3_5_'></a>[1.4b Duplicated Row Assessment:](#toc0_)\n",
    "\n",
    "I also checked for regular duplicated data here and found 658 duplicated entries or 3.56%. I originally considered dropping these entries from my dataframe because they were small and seemed like an error. However after some investigation, including grouping and summing all entries and looking at specific overflow entries, I decided that duplicate rows were likely the 'overflow' entries that were mentioned in the data dictionary. Work is shown below."
   ]
  },
  {
   "cell_type": "code",
   "execution_count": 16,
   "metadata": {},
   "outputs": [
    {
     "data": {
      "text/plain": [
       "(658, 18495, 0.035577183022438494)"
      ]
     },
     "execution_count": 16,
     "metadata": {},
     "output_type": "execute_result"
    }
   ],
   "source": [
    "# Duplicated data check\n",
    "mosq_df.duplicated().sum(), mosq_df.duplicated().count(), mosq_df.duplicated().mean()\n"
   ]
  },
  {
   "cell_type": "code",
   "execution_count": 17,
   "metadata": {},
   "outputs": [
    {
     "name": "stdout",
     "output_type": "stream",
     "text": [
      "<class 'pandas.core.frame.DataFrame'>\n",
      "Int64Index: 658 entries, 15495 to 18494\n",
      "Data columns (total 10 columns):\n",
      " #   Column           Non-Null Count  Dtype         \n",
      "---  ------           --------------  -----         \n",
      " 0   Week             658 non-null    int64         \n",
      " 1   Address Block    658 non-null    object        \n",
      " 2   Trap             658 non-null    object        \n",
      " 3   Trap type        658 non-null    object        \n",
      " 4   Date             658 non-null    datetime64[ns]\n",
      " 5   Mosquito number  658 non-null    int64         \n",
      " 6   WNV Present      658 non-null    object        \n",
      " 7   Species          658 non-null    object        \n",
      " 8   Lat              0 non-null      float64       \n",
      " 9   Lon              0 non-null      float64       \n",
      "dtypes: datetime64[ns](1), float64(2), int64(2), object(5)\n",
      "memory usage: 56.5+ KB\n"
     ]
    },
    {
     "data": {
      "text/plain": [
       "Week               15\n",
       "Address Block       8\n",
       "Trap               25\n",
       "Trap type           2\n",
       "Date               84\n",
       "Mosquito number    47\n",
       "WNV Present         1\n",
       "Species             3\n",
       "Lat                 0\n",
       "Lon                 0\n",
       "dtype: int64"
      ]
     },
     "execution_count": 17,
     "metadata": {},
     "output_type": "execute_result"
    }
   ],
   "source": [
    "# Preliminary investigation\n",
    "mosq_df[mosq_df.duplicated()].info()\n",
    "mosq_df[mosq_df.duplicated()].nunique()\n",
    "\n"
   ]
  },
  {
   "cell_type": "code",
   "execution_count": 18,
   "metadata": {},
   "outputs": [
    {
     "data": {
      "text/html": [
       "<div>\n",
       "<style scoped>\n",
       "    .dataframe tbody tr th:only-of-type {\n",
       "        vertical-align: middle;\n",
       "    }\n",
       "\n",
       "    .dataframe tbody tr th {\n",
       "        vertical-align: top;\n",
       "    }\n",
       "\n",
       "    .dataframe thead th {\n",
       "        text-align: right;\n",
       "    }\n",
       "</style>\n",
       "<table border=\"1\" class=\"dataframe\">\n",
       "  <thead>\n",
       "    <tr style=\"text-align: right;\">\n",
       "      <th></th>\n",
       "      <th>Date</th>\n",
       "      <th>Week</th>\n",
       "      <th>Address Block</th>\n",
       "      <th>Lat</th>\n",
       "      <th>Lon</th>\n",
       "      <th>Trap</th>\n",
       "      <th>Trap type</th>\n",
       "      <th>Species</th>\n",
       "      <th>WNV Present</th>\n",
       "      <th>sum</th>\n",
       "      <th>count</th>\n",
       "      <th>mean</th>\n",
       "    </tr>\n",
       "  </thead>\n",
       "  <tbody>\n",
       "    <tr>\n",
       "      <th>0</th>\n",
       "      <td>2007-05-29 00:05:00</td>\n",
       "      <td>21</td>\n",
       "      <td>119XX S PEORIA ST</td>\n",
       "      <td>41.677032</td>\n",
       "      <td>-87.644465</td>\n",
       "      <td>T091</td>\n",
       "      <td>GRAVID</td>\n",
       "      <td>CULEX RESTUANS</td>\n",
       "      <td>negative</td>\n",
       "      <td>1</td>\n",
       "      <td>1</td>\n",
       "      <td>1.00</td>\n",
       "    </tr>\n",
       "    <tr>\n",
       "      <th>1</th>\n",
       "      <td>2015-07-02 00:07:00</td>\n",
       "      <td>26</td>\n",
       "      <td>71XX N HARLEM AVE</td>\n",
       "      <td>42.010643</td>\n",
       "      <td>-87.806797</td>\n",
       "      <td>T233</td>\n",
       "      <td>GRAVID</td>\n",
       "      <td>CULEX RESTUANS</td>\n",
       "      <td>negative</td>\n",
       "      <td>36</td>\n",
       "      <td>1</td>\n",
       "      <td>36.00</td>\n",
       "    </tr>\n",
       "    <tr>\n",
       "      <th>2</th>\n",
       "      <td>2015-07-02 00:07:00</td>\n",
       "      <td>26</td>\n",
       "      <td>77XX S EBERHART AVE</td>\n",
       "      <td>41.754148</td>\n",
       "      <td>-87.612721</td>\n",
       "      <td>T080</td>\n",
       "      <td>GRAVID</td>\n",
       "      <td>CULEX RESTUANS</td>\n",
       "      <td>negative</td>\n",
       "      <td>6</td>\n",
       "      <td>1</td>\n",
       "      <td>6.00</td>\n",
       "    </tr>\n",
       "    <tr>\n",
       "      <th>3</th>\n",
       "      <td>2015-07-02 00:07:00</td>\n",
       "      <td>26</td>\n",
       "      <td>82XX S KOSTNER AVE</td>\n",
       "      <td>41.742670</td>\n",
       "      <td>-87.731550</td>\n",
       "      <td>T225</td>\n",
       "      <td>GRAVID</td>\n",
       "      <td>CULEX RESTUANS</td>\n",
       "      <td>negative</td>\n",
       "      <td>11</td>\n",
       "      <td>1</td>\n",
       "      <td>11.00</td>\n",
       "    </tr>\n",
       "    <tr>\n",
       "      <th>4</th>\n",
       "      <td>2015-07-02 00:07:00</td>\n",
       "      <td>26</td>\n",
       "      <td>89XX S CARPENTER ST</td>\n",
       "      <td>41.731447</td>\n",
       "      <td>-87.649722</td>\n",
       "      <td>T159</td>\n",
       "      <td>GRAVID</td>\n",
       "      <td>CULEX RESTUANS</td>\n",
       "      <td>negative</td>\n",
       "      <td>2</td>\n",
       "      <td>1</td>\n",
       "      <td>2.00</td>\n",
       "    </tr>\n",
       "    <tr>\n",
       "      <th>...</th>\n",
       "      <td>...</td>\n",
       "      <td>...</td>\n",
       "      <td>...</td>\n",
       "      <td>...</td>\n",
       "      <td>...</td>\n",
       "      <td>...</td>\n",
       "      <td>...</td>\n",
       "      <td>...</td>\n",
       "      <td>...</td>\n",
       "      <td>...</td>\n",
       "      <td>...</td>\n",
       "      <td>...</td>\n",
       "    </tr>\n",
       "    <tr>\n",
       "      <th>15215</th>\n",
       "      <td>2007-08-08 00:08:00</td>\n",
       "      <td>31</td>\n",
       "      <td>24XX E 105TH ST</td>\n",
       "      <td>41.704687</td>\n",
       "      <td>-87.564236</td>\n",
       "      <td>T128</td>\n",
       "      <td>CDC</td>\n",
       "      <td>CULEX PIPIENS</td>\n",
       "      <td>negative</td>\n",
       "      <td>155</td>\n",
       "      <td>4</td>\n",
       "      <td>38.75</td>\n",
       "    </tr>\n",
       "    <tr>\n",
       "      <th>15216</th>\n",
       "      <td>2007-08-28 00:08:00</td>\n",
       "      <td>34</td>\n",
       "      <td>101XX S STONY ISLAND AVE</td>\n",
       "      <td>41.710542</td>\n",
       "      <td>-87.584559</td>\n",
       "      <td>T138</td>\n",
       "      <td>CDC</td>\n",
       "      <td>CULEX PIPIENS</td>\n",
       "      <td>negative</td>\n",
       "      <td>159</td>\n",
       "      <td>4</td>\n",
       "      <td>39.75</td>\n",
       "    </tr>\n",
       "    <tr>\n",
       "      <th>15217</th>\n",
       "      <td>2007-08-16 00:08:00</td>\n",
       "      <td>32</td>\n",
       "      <td>24XX E 105TH ST</td>\n",
       "      <td>41.704687</td>\n",
       "      <td>-87.564236</td>\n",
       "      <td>T128</td>\n",
       "      <td>CDC</td>\n",
       "      <td>CULEX PIPIENS</td>\n",
       "      <td>negative</td>\n",
       "      <td>171</td>\n",
       "      <td>4</td>\n",
       "      <td>42.75</td>\n",
       "    </tr>\n",
       "    <tr>\n",
       "      <th>15218</th>\n",
       "      <td>2007-08-17 00:08:00</td>\n",
       "      <td>32</td>\n",
       "      <td>101XX S STONY ISLAND AVE</td>\n",
       "      <td>41.710542</td>\n",
       "      <td>-87.584559</td>\n",
       "      <td>T138</td>\n",
       "      <td>CDC</td>\n",
       "      <td>CULEX PIPIENS</td>\n",
       "      <td>negative</td>\n",
       "      <td>158</td>\n",
       "      <td>4</td>\n",
       "      <td>39.50</td>\n",
       "    </tr>\n",
       "    <tr>\n",
       "      <th>15219</th>\n",
       "      <td>2007-07-25 00:07:00</td>\n",
       "      <td>29</td>\n",
       "      <td>127XX S DOTY AVE</td>\n",
       "      <td>41.662387</td>\n",
       "      <td>-87.590180</td>\n",
       "      <td>T115</td>\n",
       "      <td>CDC</td>\n",
       "      <td>CULEX PIPIENS</td>\n",
       "      <td>negative</td>\n",
       "      <td>106</td>\n",
       "      <td>4</td>\n",
       "      <td>26.50</td>\n",
       "    </tr>\n",
       "  </tbody>\n",
       "</table>\n",
       "<p>15220 rows × 12 columns</p>\n",
       "</div>"
      ],
      "text/plain": [
       "                     Date  Week             Address Block        Lat  \\\n",
       "0     2007-05-29 00:05:00    21         119XX S PEORIA ST  41.677032   \n",
       "1     2015-07-02 00:07:00    26         71XX N HARLEM AVE  42.010643   \n",
       "2     2015-07-02 00:07:00    26       77XX S EBERHART AVE  41.754148   \n",
       "3     2015-07-02 00:07:00    26        82XX S KOSTNER AVE  41.742670   \n",
       "4     2015-07-02 00:07:00    26       89XX S CARPENTER ST  41.731447   \n",
       "...                   ...   ...                       ...        ...   \n",
       "15215 2007-08-08 00:08:00    31           24XX E 105TH ST  41.704687   \n",
       "15216 2007-08-28 00:08:00    34  101XX S STONY ISLAND AVE  41.710542   \n",
       "15217 2007-08-16 00:08:00    32           24XX E 105TH ST  41.704687   \n",
       "15218 2007-08-17 00:08:00    32  101XX S STONY ISLAND AVE  41.710542   \n",
       "15219 2007-07-25 00:07:00    29          127XX S DOTY AVE  41.662387   \n",
       "\n",
       "             Lon  Trap Trap type         Species WNV Present  sum  count  \\\n",
       "0     -87.644465  T091    GRAVID  CULEX RESTUANS    negative    1      1   \n",
       "1     -87.806797  T233    GRAVID  CULEX RESTUANS    negative   36      1   \n",
       "2     -87.612721  T080    GRAVID  CULEX RESTUANS    negative    6      1   \n",
       "3     -87.731550  T225    GRAVID  CULEX RESTUANS    negative   11      1   \n",
       "4     -87.649722  T159    GRAVID  CULEX RESTUANS    negative    2      1   \n",
       "...          ...   ...       ...             ...         ...  ...    ...   \n",
       "15215 -87.564236  T128       CDC   CULEX PIPIENS    negative  155      4   \n",
       "15216 -87.584559  T138       CDC   CULEX PIPIENS    negative  159      4   \n",
       "15217 -87.564236  T128       CDC   CULEX PIPIENS    negative  171      4   \n",
       "15218 -87.584559  T138       CDC   CULEX PIPIENS    negative  158      4   \n",
       "15219 -87.590180  T115       CDC   CULEX PIPIENS    negative  106      4   \n",
       "\n",
       "        mean  \n",
       "0       1.00  \n",
       "1      36.00  \n",
       "2       6.00  \n",
       "3      11.00  \n",
       "4       2.00  \n",
       "...      ...  \n",
       "15215  38.75  \n",
       "15216  39.75  \n",
       "15217  42.75  \n",
       "15218  39.50  \n",
       "15219  26.50  \n",
       "\n",
       "[15220 rows x 12 columns]"
      ]
     },
     "execution_count": 18,
     "metadata": {},
     "output_type": "execute_result"
    }
   ],
   "source": [
    "# Further investigation into the duplicate data. \n",
    "# I found that the duplicates were often used to record mosquito numbers for 'overflow' trap entries\n",
    "\n",
    "groupby_mosq_num = mosq_df.groupby(['Date', 'Week', 'Address Block', 'Lat', 'Lon', 'Trap', 'Trap type', 'Species', 'WNV Present'])['Mosquito number']\\\n",
    "    .agg(['sum', 'count', 'mean']).sort_values('count').reset_index().copy()\n",
    "groupby_mosq_num\n",
    "\n"
   ]
  },
  {
   "cell_type": "code",
   "execution_count": 19,
   "metadata": {},
   "outputs": [
    {
     "name": "stderr",
     "output_type": "stream",
     "text": [
      "C:\\Users\\Samsickle\\AppData\\Local\\Temp\\ipykernel_3644\\1308677809.py:3: UserWarning: Boolean Series key will be reindexed to match DataFrame index.\n",
      "  mosq_df[mosq_df['Address Block'] == '101XX S STONY ISLAND AVE']\\\n"
     ]
    },
    {
     "data": {
      "text/html": [
       "<div>\n",
       "<style scoped>\n",
       "    .dataframe tbody tr th:only-of-type {\n",
       "        vertical-align: middle;\n",
       "    }\n",
       "\n",
       "    .dataframe tbody tr th {\n",
       "        vertical-align: top;\n",
       "    }\n",
       "\n",
       "    .dataframe thead th {\n",
       "        text-align: right;\n",
       "    }\n",
       "</style>\n",
       "<table border=\"1\" class=\"dataframe\">\n",
       "  <thead>\n",
       "    <tr style=\"text-align: right;\">\n",
       "      <th></th>\n",
       "      <th>Week</th>\n",
       "      <th>Address Block</th>\n",
       "      <th>Trap</th>\n",
       "      <th>Trap type</th>\n",
       "      <th>Date</th>\n",
       "      <th>Mosquito number</th>\n",
       "      <th>WNV Present</th>\n",
       "      <th>Species</th>\n",
       "      <th>Lat</th>\n",
       "      <th>Lon</th>\n",
       "    </tr>\n",
       "  </thead>\n",
       "  <tbody>\n",
       "    <tr>\n",
       "      <th>14182</th>\n",
       "      <td>34</td>\n",
       "      <td>101XX S STONY ISLAND AVE</td>\n",
       "      <td>T138</td>\n",
       "      <td>CDC</td>\n",
       "      <td>2007-08-28 00:08:00</td>\n",
       "      <td>50</td>\n",
       "      <td>negative</td>\n",
       "      <td>CULEX PIPIENS</td>\n",
       "      <td>41.710542</td>\n",
       "      <td>-87.584559</td>\n",
       "    </tr>\n",
       "    <tr>\n",
       "      <th>14183</th>\n",
       "      <td>34</td>\n",
       "      <td>101XX S STONY ISLAND AVE</td>\n",
       "      <td>T138</td>\n",
       "      <td>CDC</td>\n",
       "      <td>2007-08-28 00:08:00</td>\n",
       "      <td>50</td>\n",
       "      <td>positive</td>\n",
       "      <td>CULEX PIPIENS</td>\n",
       "      <td>41.710542</td>\n",
       "      <td>-87.584559</td>\n",
       "    </tr>\n",
       "    <tr>\n",
       "      <th>14185</th>\n",
       "      <td>34</td>\n",
       "      <td>101XX S STONY ISLAND AVE</td>\n",
       "      <td>T138</td>\n",
       "      <td>CDC</td>\n",
       "      <td>2007-08-28 00:08:00</td>\n",
       "      <td>37</td>\n",
       "      <td>negative</td>\n",
       "      <td>CULEX PIPIENS</td>\n",
       "      <td>41.710542</td>\n",
       "      <td>-87.584559</td>\n",
       "    </tr>\n",
       "    <tr>\n",
       "      <th>14199</th>\n",
       "      <td>34</td>\n",
       "      <td>101XX S STONY ISLAND AVE</td>\n",
       "      <td>T138</td>\n",
       "      <td>CDC</td>\n",
       "      <td>2007-08-28 00:08:00</td>\n",
       "      <td>26</td>\n",
       "      <td>negative</td>\n",
       "      <td>CULEX PIPIENS</td>\n",
       "      <td>41.710542</td>\n",
       "      <td>-87.584559</td>\n",
       "    </tr>\n",
       "    <tr>\n",
       "      <th>14208</th>\n",
       "      <td>34</td>\n",
       "      <td>101XX S STONY ISLAND AVE</td>\n",
       "      <td>T138</td>\n",
       "      <td>CDC</td>\n",
       "      <td>2007-08-28 00:08:00</td>\n",
       "      <td>46</td>\n",
       "      <td>negative</td>\n",
       "      <td>CULEX PIPIENS</td>\n",
       "      <td>41.710542</td>\n",
       "      <td>-87.584559</td>\n",
       "    </tr>\n",
       "  </tbody>\n",
       "</table>\n",
       "</div>"
      ],
      "text/plain": [
       "       Week             Address Block  Trap Trap type                Date  \\\n",
       "14182    34  101XX S STONY ISLAND AVE  T138       CDC 2007-08-28 00:08:00   \n",
       "14183    34  101XX S STONY ISLAND AVE  T138       CDC 2007-08-28 00:08:00   \n",
       "14185    34  101XX S STONY ISLAND AVE  T138       CDC 2007-08-28 00:08:00   \n",
       "14199    34  101XX S STONY ISLAND AVE  T138       CDC 2007-08-28 00:08:00   \n",
       "14208    34  101XX S STONY ISLAND AVE  T138       CDC 2007-08-28 00:08:00   \n",
       "\n",
       "       Mosquito number WNV Present        Species        Lat        Lon  \n",
       "14182               50    negative  CULEX PIPIENS  41.710542 -87.584559  \n",
       "14183               50    positive  CULEX PIPIENS  41.710542 -87.584559  \n",
       "14185               37    negative  CULEX PIPIENS  41.710542 -87.584559  \n",
       "14199               26    negative  CULEX PIPIENS  41.710542 -87.584559  \n",
       "14208               46    negative  CULEX PIPIENS  41.710542 -87.584559  "
      ]
     },
     "execution_count": 19,
     "metadata": {},
     "output_type": "execute_result"
    }
   ],
   "source": [
    "# Investigating Specific Data Entry which revealed that overflow entries where given a variety of mosquito numbers, not just 50.\n",
    "\n",
    "mosq_df[mosq_df['Address Block'] == '101XX S STONY ISLAND AVE']\\\n",
    "    [mosq_df['Trap'] == 'T138'][mosq_df['Species'] == 'CULEX PIPIENS']\\\n",
    "    [mosq_df['Trap type'] == 'CDC'][mosq_df['Date']== '2007-08-28 00:08:00']\n",
    "    \n",
    "\n",
    "    "
   ]
  },
  {
   "attachments": {},
   "cell_type": "markdown",
   "metadata": {},
   "source": [
    "\n",
    "### <a id='toc1_3_6_'></a>[1.5a Handling Null Values](#toc0_)\n",
    "\n",
    "There were 2924 null values in both the 'Lat' and 'Lon' columns and always accompanied each other. Since null values only originated from 10 separate locations, I decided to impute the 'Lat'/'Lon' values of the locations given by the 'Address Block' column from google maps. "
   ]
  },
  {
   "cell_type": "code",
   "execution_count": 20,
   "metadata": {},
   "outputs": [
    {
     "name": "stdout",
     "output_type": "stream",
     "text": [
      "<class 'pandas.core.frame.DataFrame'>\n",
      "RangeIndex: 18495 entries, 0 to 18494\n",
      "Data columns (total 10 columns):\n",
      " #   Column           Non-Null Count  Dtype         \n",
      "---  ------           --------------  -----         \n",
      " 0   Week             18495 non-null  int64         \n",
      " 1   Address Block    18495 non-null  object        \n",
      " 2   Trap             18495 non-null  object        \n",
      " 3   Trap type        18495 non-null  object        \n",
      " 4   Date             18495 non-null  datetime64[ns]\n",
      " 5   Mosquito number  18495 non-null  int64         \n",
      " 6   WNV Present      18495 non-null  object        \n",
      " 7   Species          18495 non-null  object        \n",
      " 8   Lat              15571 non-null  float64       \n",
      " 9   Lon              15571 non-null  float64       \n",
      "dtypes: datetime64[ns](1), float64(2), int64(2), object(5)\n",
      "memory usage: 1.4+ MB\n"
     ]
    },
    {
     "data": {
      "text/plain": [
       "2924"
      ]
     },
     "metadata": {},
     "output_type": "display_data"
    },
    {
     "data": {
      "text/plain": [
       "1.0"
      ]
     },
     "execution_count": 20,
     "metadata": {},
     "output_type": "execute_result"
    }
   ],
   "source": [
    "mosq_df.info()\n",
    "\n",
    "# total of null values in lon\n",
    "display(mosq_df.Lon.isna().sum())\n",
    "\n",
    "# This shows that the lat and long are always null together, so I need to add them both to each missing entry.\n",
    "\n",
    "(mosq_df.Lon.isna() == mosq_df.Lat.isna()).mean()"
   ]
  },
  {
   "cell_type": "code",
   "execution_count": 21,
   "metadata": {},
   "outputs": [
    {
     "data": {
      "text/plain": [
       "Address Block\n",
       "100XX W OHARE            0\n",
       "100XX W OHARE AIRPORT    0\n",
       "115XX S AVENUE L         0\n",
       "30XX S HOYNE             0\n",
       "43XX N ASHLAND           0\n",
       "4XX W 127TH              0\n",
       "65XX N OAK PARK AVE      0\n",
       "79XX S CHICAGO           0\n",
       "81XX S ASHLAND           0\n",
       "98XX S AVENUE G          0\n",
       "Name: Lat, dtype: int64"
      ]
     },
     "execution_count": 21,
     "metadata": {},
     "output_type": "execute_result"
    }
   ],
   "source": [
    "# addresses which always had null entries\n",
    "mosq_df.groupby('Address Block').Lat.count()[mosq_df.groupby('Address Block').Lat.count() == 0]\n"
   ]
  },
  {
   "cell_type": "code",
   "execution_count": 22,
   "metadata": {},
   "outputs": [],
   "source": [
    "# manual lookup of each address block with missing lat/long\n",
    "\n",
    "mappings = {'100XX W OHARE': (41.9790687, -87.90656950), \n",
    "            '100XX W OHARE AIRPORT': (41.9790687, -87.9065695),\n",
    "            '115XX S AVENUE L': (41.686664, -87.536357),\n",
    "            '30XX S HOYNE': (41.836666, -87.677742),\n",
    "            '43XX N ASHLAND': (41.9600993, -87.6693065),\n",
    "            '4XX W 127TH': (41.663326, -87.632089),\n",
    "            '65XX N OAK PARK AVE': (41.999756, -87.795582),\n",
    "            '79XX S CHICAGO': (41.750764, -87.584487),\n",
    "            '81XX S ASHLAND': (41.7465690404, -87.6634408553),\n",
    "            '98XX S AVENUE G': (41.717813062, -87.53162274)}\n",
    "\n",
    "# creating dictionaries for lat and long\n",
    "latitudes = {k: v[0] for k, v in mappings.items()}\n",
    "longitudes = {k: v[1] for k, v in mappings.items()}\n"
   ]
  },
  {
   "cell_type": "code",
   "execution_count": 23,
   "metadata": {},
   "outputs": [],
   "source": [
    "# If lat/long is null, then this takes the address block and maps it to the corresponding lat/long. \n",
    "# I used the combine first function which allows me to replace any nans with the values in the other column.\n",
    "\n",
    "mosq_df['Lon'] = mosq_df['Address Block'].map(longitudes).combine_first(mosq_df['Lon'])\n",
    "mosq_df['Lat'] = mosq_df['Address Block'].map(latitudes).combine_first(mosq_df['Lat'])\n"
   ]
  },
  {
   "cell_type": "code",
   "execution_count": 24,
   "metadata": {},
   "outputs": [
    {
     "name": "stdout",
     "output_type": "stream",
     "text": [
      "<class 'pandas.core.frame.DataFrame'>\n",
      "RangeIndex: 18495 entries, 0 to 18494\n",
      "Data columns (total 10 columns):\n",
      " #   Column           Non-Null Count  Dtype         \n",
      "---  ------           --------------  -----         \n",
      " 0   Week             18495 non-null  int64         \n",
      " 1   Address Block    18495 non-null  object        \n",
      " 2   Trap             18495 non-null  object        \n",
      " 3   Trap type        18495 non-null  object        \n",
      " 4   Date             18495 non-null  datetime64[ns]\n",
      " 5   Mosquito number  18495 non-null  int64         \n",
      " 6   WNV Present      18495 non-null  object        \n",
      " 7   Species          18495 non-null  object        \n",
      " 8   Lat              18495 non-null  float64       \n",
      " 9   Lon              18495 non-null  float64       \n",
      "dtypes: datetime64[ns](1), float64(2), int64(2), object(5)\n",
      "memory usage: 1.4+ MB\n"
     ]
    }
   ],
   "source": [
    "mosq_df.info() # fixed df"
   ]
  },
  {
   "attachments": {},
   "cell_type": "markdown",
   "metadata": {},
   "source": [
    "### <a id='toc1_3_7_'></a>[1.5b Other Data Cleaning Tasks Performed](#toc0_)\n",
    "\n",
    "I also did some other data cleaning tasks that I thought would be useful for my analysis. This was mostly fixing data types, and cleaning up column names."
   ]
  },
  {
   "cell_type": "code",
   "execution_count": 25,
   "metadata": {},
   "outputs": [],
   "source": [
    "# this makes 'wnv present' a boolean\n",
    "mosq_df['WNV Present'] = mosq_df['WNV Present'].map({'positive': True, 'negative': False}).astype('bool')\n",
    "\n",
    "# this makes the 'trap type' and 'species' a category\n",
    "mosq_df['Trap type'] = mosq_df['Trap type'].astype('category')\n",
    "\n",
    "mosq_df['Species'] = mosq_df['Species'].astype('category')\n",
    "\n",
    "# this cleans up all my columns and makes them uniform\n",
    "mosq_df.columns = [i.lower().replace(\" \", \"_\") for i in mosq_df.columns]\n"
   ]
  },
  {
   "attachments": {},
   "cell_type": "markdown",
   "metadata": {},
   "source": [
    "## <a id='toc1_4_'></a>[Part 2 - Basic EDA](#toc0_)\n",
    "\n"
   ]
  },
  {
   "attachments": {},
   "cell_type": "markdown",
   "metadata": {},
   "source": [
    "### <a id='toc1_4_1_'></a>[2.1 Visual Exploration: Mosquito Number and Date](#toc0_)\n"
   ]
  },
  {
   "cell_type": "code",
   "execution_count": 26,
   "metadata": {},
   "outputs": [
    {
     "data": {
      "text/plain": [
       "week\n",
       "37    7001\n",
       "38    4821\n",
       "39    2559\n",
       "40    1110\n",
       "41     200\n",
       "Name: mosquito_number, dtype: int64"
      ]
     },
     "execution_count": 26,
     "metadata": {},
     "output_type": "execute_result"
    }
   ],
   "source": [
    "# Calculate weekly statistics\n",
    "weekly_stats = mosq_df.groupby(mosq_df.date.dt.isocalendar().week)[\"mosquito_number\"].sum()\n",
    "weekly_stats.tail()\n"
   ]
  },
  {
   "cell_type": "code",
   "execution_count": 27,
   "metadata": {},
   "outputs": [
    {
     "data": {
      "image/png": "[encoded data removed]",
      "text/plain": [
       "<Figure size 800x600 with 1 Axes>"
      ]
     },
     "metadata": {},
     "output_type": "display_data"
    }
   ],
   "source": [
    "# Set figure size\n",
    "plt.figure(figsize=(8, 6))\n",
    "\n",
    "# Plot the line\n",
    "plt.plot(weekly_stats, color='green', label='Sum of Weekly Mosquitos', alpha=.5)\n",
    "plt.plot(weekly_stats.rolling(3, center=True).mean(), marker='o', color='blue', label='3 Week Average of Sums')\n",
    "\n",
    "# Customize the plot appearance\n",
    "plt.yticks(fontsize=10)\n",
    "plt.xlabel('Week', fontsize=12)\n",
    "plt.ylabel('Weekly Sum of Mosquitos', fontsize=12)\n",
    "plt.title('Peak Mosquito Season\\nSum of Mosquitos over a Weekly Basis', fontsize=14)\n",
    "plt.grid(True, alpha=.3)\n",
    "plt.xticks(list(weekly_stats.index), weekly_stats.index)\n",
    "plt.legend()\n",
    "\n",
    "# Show the plot\n",
    "plt.show()\n"
   ]
  },
  {
   "attachments": {},
   "cell_type": "markdown",
   "metadata": {},
   "source": [
    "The data indicates that the peak mosquito activity occurs during weeks 31 to 33 across all years of mosquito collection. This crucial information can guide public health initiatives. During these weeks, we should intensify efforts to encourage the public to use bug spray, avoid mosquito breeding areas, and be vigilant about symptoms of mosquito-borne illnesses. This targeted approach can help reduce the risk of disease transmission and protect community health.\n"
   ]
  },
  {
   "attachments": {},
   "cell_type": "markdown",
   "metadata": {},
   "source": [
    "## <a id='toc1_5_'></a>[Part 3 - Advanced EDA](#toc0_)\n",
    "\n"
   ]
  },
  {
   "attachments": {},
   "cell_type": "markdown",
   "metadata": {},
   "source": [
    "### <a id='toc1_5_1_'></a>[3.1 Visual Exploration:  Mosquito Species and WNV Prevalence](#toc0_)\n",
    "\n",
    "The **prevalence** of the West Nile Virus (WNV) refers to the proportion of mosquitoes carrying the virus. In a typical scenario, prevalence is computed at the individual level. For instance, if we test 100 people and 10 test positive for COVID-19 (assuming a sensitivity and specificity of ~100%), then the prevalence is 10%. \n",
    "\n",
    "However, in this case, we are dealing with **batch samples** of mosquitoes. A batch tests positive for WNV if **any** mosquito in the batch is infected. Conversely, a batch tests negative **only if all mosquitoes in the batch are free of WNV**. This means probability of seeing a negative batch ($P(X=0)$) is the **conjunctive probability** of every mosquito in that batch being negative $(1-p(x))^{(n-0)}$! \n",
    "\n",
    "Another way to think about this is that the WNV test results are **binomial** - they can only be positive or negative. This allows us to use the binomial distribution to model the probability of every individual in a batch testing negative.\n",
    "\n",
    "The binomial probability distribution is given by the formula:\n",
    "\n",
    "$$P(X=k) = C(^n_k) * (p^k) * ((1-p)^{n-k})$$\n",
    "\n",
    "where:\n",
    "- $P(X=k)$ is the probability of $k$ many mosquitos being positive for WNV in $n$ mosquitos trials,\n",
    "- $C(^n_k)$ is the number of combinations of $n$ items taken $k$ at a time,\n",
    "- $p$ is the probability of a single mosquito trial being positive for WNV,\n",
    "- $n$ is the number of mosquitos trials in each batch.\n",
    "\n",
    "Since we only looking at probability of cases where every individual is negative or $k=0$, we can simplify the formula to:\n",
    "\n",
    "$$P(X=0) = C(^n_0) * (p^0) * ((1-p)^{n-0})$$\n",
    "$$P(X=0) = 1 * 1 * ((1-p)^{n})$$\n",
    "$$P(X=0) = (1-p)^{n}$$\n",
    "\n",
    "Now we just need to solve for prevalence or $p$ using a little algebra:\n",
    "\n",
    "$$P(X=0)^{1/n} = 1-p$$\n",
    "$$1 - P(X=0)^{1/n} = p$$\n",
    "\n",
    "Now that we have the equation to solve for prevalence, we just need to find the $P(X=0)$ for each batch size. To do this we group the data by **each batch size** and **each species**, then compute the WNV prevalence for each group. Substituting this batch prevalence into the above equation along with the corresponding batch size ($n$), we can estimate the individual prevalence. This approach allows us to explore the relationship between mosquito species and WNV prevalence. "
   ]
  },
  {
   "cell_type": "code",
   "execution_count": 28,
   "metadata": {},
   "outputs": [
    {
     "data": {
      "text/html": [
       "<div>\n",
       "<style scoped>\n",
       "    .dataframe tbody tr th:only-of-type {\n",
       "        vertical-align: middle;\n",
       "    }\n",
       "\n",
       "    .dataframe tbody tr th {\n",
       "        vertical-align: top;\n",
       "    }\n",
       "\n",
       "    .dataframe thead th {\n",
       "        text-align: right;\n",
       "    }\n",
       "</style>\n",
       "<table border=\"1\" class=\"dataframe\">\n",
       "  <thead>\n",
       "    <tr style=\"text-align: right;\">\n",
       "      <th></th>\n",
       "      <th>mosquito_number</th>\n",
       "      <th>species</th>\n",
       "      <th>mean</th>\n",
       "      <th>count</th>\n",
       "      <th>std</th>\n",
       "      <th>not_prevalence</th>\n",
       "      <th>prevalence</th>\n",
       "    </tr>\n",
       "  </thead>\n",
       "  <tbody>\n",
       "    <tr>\n",
       "      <th>189</th>\n",
       "      <td>48</td>\n",
       "      <td>CULEX RESTUANS</td>\n",
       "      <td>0.529412</td>\n",
       "      <td>51</td>\n",
       "      <td>0.504101</td>\n",
       "      <td>0.984419</td>\n",
       "      <td>0.015581</td>\n",
       "    </tr>\n",
       "    <tr>\n",
       "      <th>192</th>\n",
       "      <td>49</td>\n",
       "      <td>CULEX PIPIENS</td>\n",
       "      <td>0.583333</td>\n",
       "      <td>12</td>\n",
       "      <td>0.514929</td>\n",
       "      <td>0.982292</td>\n",
       "      <td>0.017708</td>\n",
       "    </tr>\n",
       "    <tr>\n",
       "      <th>193</th>\n",
       "      <td>49</td>\n",
       "      <td>CULEX RESTUANS</td>\n",
       "      <td>0.411765</td>\n",
       "      <td>34</td>\n",
       "      <td>0.499554</td>\n",
       "      <td>0.989229</td>\n",
       "      <td>0.010771</td>\n",
       "    </tr>\n",
       "    <tr>\n",
       "      <th>196</th>\n",
       "      <td>50</td>\n",
       "      <td>CULEX PIPIENS</td>\n",
       "      <td>0.702326</td>\n",
       "      <td>215</td>\n",
       "      <td>0.458303</td>\n",
       "      <td>0.976056</td>\n",
       "      <td>0.023944</td>\n",
       "    </tr>\n",
       "    <tr>\n",
       "      <th>197</th>\n",
       "      <td>50</td>\n",
       "      <td>CULEX RESTUANS</td>\n",
       "      <td>0.513889</td>\n",
       "      <td>432</td>\n",
       "      <td>0.500387</td>\n",
       "      <td>0.985677</td>\n",
       "      <td>0.014323</td>\n",
       "    </tr>\n",
       "  </tbody>\n",
       "</table>\n",
       "</div>"
      ],
      "text/plain": [
       "     mosquito_number         species      mean  count       std  \\\n",
       "189               48  CULEX RESTUANS  0.529412     51  0.504101   \n",
       "192               49   CULEX PIPIENS  0.583333     12  0.514929   \n",
       "193               49  CULEX RESTUANS  0.411765     34  0.499554   \n",
       "196               50   CULEX PIPIENS  0.702326    215  0.458303   \n",
       "197               50  CULEX RESTUANS  0.513889    432  0.500387   \n",
       "\n",
       "     not_prevalence  prevalence  \n",
       "189        0.984419    0.015581  \n",
       "192        0.982292    0.017708  \n",
       "193        0.989229    0.010771  \n",
       "196        0.976056    0.023944  \n",
       "197        0.985677    0.014323  "
      ]
     },
     "execution_count": 28,
     "metadata": {},
     "output_type": "execute_result"
    }
   ],
   "source": [
    "\n",
    "# group by species and mosquito number, calculate proportion of wnv_present\n",
    "prev_df = mosq_df.groupby(['mosquito_number', 'species'])['wnv_present'].agg(['mean', 'count', 'std']).reset_index().dropna()\n",
    "\n",
    "prev_df = prev_df.dropna()\n",
    "\n",
    "# then calculate prevalence and prevalence of not occurring\n",
    "prev_df['not_prevalence'] = (1-prev_df['mean'])**(1/prev_df['mosquito_number'])\n",
    "\n",
    "prev_df['prevalence'] = 1-prev_df.not_prevalence\n",
    "\n",
    "prev_df.tail(5)\n",
    "\n"
   ]
  },
  {
   "attachments": {},
   "cell_type": "markdown",
   "metadata": {},
   "source": [
    "Once I estimated the prevalence for each batch of each species, the next step was to aggregate these means to derive a single mean for each species. This process was nuanced due to the fact that some batches contained more samples than others (eg: batch size of 50 has 432 samples) and some batches had more individuals than other (eg: batch size of 50 has 50x more individuals than a batch size of 1). To address this, I calculated a **weighted mean** for prevalence, where the weights were determined by the number of samples in each batch multiplied by the batch size. The formulas for the weighted mean and the weights is given by:\n",
    "\n",
    "The weight for each individual batch mean:  \n",
    "$w_i = b_i * s_i$\n",
    "\n",
    "The weighted mean:  \n",
    "$\\bar{x} = \\frac{\\sum_{i=1}^{n} w_i x_i}{\\sum_{i=1}^{n} w_i}$\n",
    "\n",
    "Where:\n",
    "\n",
    "- $b_i$ is the batch size\n",
    "- $s_i$ is the number of samples in each batch\n",
    "- $x_i$ is the proportion of WNV for each sample\n",
    "\n",
    "This weighted mean, I believe, accurately incorporates all of the available information to compute a representative prevalence for each respective mosquito species.\n"
   ]
  },
  {
   "attachments": {},
   "cell_type": "markdown",
   "metadata": {},
   "source": [
    "The next question to address was: **how close is the population mean to this sample mean?** To answer this, I calculated a confidence interval using the standard error. \n",
    "\n",
    "First, I computed a **weighted standard deviation**, then divided it by the square root of the number of batches I had for that species to get the **weighted standard error**. Then I calculated the **95% Confidence Interval**, which is the range of values where we are 95% sure that the true average for all mosquitoes falls within. Finally, I plotted the mean prevalence of WNV for each species, including their respective standard error bars to the **95% Confidence Interval** to illustrate their respective uncertainty. This process of determining a confidence interval helps to better illustrate the uncertainty about each species' actual population prevalence, providing a more complete picture of the data for public health officials to act on. Some of the formulas used are below:\n",
    "\n",
    "The weighted standard deviation:  \n",
    "$s_w = \\sqrt{\\frac{\\sum_{i=1}^{n} w_i (x_i - \\bar{x})^2}{\\sum_{i=1}^{n} w_i}}$\n",
    "\n",
    "\n",
    "The weighted standard error:  \n",
    "$SE_w = \\frac{s_w}{\\sqrt{n}}$  \n",
    "where $n$ is the number of batches for that species. \n",
    "\n",
    "The 95% Confidence Interval:  \n",
    "$ CI_{\\alpha=0.05} = \\bar{x} \\pm 1.96 * SE_w$\n",
    "\n"
   ]
  },
  {
   "cell_type": "code",
   "execution_count": 29,
   "metadata": {},
   "outputs": [
    {
     "data": {
      "text/html": [
       "<div>\n",
       "<style scoped>\n",
       "    .dataframe tbody tr th:only-of-type {\n",
       "        vertical-align: middle;\n",
       "    }\n",
       "\n",
       "    .dataframe tbody tr th {\n",
       "        vertical-align: top;\n",
       "    }\n",
       "\n",
       "    .dataframe thead th {\n",
       "        text-align: right;\n",
       "    }\n",
       "</style>\n",
       "<table border=\"1\" class=\"dataframe\">\n",
       "  <thead>\n",
       "    <tr style=\"text-align: right;\">\n",
       "      <th></th>\n",
       "      <th>w_mean</th>\n",
       "      <th>w_std</th>\n",
       "      <th>w_se</th>\n",
       "      <th>weight</th>\n",
       "    </tr>\n",
       "    <tr>\n",
       "      <th>species</th>\n",
       "      <th></th>\n",
       "      <th></th>\n",
       "      <th></th>\n",
       "      <th></th>\n",
       "    </tr>\n",
       "  </thead>\n",
       "  <tbody>\n",
       "    <tr>\n",
       "      <th>CULEX PIPIENS</th>\n",
       "      <td>0.032088</td>\n",
       "      <td>0.011858</td>\n",
       "      <td>0.001677</td>\n",
       "      <td>350.0</td>\n",
       "    </tr>\n",
       "    <tr>\n",
       "      <th>CULEX SALINARIUS</th>\n",
       "      <td>0.031211</td>\n",
       "      <td>0.039073</td>\n",
       "      <td>0.013814</td>\n",
       "      <td>56.0</td>\n",
       "    </tr>\n",
       "    <tr>\n",
       "      <th>CULEX RESTUANS</th>\n",
       "      <td>0.022956</td>\n",
       "      <td>0.008644</td>\n",
       "      <td>0.001222</td>\n",
       "      <td>350.0</td>\n",
       "    </tr>\n",
       "    <tr>\n",
       "      <th>CULEX TERRITANS</th>\n",
       "      <td>0.009413</td>\n",
       "      <td>0.011205</td>\n",
       "      <td>0.002995</td>\n",
       "      <td>98.0</td>\n",
       "    </tr>\n",
       "  </tbody>\n",
       "</table>\n",
       "</div>"
      ],
      "text/plain": [
       "                    w_mean     w_std      w_se  weight\n",
       "species                                               \n",
       "CULEX PIPIENS     0.032088  0.011858  0.001677   350.0\n",
       "CULEX SALINARIUS  0.031211  0.039073  0.013814    56.0\n",
       "CULEX RESTUANS    0.022956  0.008644  0.001222   350.0\n",
       "CULEX TERRITANS   0.009413  0.011205  0.002995    98.0"
      ]
     },
     "execution_count": 29,
     "metadata": {},
     "output_type": "execute_result"
    }
   ],
   "source": [
    "# weighted means function\n",
    "\n",
    "def weighted_func(group):\n",
    "    # variable setup\n",
    "    proprtion_prev = group['prevalence']\n",
    "    total_weight = group['count'] * group['mosquito_number']\n",
    "    \n",
    "    #weighted mean\n",
    "    weighted_mean = np.average(proprtion_prev, weights=total_weight)\n",
    "\n",
    "    #weighted variance\n",
    "    weighted_variance = np.average((proprtion_prev - weighted_mean)**2, weights=total_weight)\n",
    "    weighted_std_dev = np.sqrt(weighted_variance)\n",
    "    \n",
    "    #weighted standard error\n",
    "    weighted_std_err = weighted_std_dev / len(proprtion_prev)**(1/2)\n",
    "    \n",
    "    # outputs dataframe with all the computed values\n",
    "    return pd.DataFrame([weighted_mean, weighted_std_dev, weighted_std_err, group.count().sum()], \\\n",
    "        index=['w_mean', 'w_std', 'w_se', 'weight']).stack().droplevel(1)\n",
    "\n",
    "prev_group = prev_df.groupby(['species']).apply(weighted_func).sort_values(by='w_mean', ascending=False)\n",
    "\n",
    "prev_group"
   ]
  },
  {
   "cell_type": "code",
   "execution_count": 30,
   "metadata": {},
   "outputs": [
    {
     "data": {
      "image/png": "[encoded data removed]",
      "text/plain": [
       "<Figure size 1000x800 with 1 Axes>"
      ]
     },
     "metadata": {},
     "output_type": "display_data"
    }
   ],
   "source": [
    "plt.figure(figsize=(10, 8))  # Set the figure size\n",
    "plt.bar(prev_group.index.str.title(), prev_group['w_mean'], color='skyblue', label='Prevalence')  \n",
    "plt.errorbar(prev_group.index.str.title(), prev_group['w_mean'], yerr=prev_group['w_se'], capsize=3, capthick=.5, color='skyblue', ecolor='red', label='95% Confidence Interval', fmt=',')\n",
    "\n",
    "plt.ylabel('Prevalence (%)') \n",
    "plt.xlabel('Species')  \n",
    "plt.title('Prevalence of WNV by Mosquito Species') \n",
    "plt.grid(axis='y', alpha=.3)  \n",
    "plt.yticks(np.linspace(0, .05, 6), [f\"{i}%\" for i in np.linspace(0, .05, 6)*100])\n",
    "\n",
    "plt.legend()\n",
    "\n",
    "plt.show()  "
   ]
  },
  {
   "attachments": {},
   "cell_type": "markdown",
   "metadata": {},
   "source": [
    "It looks like the prevalence of WNV is the highest for the *Culex Pipiens* species with a mean of 3.2%, but it is closely followed by the *Culx Salinarius* species at mean of 3.1%. However, there were scant sample for the prevalence of WNV in the *Culex Salinarius* species so the 95% Confidence Interval error bars on the prevalence calculation are very wide. Finally, we can see that *Culex Restuans* and *Culex Territans* have a much lower prevalence of WNV at 2.2% and 0.9% respectively. \n",
    "\n",
    "This means that if we were to target a species of mosquito in an attempt to reduce WNV transmission we would opt to reduce the population of *Culex Pipiens* mosquitos. However, we should also be aware that the *Culex Salinarius* species may also be a good target for WNV reduction."
   ]
  },
  {
   "attachments": {},
   "cell_type": "markdown",
   "metadata": {},
   "source": [
    "\n",
    "### <a id='toc1_5_2_'></a>[3.2 Visual Exploration: Number of Mosquitos Caught and Trap Type.](#toc0_)\n"
   ]
  },
  {
   "attachments": {},
   "cell_type": "markdown",
   "metadata": {},
   "source": [
    "In order to evaluate the effectiveness of each trap, I wanted to calculate the average number of mosquitoes caught per check, a metric I'll refer to as **trap efficacy** and is defined as $\\frac {sum(mosquito-number)} {instances}$. However, the dataset presented a challenge: each trap check was divided into multiple entries based on the different mosquito species present, and any trap that caught more than 50 mosquitoes was split into multiple rows. Another level of complexity was added when I realized that overflow entries could be any value, not just multiple groups of 50 plus one group of the remaining mosquitos. To get an accurate measure of each trap's efficacy, I needed to consolidate all these split entries.\n",
    "\n",
    "To achieve this, I grouped the data by date, address, latitude, longitude, trap ID, and trap type. This grouping strategy allowed me to aggregate all the entries related to a single trap check, regardless of the mosquito species present or the number of mosquitoes caught. I then calculated the mean number of mosquitoes caught for each trap type to determine its trap efficacy.\n",
    "\n",
    "The resulting plot, shown with the work below, provides a visual representation of the average efficacy of each trap type.\n"
   ]
  },
  {
   "cell_type": "code",
   "execution_count": 31,
   "metadata": {},
   "outputs": [],
   "source": [
    "groupby_mosq_num = dirty_mosq_data.groupby(['Date', 'Address Block', 'Lat', 'Lon', 'Trap', 'Trap type'])['Mosquito number']\\\n",
    "    .sum().sort_values().reset_index().copy()\n",
    "    \n",
    "groupby_mosq_num['Date'] =pd.to_datetime(groupby_mosq_num['Date'])\n",
    "\n",
    "grouped_trap_type = groupby_mosq_num.groupby('Trap type')['Mosquito number']\\\n",
    "    .agg([ 'mean', 'median']).sort_values(by='mean', ascending=False)\n",
    "\n"
   ]
  },
  {
   "cell_type": "code",
   "execution_count": 32,
   "metadata": {},
   "outputs": [
    {
     "data": {
      "image/png": "[encoded data removed]",
      "text/plain": [
       "<Figure size 800x600 with 1 Axes>"
      ]
     },
     "metadata": {},
     "output_type": "display_data"
    },
    {
     "data": {
      "text/html": [
       "<div>\n",
       "<style scoped>\n",
       "    .dataframe tbody tr th:only-of-type {\n",
       "        vertical-align: middle;\n",
       "    }\n",
       "\n",
       "    .dataframe tbody tr th {\n",
       "        vertical-align: top;\n",
       "    }\n",
       "\n",
       "    .dataframe thead th {\n",
       "        text-align: right;\n",
       "    }\n",
       "</style>\n",
       "<table border=\"1\" class=\"dataframe\">\n",
       "  <thead>\n",
       "    <tr style=\"text-align: right;\">\n",
       "      <th></th>\n",
       "      <th>mean</th>\n",
       "      <th>median</th>\n",
       "    </tr>\n",
       "    <tr>\n",
       "      <th>Trap type</th>\n",
       "      <th></th>\n",
       "      <th></th>\n",
       "    </tr>\n",
       "  </thead>\n",
       "  <tbody>\n",
       "    <tr>\n",
       "      <th>SENTINEL</th>\n",
       "      <td>29.848837</td>\n",
       "      <td>19.5</td>\n",
       "    </tr>\n",
       "    <tr>\n",
       "      <th>CDC</th>\n",
       "      <td>28.266447</td>\n",
       "      <td>10.0</td>\n",
       "    </tr>\n",
       "    <tr>\n",
       "      <th>GRAVID</th>\n",
       "      <td>12.211785</td>\n",
       "      <td>6.0</td>\n",
       "    </tr>\n",
       "    <tr>\n",
       "      <th>OVI</th>\n",
       "      <td>1.000000</td>\n",
       "      <td>1.0</td>\n",
       "    </tr>\n",
       "  </tbody>\n",
       "</table>\n",
       "</div>"
      ],
      "text/plain": [
       "                mean  median\n",
       "Trap type                   \n",
       "SENTINEL   29.848837    19.5\n",
       "CDC        28.266447    10.0\n",
       "GRAVID     12.211785     6.0\n",
       "OVI         1.000000     1.0"
      ]
     },
     "execution_count": 32,
     "metadata": {},
     "output_type": "execute_result"
    }
   ],
   "source": [
    "# Create the boxplot with means\n",
    "sns.boxplot(data=groupby_mosq_num, x='Trap type', y='Mosquito number', showfliers=False)\n",
    "\n",
    "# Set x and y labels\n",
    "plt.xlabel('Trap Type')\n",
    "plt.ylabel('Average Mosquitoes Captured')\n",
    "plt.title('Trap Efficacy\\nDo Some Traps Work Better Than Others?')\n",
    "plt.grid(axis='y', alpha=.2) \n",
    "\n",
    "# Show the plot\n",
    "plt.show()\n",
    "\n",
    "grouped_trap_type"
   ]
  },
  {
   "attachments": {},
   "cell_type": "markdown",
   "metadata": {},
   "source": [
    "This shows that the Sentinel Traps are the most effective traps per instance, with the highest median mosquito captures of all the trap types of 19.5. CDC is the second most effective trap type with a median of 10, with an Upper Limit that is even higher than it the Sentinel Traps. The Gravid traps are the least effective traps per instance, with the its score of 6 making it the least efficacious all the trap types. The Ovi traps don't have enough data to make a good conclusion about their efficacy. \n",
    "\n",
    "However, I wanted to know if these traps maybe worked better in different seasons. For example, the Gravid trap might be more effective during mating season or the CDC trap might be more effective during the summer. To answer this question, I plotted the trap efficacy by month. "
   ]
  },
  {
   "cell_type": "code",
   "execution_count": 33,
   "metadata": {},
   "outputs": [
    {
     "data": {
      "text/html": [
       "<div>\n",
       "<style scoped>\n",
       "    .dataframe tbody tr th:only-of-type {\n",
       "        vertical-align: middle;\n",
       "    }\n",
       "\n",
       "    .dataframe tbody tr th {\n",
       "        vertical-align: top;\n",
       "    }\n",
       "\n",
       "    .dataframe thead th {\n",
       "        text-align: right;\n",
       "    }\n",
       "</style>\n",
       "<table border=\"1\" class=\"dataframe\">\n",
       "  <thead>\n",
       "    <tr style=\"text-align: right;\">\n",
       "      <th></th>\n",
       "      <th>Trap type</th>\n",
       "      <th>Date</th>\n",
       "      <th>mean</th>\n",
       "    </tr>\n",
       "  </thead>\n",
       "  <tbody>\n",
       "    <tr>\n",
       "      <th>12</th>\n",
       "      <td>OVI</td>\n",
       "      <td>6</td>\n",
       "      <td>1.000000</td>\n",
       "    </tr>\n",
       "    <tr>\n",
       "      <th>13</th>\n",
       "      <td>SENTINEL</td>\n",
       "      <td>6</td>\n",
       "      <td>9.666667</td>\n",
       "    </tr>\n",
       "    <tr>\n",
       "      <th>14</th>\n",
       "      <td>SENTINEL</td>\n",
       "      <td>7</td>\n",
       "      <td>21.020833</td>\n",
       "    </tr>\n",
       "    <tr>\n",
       "      <th>15</th>\n",
       "      <td>SENTINEL</td>\n",
       "      <td>8</td>\n",
       "      <td>36.342105</td>\n",
       "    </tr>\n",
       "    <tr>\n",
       "      <th>16</th>\n",
       "      <td>SENTINEL</td>\n",
       "      <td>9</td>\n",
       "      <td>31.071429</td>\n",
       "    </tr>\n",
       "  </tbody>\n",
       "</table>\n",
       "</div>"
      ],
      "text/plain": [
       "   Trap type  Date       mean\n",
       "12       OVI     6   1.000000\n",
       "13  SENTINEL     6   9.666667\n",
       "14  SENTINEL     7  21.020833\n",
       "15  SENTINEL     8  36.342105\n",
       "16  SENTINEL     9  31.071429"
      ]
     },
     "execution_count": 33,
     "metadata": {},
     "output_type": "execute_result"
    },
    {
     "data": {
      "image/png": "[encoded data removed]",
      "text/plain": [
       "<Figure size 800x600 with 1 Axes>"
      ]
     },
     "metadata": {},
     "output_type": "display_data"
    }
   ],
   "source": [
    "\n",
    "monthly_trap_average = groupby_mosq_num.groupby(['Trap type', groupby_mosq_num.Date.dt.month])['Mosquito number'].agg(['mean']).reset_index()\n",
    "\n",
    "sns.lineplot(x=monthly_trap_average.Date, y=monthly_trap_average['mean'], hue=monthly_trap_average['Trap type'], \\\n",
    "    hue_order=['SENTINEL', 'CDC', 'GRAVID', 'OVI'], marker='o')\n",
    "plt.xlabel('Month')\n",
    "plt.ylabel('Average Mosquitos Captured')\n",
    "plt.title('Seasonality of Traps\\nDo some traps work better in one month vs another')\n",
    "plt.grid(axis='y', alpha=.4)\n",
    "\n",
    "monthly_trap_average.tail(5)\n"
   ]
  },
  {
   "attachments": {},
   "cell_type": "markdown",
   "metadata": {},
   "source": [
    "This graph gives us an idea of which trap is the most effective during each season. It looks like the Gravid traps are relatively consistent throughout the whole season, averaging around 12 mosquitos caught per check. The CDC and the Sentinel traps are strong performers in the summer months from July to September peaking at almost 35-40 mosquitos per check during the month of August. It does however appear that the CDC trap is much less effective in the spring months, than its counterpart, the gravid trap. The Ovi traps are the least effective traps.\n",
    "\n",
    "Health department should consider putting out more of the Sentinel and CDC traps, especially during the summer, while using the Gravid traps in the spring to get an early idea of how severe the WNV prevalence will be that mosquito season.\n"
   ]
  },
  {
   "attachments": {},
   "cell_type": "markdown",
   "metadata": {},
   "source": [
    "\n",
    "### <a id='toc1_5_3_'></a>[3.3 Visual Exploration: Timeline and Geographical Heatmap of Prevalence](#toc0_)"
   ]
  },
  {
   "attachments": {},
   "cell_type": "markdown",
   "metadata": {},
   "source": [
    "For the final visualization, I aimed to accomplish two objectives: A timline and greographical heatmap of the prevalence of WNV.\n",
    "\n",
    "#### <a id='toc1_5_3_1_'></a>[3.3.1 Timeline of Yearly West Nile Virus Prevalence](#toc0_)\n",
    "\n",
    "   a. To plot the change in prevalence over time I grouped by batch size and year to determine the prevalence for each batch size in that year. After getting the prevalence for each batch in that year, I took a weighted mean and found the average overall prevalence for each year. "
   ]
  },
  {
   "cell_type": "code",
   "execution_count": 34,
   "metadata": {},
   "outputs": [
    {
     "data": {
      "text/html": [
       "<div>\n",
       "<style scoped>\n",
       "    .dataframe tbody tr th:only-of-type {\n",
       "        vertical-align: middle;\n",
       "    }\n",
       "\n",
       "    .dataframe tbody tr th {\n",
       "        vertical-align: top;\n",
       "    }\n",
       "\n",
       "    .dataframe thead th {\n",
       "        text-align: right;\n",
       "    }\n",
       "</style>\n",
       "<table border=\"1\" class=\"dataframe\">\n",
       "  <thead>\n",
       "    <tr style=\"text-align: right;\">\n",
       "      <th></th>\n",
       "      <th>mosquito_number</th>\n",
       "      <th>date</th>\n",
       "      <th>mean</th>\n",
       "      <th>count</th>\n",
       "      <th>not_prevalence</th>\n",
       "      <th>prevalence</th>\n",
       "    </tr>\n",
       "  </thead>\n",
       "  <tbody>\n",
       "    <tr>\n",
       "      <th>523</th>\n",
       "      <td>44</td>\n",
       "      <td>2012</td>\n",
       "      <td>0.000000</td>\n",
       "      <td>1</td>\n",
       "      <td>1.000000</td>\n",
       "      <td>0.000000</td>\n",
       "    </tr>\n",
       "    <tr>\n",
       "      <th>544</th>\n",
       "      <td>46</td>\n",
       "      <td>2012</td>\n",
       "      <td>0.900000</td>\n",
       "      <td>10</td>\n",
       "      <td>0.951176</td>\n",
       "      <td>0.048824</td>\n",
       "    </tr>\n",
       "    <tr>\n",
       "      <th>555</th>\n",
       "      <td>47</td>\n",
       "      <td>2012</td>\n",
       "      <td>0.000000</td>\n",
       "      <td>3</td>\n",
       "      <td>1.000000</td>\n",
       "      <td>0.000000</td>\n",
       "    </tr>\n",
       "    <tr>\n",
       "      <th>564</th>\n",
       "      <td>48</td>\n",
       "      <td>2012</td>\n",
       "      <td>0.000000</td>\n",
       "      <td>1</td>\n",
       "      <td>1.000000</td>\n",
       "      <td>0.000000</td>\n",
       "    </tr>\n",
       "    <tr>\n",
       "      <th>584</th>\n",
       "      <td>50</td>\n",
       "      <td>2012</td>\n",
       "      <td>0.555556</td>\n",
       "      <td>18</td>\n",
       "      <td>0.983912</td>\n",
       "      <td>0.016088</td>\n",
       "    </tr>\n",
       "  </tbody>\n",
       "</table>\n",
       "</div>"
      ],
      "text/plain": [
       "     mosquito_number  date      mean  count  not_prevalence  prevalence\n",
       "523               44  2012  0.000000      1        1.000000    0.000000\n",
       "544               46  2012  0.900000     10        0.951176    0.048824\n",
       "555               47  2012  0.000000      3        1.000000    0.000000\n",
       "564               48  2012  0.000000      1        1.000000    0.000000\n",
       "584               50  2012  0.555556     18        0.983912    0.016088"
      ]
     },
     "execution_count": 34,
     "metadata": {},
     "output_type": "execute_result"
    }
   ],
   "source": [
    "# group by year and mosquito number, calculate proportion of wnv_present\n",
    "prev_df_year = mosq_df.groupby(['mosquito_number', mosq_df.date.dt.year])['wnv_present'].agg(['mean', 'count']).reset_index()\n",
    "\n",
    "prev_df_year['count'] = prev_df_year['count'].apply(lambda x: np.nan if x < 1 else x )\n",
    "\n",
    "prev_df_year = prev_df_year.dropna()\n",
    "\n",
    "# then calculate prevalence and prevalence of not occurring\n",
    "prev_df_year['not_prevalence'] = (1-prev_df_year['mean'])**(1/prev_df_year['mosquito_number'])\n",
    "\n",
    "prev_df_year['prevalence'] = 1-prev_df_year.not_prevalence\n",
    "\n",
    "prev_df_year[prev_df_year.date==2012].tail(5)\n"
   ]
  },
  {
   "cell_type": "code",
   "execution_count": 35,
   "metadata": {},
   "outputs": [
    {
     "data": {
      "text/html": [
       "<div>\n",
       "<style scoped>\n",
       "    .dataframe tbody tr th:only-of-type {\n",
       "        vertical-align: middle;\n",
       "    }\n",
       "\n",
       "    .dataframe tbody tr th {\n",
       "        vertical-align: top;\n",
       "    }\n",
       "\n",
       "    .dataframe thead th {\n",
       "        text-align: right;\n",
       "    }\n",
       "</style>\n",
       "<table border=\"1\" class=\"dataframe\">\n",
       "  <thead>\n",
       "    <tr style=\"text-align: right;\">\n",
       "      <th></th>\n",
       "      <th>w_mean</th>\n",
       "      <th>w_std</th>\n",
       "      <th>w_se</th>\n",
       "      <th>weight</th>\n",
       "    </tr>\n",
       "    <tr>\n",
       "      <th>date</th>\n",
       "      <th></th>\n",
       "      <th></th>\n",
       "      <th></th>\n",
       "      <th></th>\n",
       "    </tr>\n",
       "  </thead>\n",
       "  <tbody>\n",
       "    <tr>\n",
       "      <th>2007</th>\n",
       "      <td>0.026953</td>\n",
       "      <td>0.014675</td>\n",
       "      <td>0.002075</td>\n",
       "      <td>300.0</td>\n",
       "    </tr>\n",
       "    <tr>\n",
       "      <th>2008</th>\n",
       "      <td>0.006101</td>\n",
       "      <td>0.011516</td>\n",
       "      <td>0.002005</td>\n",
       "      <td>198.0</td>\n",
       "    </tr>\n",
       "    <tr>\n",
       "      <th>2009</th>\n",
       "      <td>0.003938</td>\n",
       "      <td>0.008429</td>\n",
       "      <td>0.001350</td>\n",
       "      <td>234.0</td>\n",
       "    </tr>\n",
       "    <tr>\n",
       "      <th>2010</th>\n",
       "      <td>0.014666</td>\n",
       "      <td>0.019727</td>\n",
       "      <td>0.003044</td>\n",
       "      <td>252.0</td>\n",
       "    </tr>\n",
       "    <tr>\n",
       "      <th>2011</th>\n",
       "      <td>0.008161</td>\n",
       "      <td>0.011991</td>\n",
       "      <td>0.001713</td>\n",
       "      <td>294.0</td>\n",
       "    </tr>\n",
       "    <tr>\n",
       "      <th>2012</th>\n",
       "      <td>0.124639</td>\n",
       "      <td>0.262300</td>\n",
       "      <td>0.040000</td>\n",
       "      <td>258.0</td>\n",
       "    </tr>\n",
       "    <tr>\n",
       "      <th>2013</th>\n",
       "      <td>0.028612</td>\n",
       "      <td>0.021016</td>\n",
       "      <td>0.002972</td>\n",
       "      <td>300.0</td>\n",
       "    </tr>\n",
       "    <tr>\n",
       "      <th>2014</th>\n",
       "      <td>0.020023</td>\n",
       "      <td>0.012710</td>\n",
       "      <td>0.001797</td>\n",
       "      <td>300.0</td>\n",
       "    </tr>\n",
       "    <tr>\n",
       "      <th>2015</th>\n",
       "      <td>0.021359</td>\n",
       "      <td>0.017332</td>\n",
       "      <td>0.002555</td>\n",
       "      <td>276.0</td>\n",
       "    </tr>\n",
       "    <tr>\n",
       "      <th>2016</th>\n",
       "      <td>0.044839</td>\n",
       "      <td>0.019670</td>\n",
       "      <td>0.002782</td>\n",
       "      <td>300.0</td>\n",
       "    </tr>\n",
       "    <tr>\n",
       "      <th>2017</th>\n",
       "      <td>0.180907</td>\n",
       "      <td>0.337399</td>\n",
       "      <td>0.049747</td>\n",
       "      <td>276.0</td>\n",
       "    </tr>\n",
       "    <tr>\n",
       "      <th>2018</th>\n",
       "      <td>0.053263</td>\n",
       "      <td>0.109538</td>\n",
       "      <td>0.015810</td>\n",
       "      <td>288.0</td>\n",
       "    </tr>\n",
       "    <tr>\n",
       "      <th>2019</th>\n",
       "      <td>0.013782</td>\n",
       "      <td>0.019931</td>\n",
       "      <td>0.002939</td>\n",
       "      <td>276.0</td>\n",
       "    </tr>\n",
       "  </tbody>\n",
       "</table>\n",
       "</div>"
      ],
      "text/plain": [
       "        w_mean     w_std      w_se  weight\n",
       "date                                      \n",
       "2007  0.026953  0.014675  0.002075   300.0\n",
       "2008  0.006101  0.011516  0.002005   198.0\n",
       "2009  0.003938  0.008429  0.001350   234.0\n",
       "2010  0.014666  0.019727  0.003044   252.0\n",
       "2011  0.008161  0.011991  0.001713   294.0\n",
       "2012  0.124639  0.262300  0.040000   258.0\n",
       "2013  0.028612  0.021016  0.002972   300.0\n",
       "2014  0.020023  0.012710  0.001797   300.0\n",
       "2015  0.021359  0.017332  0.002555   276.0\n",
       "2016  0.044839  0.019670  0.002782   300.0\n",
       "2017  0.180907  0.337399  0.049747   276.0\n",
       "2018  0.053263  0.109538  0.015810   288.0\n",
       "2019  0.013782  0.019931  0.002939   276.0"
      ]
     },
     "execution_count": 35,
     "metadata": {},
     "output_type": "execute_result"
    }
   ],
   "source": [
    "# weighted means function and application\n",
    "\n",
    "year_aggregator = prev_df_year.groupby('date').apply(weighted_func).sort_index()\n",
    "\n",
    "year_aggregator"
   ]
  },
  {
   "cell_type": "code",
   "execution_count": 36,
   "metadata": {},
   "outputs": [
    {
     "data": {
      "image/png": "[encoded data removed]",
      "text/plain": [
       "<Figure size 1000x800 with 1 Axes>"
      ]
     },
     "metadata": {},
     "output_type": "display_data"
    }
   ],
   "source": [
    "plt.figure(figsize=(10, 8))  \n",
    "plt.fill_between(year_aggregator.index, year_aggregator['w_mean'] - 1.96*year_aggregator['w_se'],\\\n",
    "    year_aggregator['w_mean'] + 1.96*year_aggregator['w_se'], color='skyblue', alpha=0.5, label='95% Confidence Interval')\n",
    "\n",
    "plt.plot(year_aggregator.index, year_aggregator['w_mean'], color='red', label='Prevalence', marker='o')\n",
    "\n",
    "plt.ylabel('Prevalence (%)') \n",
    "plt.xlabel('Year')  \n",
    "plt.title('Prevalence of WNV by Year') \n",
    "plt.grid(axis='both', alpha=.4)  \n",
    "plt.yticks(np.linspace(0, .25, 6), [f\"{round(i)}%\" for i in np.linspace(0, .25, 6)*100])\n",
    "plt.xticks(year_aggregator.index, year_aggregator.index)\n",
    "\n",
    "plt.legend()\n",
    "\n",
    "plt.show()  \n"
   ]
  },
  {
   "attachments": {},
   "cell_type": "markdown",
   "metadata": {},
   "source": [
    "This reveals an interesting trend: a slow increase in baseline prevalence from 2007-2019 with major spikes in 2012 and 2017. Upon further investigation, I found that Chicago experienced WNV outbreaks in [2012](https://www.cdc.gov/media/releases/2013/a0513-west-nile.html), but I didn't see any outbreak in [2017](https://www.cdc.gov/westnile/statsmaps/cumMapsData.html). This discrepancy would motivate me to double check my numbers against other analysis if I was using this to advice policy. Nevertheless, there may be interesting factors in the years 2012 and 2017 that health officials might want to look into more if they want to predict future outbreaks."
   ]
  },
  {
   "attachments": {},
   "cell_type": "markdown",
   "metadata": {},
   "source": [
    "\n",
    "#### <a id='toc1_5_3_2_'></a>[3.3.2 Chloropleth Map of Prevalence by Zipcode](#toc0_)\n",
    "\n",
    "   a. For the final geoplot of prevalence, I used the `geopy` library with the `Nominatim` api to assign each longitude and latitude a zipcode. I then used the downloaded Chicago's geographical data in GeoDataFrame from `geopandas` and plotted a prevalence heatmap by zipcode with `geopandas`'s plot functions. \n"
   ]
  },
  {
   "attachments": {},
   "cell_type": "markdown",
   "metadata": {},
   "source": [
    "This is the code used to fetch the zipcodes for each lat/lon pair - it took 45 minutes to run. I saved my work into a pickle file called `zipcode_df.pkl` so I wouldn't have to run this code again.\n"
   ]
  },
  {
   "cell_type": "code",
   "execution_count": 37,
   "metadata": {},
   "outputs": [],
   "source": [
    "\n",
    "# zipcode_df = mosq_df[['lat', 'lon']].value_counts().reset_index().copy()\n",
    "# zipcode_df['zipcode'] = ''\n",
    "\n",
    "# geolocator = Nominatim(user_agent=\"myGeocoder\")\n",
    "# unable_to_find = []\n",
    "\n",
    "# for i, row in tqdm(zipcode_df.iterrows()):\n",
    "#     try:\n",
    "#         location = geolocator.reverse([row['lat'], row['lon']], exactly_one=True)\n",
    "#         zipcode_df.loc[i, 'zipcode'] = location.raw['address']['postcode']\n",
    "#     except:\n",
    "#         print(f'Was unable to retrieve zip code for {i}:{row.lat}, {row.lon}')\n",
    "#         unable_to_find.append(i)\n",
    "#     time.sleep(1)\n",
    "\n",
    "\n",
    "# exporting and saving the dataframe\n",
    "\n",
    "# zipcode_df.to_pickle('zipcode_df.pkl')\n"
   ]
  },
  {
   "cell_type": "code",
   "execution_count": 38,
   "metadata": {},
   "outputs": [
    {
     "data": {
      "text/html": [
       "<div>\n",
       "<style scoped>\n",
       "    .dataframe tbody tr th:only-of-type {\n",
       "        vertical-align: middle;\n",
       "    }\n",
       "\n",
       "    .dataframe tbody tr th {\n",
       "        vertical-align: top;\n",
       "    }\n",
       "\n",
       "    .dataframe thead th {\n",
       "        text-align: right;\n",
       "    }\n",
       "</style>\n",
       "<table border=\"1\" class=\"dataframe\">\n",
       "  <thead>\n",
       "    <tr style=\"text-align: right;\">\n",
       "      <th></th>\n",
       "      <th>week</th>\n",
       "      <th>address_block</th>\n",
       "      <th>trap</th>\n",
       "      <th>trap_type</th>\n",
       "      <th>date</th>\n",
       "      <th>mosquito_number</th>\n",
       "      <th>wnv_present</th>\n",
       "      <th>species</th>\n",
       "      <th>lat</th>\n",
       "      <th>lon</th>\n",
       "      <th>zipcode</th>\n",
       "    </tr>\n",
       "  </thead>\n",
       "  <tbody>\n",
       "    <tr>\n",
       "      <th>18490</th>\n",
       "      <td>36</td>\n",
       "      <td>3XX W 18TH ST</td>\n",
       "      <td>T043</td>\n",
       "      <td>GRAVID</td>\n",
       "      <td>2016-09-09 00:09:00</td>\n",
       "      <td>4</td>\n",
       "      <td>True</td>\n",
       "      <td>CULEX PIPIENS</td>\n",
       "      <td>41.857843</td>\n",
       "      <td>-87.635858</td>\n",
       "      <td>60616</td>\n",
       "    </tr>\n",
       "    <tr>\n",
       "      <th>18491</th>\n",
       "      <td>34</td>\n",
       "      <td>46XX N MILWAUKEE AVE</td>\n",
       "      <td>T003</td>\n",
       "      <td>GRAVID</td>\n",
       "      <td>2007-08-24 00:08:00</td>\n",
       "      <td>19</td>\n",
       "      <td>True</td>\n",
       "      <td>CULEX PIPIENS</td>\n",
       "      <td>41.965376</td>\n",
       "      <td>-87.758403</td>\n",
       "      <td>60630</td>\n",
       "    </tr>\n",
       "    <tr>\n",
       "      <th>18492</th>\n",
       "      <td>30</td>\n",
       "      <td>127XX S DOTY AVE</td>\n",
       "      <td>T115</td>\n",
       "      <td>GRAVID</td>\n",
       "      <td>2016-07-27 00:07:00</td>\n",
       "      <td>34</td>\n",
       "      <td>True</td>\n",
       "      <td>CULEX RESTUANS</td>\n",
       "      <td>41.662395</td>\n",
       "      <td>-87.590176</td>\n",
       "      <td>60633</td>\n",
       "    </tr>\n",
       "    <tr>\n",
       "      <th>18493</th>\n",
       "      <td>33</td>\n",
       "      <td>20XX N DOMINICK ST</td>\n",
       "      <td>T240B</td>\n",
       "      <td>SENTINEL</td>\n",
       "      <td>2017-08-17 00:08:00</td>\n",
       "      <td>50</td>\n",
       "      <td>True</td>\n",
       "      <td>CULEX RESTUANS</td>\n",
       "      <td>41.919197</td>\n",
       "      <td>-87.664758</td>\n",
       "      <td>60614</td>\n",
       "    </tr>\n",
       "    <tr>\n",
       "      <th>18494</th>\n",
       "      <td>33</td>\n",
       "      <td>100XX W OHARE AIRPORT</td>\n",
       "      <td>T902</td>\n",
       "      <td>GRAVID</td>\n",
       "      <td>2015-08-20 00:08:00</td>\n",
       "      <td>6</td>\n",
       "      <td>True</td>\n",
       "      <td>CULEX RESTUANS</td>\n",
       "      <td>41.979069</td>\n",
       "      <td>-87.906570</td>\n",
       "      <td>60666</td>\n",
       "    </tr>\n",
       "  </tbody>\n",
       "</table>\n",
       "</div>"
      ],
      "text/plain": [
       "       week          address_block   trap trap_type                date  \\\n",
       "18490    36          3XX W 18TH ST   T043    GRAVID 2016-09-09 00:09:00   \n",
       "18491    34   46XX N MILWAUKEE AVE   T003    GRAVID 2007-08-24 00:08:00   \n",
       "18492    30       127XX S DOTY AVE   T115    GRAVID 2016-07-27 00:07:00   \n",
       "18493    33     20XX N DOMINICK ST  T240B  SENTINEL 2017-08-17 00:08:00   \n",
       "18494    33  100XX W OHARE AIRPORT   T902    GRAVID 2015-08-20 00:08:00   \n",
       "\n",
       "       mosquito_number  wnv_present         species        lat        lon  \\\n",
       "18490                4         True   CULEX PIPIENS  41.857843 -87.635858   \n",
       "18491               19         True   CULEX PIPIENS  41.965376 -87.758403   \n",
       "18492               34         True  CULEX RESTUANS  41.662395 -87.590176   \n",
       "18493               50         True  CULEX RESTUANS  41.919197 -87.664758   \n",
       "18494                6         True  CULEX RESTUANS  41.979069 -87.906570   \n",
       "\n",
       "      zipcode  \n",
       "18490   60616  \n",
       "18491   60630  \n",
       "18492   60633  \n",
       "18493   60614  \n",
       "18494   60666  "
      ]
     },
     "execution_count": 38,
     "metadata": {},
     "output_type": "execute_result"
    }
   ],
   "source": [
    "# new dfs with zipcodes\n",
    "stored_zips = pd.read_pickle('Data/zipcode_df.pkl').drop(0, axis=1)\n",
    "\n",
    "mosq_df_with_zip = pd.merge(mosq_df, stored_zips, on=['lat', 'lon'], how='left')\n",
    "\n",
    "mosq_df_with_zip.tail()"
   ]
  },
  {
   "cell_type": "code",
   "execution_count": 39,
   "metadata": {},
   "outputs": [],
   "source": [
    "# group by year and mosquito number, calculate proportion of wnv_present\n",
    "zippy_mosq_df = mosq_df_with_zip.groupby(['mosquito_number', 'zipcode'])['wnv_present'].agg(['mean', 'count', 'std']).reset_index().dropna()\n",
    "\n",
    "zippy_mosq_df['count'] = zippy_mosq_df['count'].replace(0, np.nan)\n",
    "\n",
    "zippy_mosq_df = zippy_mosq_df.dropna()\n",
    "\n",
    "# then calculate not-prevalence and prevalence\n",
    "zippy_mosq_df['not_prevalence'] = (1-zippy_mosq_df['mean'])**(1/zippy_mosq_df['mosquito_number'])\n",
    "\n",
    "zippy_mosq_df['prevalence'] = 1-zippy_mosq_df.not_prevalence\n",
    "\n",
    "# weighted average function\n",
    "zippy_mosq_df = zippy_mosq_df.groupby('zipcode').apply(weighted_func).reset_index()\n"
   ]
  },
  {
   "cell_type": "code",
   "execution_count": 40,
   "metadata": {},
   "outputs": [
    {
     "data": {
      "text/html": [
       "<div>\n",
       "<style scoped>\n",
       "    .dataframe tbody tr th:only-of-type {\n",
       "        vertical-align: middle;\n",
       "    }\n",
       "\n",
       "    .dataframe tbody tr th {\n",
       "        vertical-align: top;\n",
       "    }\n",
       "\n",
       "    .dataframe thead th {\n",
       "        text-align: right;\n",
       "    }\n",
       "</style>\n",
       "<table border=\"1\" class=\"dataframe\">\n",
       "  <thead>\n",
       "    <tr style=\"text-align: right;\">\n",
       "      <th></th>\n",
       "      <th>objectid</th>\n",
       "      <th>shape_area</th>\n",
       "      <th>shape_len</th>\n",
       "      <th>zip</th>\n",
       "      <th>geometry</th>\n",
       "      <th>zipcode</th>\n",
       "      <th>w_mean</th>\n",
       "      <th>w_std</th>\n",
       "      <th>w_se</th>\n",
       "      <th>weight</th>\n",
       "    </tr>\n",
       "  </thead>\n",
       "  <tbody>\n",
       "    <tr>\n",
       "      <th>46</th>\n",
       "      <td>57.0</td>\n",
       "      <td>1.552855e+08</td>\n",
       "      <td>53406.915617</td>\n",
       "      <td>60623</td>\n",
       "      <td>POLYGON ((-87.69479 41.83008, -87.69486 41.830...</td>\n",
       "      <td>60623</td>\n",
       "      <td>0.081423</td>\n",
       "      <td>0.202883</td>\n",
       "      <td>0.038341</td>\n",
       "      <td>196.0</td>\n",
       "    </tr>\n",
       "    <tr>\n",
       "      <th>47</th>\n",
       "      <td>58.0</td>\n",
       "      <td>2.111148e+08</td>\n",
       "      <td>58701.325375</td>\n",
       "      <td>60629</td>\n",
       "      <td>POLYGON ((-87.68306 41.75786, -87.68306 41.757...</td>\n",
       "      <td>60629</td>\n",
       "      <td>0.195625</td>\n",
       "      <td>0.345699</td>\n",
       "      <td>0.057616</td>\n",
       "      <td>252.0</td>\n",
       "    </tr>\n",
       "    <tr>\n",
       "      <th>48</th>\n",
       "      <td>59.0</td>\n",
       "      <td>2.116961e+08</td>\n",
       "      <td>58466.160298</td>\n",
       "      <td>60620</td>\n",
       "      <td>POLYGON ((-87.62373 41.72167, -87.62388 41.721...</td>\n",
       "      <td>60620</td>\n",
       "      <td>0.111696</td>\n",
       "      <td>0.275302</td>\n",
       "      <td>0.044660</td>\n",
       "      <td>266.0</td>\n",
       "    </tr>\n",
       "    <tr>\n",
       "      <th>49</th>\n",
       "      <td>60.0</td>\n",
       "      <td>1.254243e+08</td>\n",
       "      <td>52377.854541</td>\n",
       "      <td>60637</td>\n",
       "      <td>POLYGON ((-87.57691 41.79511, -87.57700 41.795...</td>\n",
       "      <td>60637</td>\n",
       "      <td>0.036810</td>\n",
       "      <td>0.057829</td>\n",
       "      <td>0.021857</td>\n",
       "      <td>49.0</td>\n",
       "    </tr>\n",
       "    <tr>\n",
       "      <th>50</th>\n",
       "      <td>61.0</td>\n",
       "      <td>1.678720e+08</td>\n",
       "      <td>53040.907078</td>\n",
       "      <td>60619</td>\n",
       "      <td>POLYGON ((-87.58592 41.75150, -87.58592 41.751...</td>\n",
       "      <td>60619</td>\n",
       "      <td>0.023528</td>\n",
       "      <td>0.025292</td>\n",
       "      <td>0.004215</td>\n",
       "      <td>252.0</td>\n",
       "    </tr>\n",
       "  </tbody>\n",
       "</table>\n",
       "</div>"
      ],
      "text/plain": [
       "    objectid    shape_area     shape_len    zip  \\\n",
       "46      57.0  1.552855e+08  53406.915617  60623   \n",
       "47      58.0  2.111148e+08  58701.325375  60629   \n",
       "48      59.0  2.116961e+08  58466.160298  60620   \n",
       "49      60.0  1.254243e+08  52377.854541  60637   \n",
       "50      61.0  1.678720e+08  53040.907078  60619   \n",
       "\n",
       "                                             geometry zipcode    w_mean  \\\n",
       "46  POLYGON ((-87.69479 41.83008, -87.69486 41.830...   60623  0.081423   \n",
       "47  POLYGON ((-87.68306 41.75786, -87.68306 41.757...   60629  0.195625   \n",
       "48  POLYGON ((-87.62373 41.72167, -87.62388 41.721...   60620  0.111696   \n",
       "49  POLYGON ((-87.57691 41.79511, -87.57700 41.795...   60637  0.036810   \n",
       "50  POLYGON ((-87.58592 41.75150, -87.58592 41.751...   60619  0.023528   \n",
       "\n",
       "       w_std      w_se  weight  \n",
       "46  0.202883  0.038341   196.0  \n",
       "47  0.345699  0.057616   252.0  \n",
       "48  0.275302  0.044660   266.0  \n",
       "49  0.057829  0.021857    49.0  \n",
       "50  0.025292  0.004215   252.0  "
      ]
     },
     "execution_count": 40,
     "metadata": {},
     "output_type": "execute_result"
    }
   ],
   "source": [
    "\n",
    "\n",
    "# Load a GeoDataFrame with the boundaries of Chicago's zip codes\n",
    "zipcodes = gpd.read_file('shpfiles\\geo_export_550ff9f7-fae6-4491-9e69-77ab0f21d9e8.shx')\n",
    "\n",
    "# Merge your data with the GeoDataFrame based on the zipcode\n",
    "merged = pd.merge(zipcodes, zippy_mosq_df, right_on = 'zipcode', left_on='zip', how = 'inner')\n",
    "merged.tail()"
   ]
  },
  {
   "cell_type": "code",
   "execution_count": 41,
   "metadata": {},
   "outputs": [],
   "source": [
    "# Plot the heatmap\n",
    "merged.plot(column='w_mean', cmap='OrRd', scheme=\"quantiles\",\\\n",
    "    k=4, edgecolor='k', linewidth=0.5, legend=True, legend_kwds={'loc': 'lower left', 'title': 'Prevalence (%)'})\n",
    "\n",
    "# # Set the title and colorbar labels\n",
    "plt.title('Chicago Hot Spots\\nPrevalence of West Nile Virus by Zipcode', fontsize=16)\n",
    "\n",
    "# Remove the axis ticks\n",
    "plt.xticks([])\n",
    "plt.yticks([])\n",
    "plt.box(False)\n",
    "plt.show();"
   ]
  },
  {
   "attachments": {},
   "cell_type": "markdown",
   "metadata": {},
   "source": [
    "This graphic show that their is a quite a few hot spots throughout the city where the prevalence of WNV is greater than 16% on average. The city of chicago should like aim their efforts at WNV infection awareness and bug repellant distribution in these areas. Beyond that, the city should also consider spraying for mosquitos in these areas and attempting to remove mosquito breeding grounds.\n",
    "\n",
    "This map was partially inspired by the [GeoPandas documentation](https://geopandas.org/en/stable/gallery/choropleths.html)."
   ]
  }
 ],
 "metadata": {
  "kernelspec": {
   "display_name": "base",
   "language": "python",
   "name": "python3"
  },
  "language_info": {
   "codemirror_mode": {
    "name": "ipython",
    "version": 3
   },
   "file_extension": ".py",
   "mimetype": "text/x-python",
   "name": "python",
   "nbconvert_exporter": "python",
   "pygments_lexer": "ipython3",
   "version": "3.9.16"
  },
  "orig_nbformat": 4
 },
 "nbformat": 4,
 "nbformat_minor": 2
}
